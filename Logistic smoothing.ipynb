{
 "cells": [
  {
   "cell_type": "code",
   "execution_count": 1,
   "metadata": {
    "collapsed": true
   },
   "outputs": [],
   "source": [
    "import pandas as pd\n",
    "import numpy as np\n",
    "import matplotlib.pyplot as plt\n",
    "from sklearn.preprocessing import Imputer\n",
    "from sklearn.linear_model import LogisticRegression\n",
    "from sklearn.preprocessing import StandardScaler\n",
    "from sklearn.cross_validation import cross_val_score\n",
    "from sklearn.grid_search import GridSearchCV\n",
    "import statsmodels.discrete.discrete_model as sm\n",
    "import sklearn.metrics as sklm\n",
    "import random\n",
    "import warnings \n",
    "import math\n",
    "warnings.filterwarnings(\"ignore\") # Ignore annoying warnings\n",
    "\n",
    "dataDir = './Data/'\n",
    "mungedFileName = dataDir + 'mungedData.pkl'\n",
    "\n",
    "cdf = pd.read_pickle(mungedFileName)"
   ]
  },
  {
   "cell_type": "code",
   "execution_count": 2,
   "metadata": {
    "collapsed": true
   },
   "outputs": [],
   "source": [
    "# y is True if any readmission variable is hot. It's NaN if all variables are null.\n",
    "y = cdf[['READMISSION1-Yes','READMISSION-Yes']].any(1)\n",
    "y[cdf[['READMISSION1-Yes','READMISSION-Yes']].isnull().all(1)] = np.nan\n",
    "\n",
    "# Would like to drop rows with NaN y data\n",
    "nanIdx = np.isnan(y).nonzero()\n",
    "y = np.delete(y.ravel(), nanIdx ,axis=0)\n",
    "cdf.drop(cdf.index[nanIdx], axis=0, inplace=True)\n",
    "\n",
    "# Either drop or keep columns from cdf\n",
    "dropOrKeep = False\n",
    "if dropOrKeep:\n",
    "    dropList = ['READMISSION-','READMISSION1-','REOPERATION-',\\\n",
    "                'REOPERATION1-','NWNDINFD-','WNDINFD-','DEHIS-','NDEHIS-',\\\n",
    "                'MORBPROB','NSUPINFEC-','SUPINFEC-','RETORPODAYS','OTHSYSEP',\\\n",
    "                'NOTHSYSEP-']\n",
    "    colsToDrop = [colName for colName in cdf.columns if np.any([dropItem in colName for dropItem in dropList])]\n",
    "    cdf = cdf.drop(colsToDrop,1)\n",
    "    print('Dropped some variables: ')\n",
    "    print(colsToDrop)\n",
    "    # These are being dropped automatically by Imputer\n",
    "    colsToDrop = [ 4,5,6,16,17,18,137,191,192,193,194,195,212,213,214,236,237,238,\\\n",
    "                  239,284,285,316,317,350,351,411,412,413,414,505,506,507,514,517]\n",
    "    cdf = cdf.drop(cdf.columns[colsToDrop],axis=1)\n",
    "    \n",
    "else:\n",
    "    # Dropping these columns is super-cumbersome. Let's find a list to keep\n",
    "    # Need to add FNSTATUS1 and RBC\n",
    "    keepList = ['SEX', 'RACE_NEW','ETHNICITY_HISPANIC','AGE','ANESTHES','HEIGHT','WEIGHT','DIABETES',\\\n",
    "                'SMOKE','PACKS','ETOH','DYSPNEA','FNSTATUS2','VENTILAT','HXCOPD','CPNEUMON',\\\n",
    "                'HXCHF','HXMI','PRVPCI','PRVPCS','HXANGINA','HYPERMED','HXPVD','RENAFAIL','DIALYSIS',\\\n",
    "                'CVA','DISCANCR','WNDINF','STEROID','WTLOSS','BLEEDDIS','PROPER30','ASACLASS',\\\n",
    "                'ASCITES','PRSODM','PRBUN','PRCREAT','PRALBUM','PRBILI','PRSGOT','PRALKPH','PRWBC'\\\n",
    "                'PRHCT','PRPLATE','PRPTT','PRINR','PRPT','PGY']\n",
    "    colsToKeep = [colName for colName in cdf.columns if np.any([keepItem in colName for keepItem in keepList])]\n",
    "    cdf = cdf[colsToKeep]"
   ]
  },
  {
   "cell_type": "code",
   "execution_count": 3,
   "metadata": {
    "collapsed": true
   },
   "outputs": [],
   "source": [
    "# Add an intercept\n",
    "cdf['intercept'] = 1.0\n",
    "\n",
    "# Impute missing data in cdf\n",
    "colNames = cdf.columns\n",
    "imp = Imputer(missing_values='NaN', strategy='mean', axis=0, verbose=True)\n",
    "imp.fit(cdf)\n",
    "X = imp.transform(cdf)\n",
    "cdf = pd.DataFrame(X, columns=colNames)"
   ]
  },
  {
   "cell_type": "code",
   "execution_count": 4,
   "metadata": {
    "collapsed": true
   },
   "outputs": [],
   "source": [
    "class gaussianKernel():\n",
    "    \n",
    "    def __init__(self, sampleInterval=1, sigma=1):\n",
    "        self.sampleInterval = sampleInterval\n",
    "        self.sigma = sigma\n",
    "\n",
    "        nSigmas = 3\n",
    "        nX = round(2*nSigmas*sigma/sampleInterval) + 1\n",
    "        self.x = np.linspace(-nSigmas*sigma,nSigmas*sigma,nX)\n",
    "        self.kernel = 1/(sigma*math.sqrt(2*math.pi))*np.exp(-self.x*self.x/(2*sigma*sigma))\n",
    "        return \n",
    "\n",
    "    def plotKernel(self, axis):\n",
    "    \n",
    "        yScale = .25   \n",
    "        xlims = axis.get_xlim()\n",
    "        ylims = axis.get_ylim()\n",
    "\n",
    "        # Plot the kernel on the plot\n",
    "        plt.plot(self.x - self.x.min() + xlims[0], \\\n",
    "                 self.kernel*yScale*(ylims[1]-ylims[0])/self.kernel.max() + ylims[0],\\\n",
    "                 label='Kernel')\n",
    "        return"
   ]
  },
  {
   "cell_type": "code",
   "execution_count": 38,
   "metadata": {
    "collapsed": false
   },
   "outputs": [],
   "source": [
    "# Alternative, make a lookup table predictor, and maximize the cross-validated ROC AUC\n",
    "from sklearn.base import BaseEstimator\n",
    "class smoothedLookupEstimator(BaseEstimator):\n",
    " \n",
    "    def __init__(self, sigma=1, nBins=512, modelX=[], modelY=[]):\n",
    "        self.sigma = sigma\n",
    "        self.nBins = nBins\n",
    "        self.modelX = modelX\n",
    "        self.modelY = modelY\n",
    "        self._estimator_type = \"classifier\"\n",
    "        self.G = []\n",
    "        self.bootedCI = False\n",
    "        self.lowCI = []\n",
    "        self.upCI = []\n",
    "        return\n",
    "\n",
    "    def fit(self, X, y):\n",
    "        \n",
    "        binEdges = np.linspace(X.min(),X.max()+1, self.nBins + 1)\n",
    "        binWidth = binEdges[1] - binEdges[0]\n",
    "        \n",
    "        totalCounts, _ = np.histogram(X,bins=binEdges)\n",
    "        targetCounts, _ = np.histogram(X[y==1],bins=binEdges)\n",
    "        \n",
    "        self.G = gaussianKernel( binWidth, self.sigma)\n",
    "        smTotal = np.convolve(totalCounts,self.G.kernel,mode='same')\n",
    "        smTarget = np.convolve(targetCounts,self.G.kernel,mode='same')\n",
    "        \n",
    "        self.modelX = binEdges[0:-1] + binWidth/2\n",
    "        self.modelY = smTarget/smTotal\n",
    "        return\n",
    "        \n",
    "    def score(self, X, y):\n",
    "        predRes = self.predict_proba(X)\n",
    "        rocAUC = sklm.roc_auc_score(y,predRes)\n",
    "        return rocAUC\n",
    "    \n",
    "    def predict_proba(self, X):\n",
    "        \n",
    "        sizeX = len(X)\n",
    "        sizeModel = len(self.modelX)\n",
    "        bigX = X.reshape(1,-1).repeat(sizeModel,axis=0)\n",
    "        bigModel = self.modelX.reshape(-1,1).repeat(sizeX,axis=1)\n",
    "        \n",
    "        idx = (np.abs(bigX - bigModel)).argmin(axis=0)\n",
    "        return self.modelY[idx]\n",
    "    \n",
    "    def bootModelCI(self, X, y, nBoots, alpha):\n",
    "\n",
    "        binEdges = np.linspace(X.min(),X.max()+1, self.nBins + 1)\n",
    "        nSamp = len(y)\n",
    "        \n",
    "        print('Bootstrapping confidence intervals...')\n",
    "        bootCurves = np.empty((nBoots,len(self.modelX)))\n",
    "        for bootN in np.arange(nBoots):\n",
    "            # Draw a collection of observations from the data with replacement\n",
    "            sampIdx = [random.randint(0,nSamp-1) for n in np.arange(nSamp)]\n",
    "            bootX = X[sampIdx]\n",
    "            bootY = y[sampIdx]\n",
    "          \n",
    "            bootTotalCounts, _ = np.histogram(bootX,bins=binEdges)\n",
    "            bootTargetCounts, _ = np.histogram(bootX[bootY==1],bins=binEdges)\n",
    "            \n",
    "            bSmTotal = np.convolve(bootTotalCounts,self.G.kernel,mode='same')\n",
    "            bSmTarget = np.convolve(bootTargetCounts,self.G.kernel,mode='same')\n",
    "            \n",
    "            bootCurves[bootN,:] = bSmTarget/bSmTotal\n",
    "    \n",
    "        lciIdx = round(alpha/2*(nBoots-1))\n",
    "        uciIdx = round((1-alpha/2)*(nBoots-1))\n",
    "        bootCurves.sort(axis=0)\n",
    "        self.lowCI = bootCurves[lciIdx,:]\n",
    "        self.upCI  = bootCurves[uciIdx,:]\n",
    "        self.bootedCI = True\n",
    "        return \n",
    "    \n",
    "    def plotModel(self,axis):\n",
    "        plt.plot(self.modelX,self.modelY)\n",
    "        if self.bootedCI:\n",
    "            plt.fill_between(self.modelX, self.upCI, self.lowCI, color='gray', alpha=0.5)\n",
    "        self.G.plotKernel(axis)\n",
    "        plt.ylabel('P(y | X)')\n",
    "        plt.xlabel('X')\n",
    "        plt.show()\n",
    "        return\n",
    "    "
   ]
  },
  {
   "cell_type": "code",
   "execution_count": 36,
   "metadata": {
    "collapsed": false
   },
   "outputs": [],
   "source": [
    "X = cdf['AGE']"
   ]
  },
  {
   "cell_type": "code",
   "execution_count": 39,
   "metadata": {
    "collapsed": false
   },
   "outputs": [
    {
     "name": "stdout",
     "output_type": "stream",
     "text": [
      "Fitting 10 folds for each of 20 candidates, totalling 200 fits\n"
     ]
    },
    {
     "name": "stderr",
     "output_type": "stream",
     "text": [
      "[Parallel(n_jobs=1)]: Done  49 tasks       | elapsed:    1.1s\n",
      "[Parallel(n_jobs=1)]: Done 199 tasks       | elapsed:    4.4s\n",
      "[Parallel(n_jobs=1)]: Done 200 out of 200 | elapsed:    4.5s finished\n"
     ]
    },
    {
     "data": {
      "text/plain": [
       "GridSearchCV(cv=10, error_score='raise',\n",
       "       estimator=smoothedLookupEstimator(modelX=[], modelY=[], nBins=512, sigma=1),\n",
       "       fit_params={}, iid=True, n_jobs=1,\n",
       "       param_grid=[{'sigma': array([  0.1    ,   0.13215,   0.17462,   0.23076,   0.30494,   0.40296,\n",
       "         0.5325 ,   0.70367,   0.92987,   1.22878,   1.62378,   2.14575,\n",
       "         2.83551,   3.747  ,   4.9515 ,   6.54319,   8.64654,  11.42601,\n",
       "        15.09897,  19.95262])}],\n",
       "       pre_dispatch='2*n_jobs', refit=True, scoring=None, verbose=1)"
      ]
     },
     "execution_count": 39,
     "metadata": {},
     "output_type": "execute_result"
    }
   ],
   "source": [
    "sle = smoothedLookupEstimator(nBins=512)\n",
    "tuned_parameters = [{'sigma': np.logspace(-1,1.3,20,base=10)}]\n",
    "gscv = GridSearchCV(sle,tuned_parameters,cv=10,verbose=1)\n",
    "gscv.fit(X, y)"
   ]
  },
  {
   "cell_type": "code",
   "execution_count": 40,
   "metadata": {
    "collapsed": false
   },
   "outputs": [
    {
     "data": {
      "image/png": "[encoded data removed]",
      "text/plain": [
       "<matplotlib.figure.Figure at 0x109be5550>"
      ]
     },
     "metadata": {},
     "output_type": "display_data"
    },
    {
     "name": "stdout",
     "output_type": "stream",
     "text": [
      "Best sigma = 3.747\n"
     ]
    }
   ],
   "source": [
    "gscv.grid_scores_\n",
    "means = [mean_score for params, mean_score, scores in gscv.grid_scores_]\n",
    "Cs = [params['sigma'] for params, mean_score, scores in gscv.grid_scores_]\n",
    "plt.plot(np.log10(Cs), means)\n",
    "bestC = gscv.best_params_['sigma']\n",
    "ylims = plt.gca().get_ylim()\n",
    "plt.plot(np.log10([bestC, bestC]),ylims,color='k',ls=':')\n",
    "plt.ylim(ylims)\n",
    "plt.xlabel('$Log_{10}(sigma)$')\n",
    "plt.ylabel('Cross-validated AUC')\n",
    "plt.show()\n",
    "print('Best sigma = %.3f' % bestC)"
   ]
  },
  {
   "cell_type": "code",
   "execution_count": 41,
   "metadata": {
    "collapsed": false
   },
   "outputs": [
    {
     "name": "stdout",
     "output_type": "stream",
     "text": [
      "Bootstrapping confidence intervals...\n"
     ]
    },
    {
     "data": {
      "image/png": "[encoded data removed]",
      "text/plain": [
       "<matplotlib.figure.Figure at 0x117ec9b38>"
      ]
     },
     "metadata": {},
     "output_type": "display_data"
    }
   ],
   "source": [
    "sle = smoothedLookupEstimator(sigma=bestC)\n",
    "sle.fit(X,y)\n",
    "sle.bootModelCI(X,y,200,0.05)\n",
    "sle.plotModel(plt.gca())"
   ]
  },
  {
   "cell_type": "code",
   "execution_count": null,
   "metadata": {
    "collapsed": false
   },
   "outputs": [],
   "source": []
  }
 ],
 "metadata": {
  "kernelspec": {
   "display_name": "Python 3",
   "language": "python",
   "name": "python3"
  },
  "language_info": {
   "codemirror_mode": {
    "name": "ipython",
    "version": 3
   },
   "file_extension": ".py",
   "mimetype": "text/x-python",
   "name": "python",
   "nbconvert_exporter": "python",
   "pygments_lexer": "ipython3",
   "version": "3.5.2"
  }
 },
 "nbformat": 4,
 "nbformat_minor": 1
}
