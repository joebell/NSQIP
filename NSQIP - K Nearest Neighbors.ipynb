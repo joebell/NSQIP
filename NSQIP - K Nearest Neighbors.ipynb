{
 "cells": [
  {
   "cell_type": "markdown",
   "metadata": {},
   "source": [
    "# NSQIP - K Nearest Neighbors\n",
    "---\n",
    "\n",
    "\n",
    "Here we'll try to fit a K Nearest Neighbors classifier. This dataset seems to have some significant non-linearities associated with it, and we have lots of cases, so it makes sense to try to fit points based on cases with similar data. \n",
    "\n",
    "Which points should be considered similar? This amounts to choosing a scaling factor to estimate how much weight to give to each potential predictor. We'll undertake a search to find the optimal scaling factor (and the number of neighbors K) using cross validation.\n",
    "\n",
    "Our strategy is:\n",
    " - Divide the data into training and testing sets.\n",
    " - Choose hyper-parameters (including weights for each predictor) via cross validation.\n",
    " - Fit the model training set with the best hyper-parameters.\n",
    " - Check performance on the testing set."
   ]
  },
  {
   "cell_type": "markdown",
   "metadata": {},
   "source": [
    "Begin with imports of key libraries, and load the data."
   ]
  },
  {
   "cell_type": "code",
   "execution_count": 1,
   "metadata": {
    "collapsed": true
   },
   "outputs": [],
   "source": [
    "import pandas as pd\n",
    "import numpy as np\n",
    "import matplotlib.pyplot as plt\n",
    "from sklearn.preprocessing import Imputer\n",
    "from sklearn.preprocessing import StandardScaler\n",
    "from sklearn.cross_validation import cross_val_score\n",
    "from sklearn.grid_search import GridSearchCV\n",
    "from sklearn.neighbors import KNeighborsClassifier\n",
    "import sklearn.metrics as sklm\n",
    "import random\n",
    "import warnings \n",
    "import math\n",
    "# warnings.filterwarnings(\"ignore\") # Ignore annoying warnings\n",
    "\n",
    "dataDir = './Data/'\n",
    "mungedFileName = dataDir + 'mungedData.pkl'\n",
    "\n",
    "cdf = pd.read_pickle(mungedFileName)"
   ]
  },
  {
   "cell_type": "markdown",
   "metadata": {},
   "source": [
    "Next, determine which response and predictor columns we want to use."
   ]
  },
  {
   "cell_type": "code",
   "execution_count": 2,
   "metadata": {
    "collapsed": false
   },
   "outputs": [],
   "source": [
    "# y is True if any readmission variable is hot. It's NaN if all variables are null.\n",
    "yFull = cdf[['READMISSION1-Yes','READMISSION-Yes']].any(1)\n",
    "yFull[cdf[['READMISSION1-Yes','READMISSION-Yes']].isnull().all(1)] = np.nan\n",
    "\n",
    "# yFull = cdf['SUPINFEC-No Complication']\n",
    "\n",
    "\n",
    "# Drop rows with NaN outcome y data\n",
    "nanIdx = np.isnan(yFull).nonzero()\n",
    "yFull = np.delete(yFull.ravel(), nanIdx ,axis=0).reshape(-1,1)\n",
    "cdf.drop(cdf.index[nanIdx], axis=0, inplace=True)\n",
    "\n",
    "# Add a BMI column\n",
    "cdf.loc[:,'BMI'] = cdf.loc[:,'WEIGHT']*(1/2.20462)/(cdf.loc[:,'HEIGHT']*(1/39.3701)*\\\n",
    "                                                    cdf.loc[:,'HEIGHT']*(1/39.3701))\n",
    "\n",
    "# List of predictors to keep\n",
    "keepList1 = ['SEX', 'RACE_NEW','ETHNICITY_HISPANIC','AGE','ANESTHES','HEIGHT','WEIGHT','BMI',\\\n",
    "             'DIABETES','SMOKE','PACKS','ETOH','DYSPNEA','FNSTATUS2','VENTILAT',\\\n",
    "             'HXCOPD','CPNEUMON','HXCHF','HXMI','PRVPCI','PRVPCS','HXANGINA','HYPERMED',\\\n",
    "             'HXPVD','RENAFAIL','DIALYSIS','CVA','DISCANCR','WNDINF-','STEROID','WTLOSS',\\\n",
    "             'BLEEDDIS','PROPER30','ASACLASS','FNSTATUS1','RBC']\n",
    "# An additional list of predictors that might be interesting\n",
    "keepList2 = ['ASCITES','PRSODM','PRBUN','PRCREAT','PRALBUM','PRBILI','PRSGOT','PRALKPH',\\\n",
    "             'PRWBC','PRHCT','PRPLATE','PRPTT','PRINR','PRPT','PGY','ESOVAR','RESTPAIN',\\\n",
    "             'HXTIA','TRANSFUS','CHEMO','RADIO','PRSEPSIS','PREGNANCY','EMERGNCY',\\\n",
    "             'OPTIME','MALLAMP']\n",
    "\n",
    "# Combine the lists\n",
    "keepList = keepList1 + keepList2\n",
    "# Make a list of any column in cdf whose name starts with a string in keepList\n",
    "colsToKeep = [colName for colName in cdf.columns \\\n",
    "              if np.any([colName.startswith(keepItem) for keepItem in keepList])]\n",
    "cdf = cdf[colsToKeep]"
   ]
  },
  {
   "cell_type": "markdown",
   "metadata": {},
   "source": [
    "We will drop predictors that don't have any variance. (This can happen because we already dropped a bunch of cases for which our outcomes are not recorded.)\n",
    "\n",
    "These regression models will fail on missing data, so we'll impute missing data for each column by setting it equal to the mean.\n",
    "\n",
    "Since our regularization penalty is based on the size of the coefficients, we need to scale each column to have equal mean and variance. We don't need to add an intercept column; sklearn gives us an intercept as a fit option."
   ]
  },
  {
   "cell_type": "code",
   "execution_count": 3,
   "metadata": {
    "collapsed": false
   },
   "outputs": [
    {
     "name": "stdout",
     "output_type": "stream",
     "text": [
      "Not enough variance, dropping column: ANESTHES-Monitored Anesthesia Care\n",
      "Not enough variance, dropping column: CPNEUMON-Yes\n",
      "Not enough variance, dropping column: DIABETES-ORAL\n",
      "Not enough variance, dropping column: FNSTATUS1-Independent\n",
      "Not enough variance, dropping column: FNSTATUS1-Partially Dependent\n",
      "Not enough variance, dropping column: FNSTATUS1-Totally Dependent\n",
      "Not enough variance, dropping column: MALLAMP-1.0\n",
      "Not enough variance, dropping column: MALLAMP-2.0\n",
      "Not enough variance, dropping column: MALLAMP-3.0\n",
      "Not enough variance, dropping column: MALLAMP-4.0\n",
      "Not enough variance, dropping column: RBC\n"
     ]
    }
   ],
   "source": [
    "# Protect against only having one value in the columns.\n",
    "# (Imputer will drop these columns, and then we won't know the names...)\n",
    "for colName in cdf.columns:\n",
    "    colData = cdf[colName]\n",
    "    uniques = np.unique(colData)\n",
    "    nonNanUniques = [item for item in uniques if ~np.isnan(item)]\n",
    "    if len(nonNanUniques) < 2:\n",
    "        print('Not enough variance, dropping column: %s' % colName)\n",
    "        cdf.drop(colName, axis=1, inplace=True)\n",
    "\n",
    "# Impute missing data in cdf\n",
    "colNames = cdf.columns\n",
    "imp = Imputer(missing_values='NaN', strategy='mean', axis=0, verbose=True)\n",
    "imp.fit(cdf)\n",
    "X = imp.transform(cdf)\n",
    "X = pd.DataFrame(X, columns=colNames)\n",
    "\n",
    "# We should scale columns here...\n",
    "X = StandardScaler().fit_transform(X)\n",
    "scaledX = pd.DataFrame(X, columns=colNames)"
   ]
  },
  {
   "cell_type": "markdown",
   "metadata": {},
   "source": [
    "We break the data into separate fractions for training (2/3) and testing (1/3). All of our fitting and cross-validation will be done on the training set. The testing set will be held out to evaluate the final model performance."
   ]
  },
  {
   "cell_type": "code",
   "execution_count": 4,
   "metadata": {
    "collapsed": false
   },
   "outputs": [],
   "source": [
    "# Split for validation\n",
    "from sklearn.cross_validation import train_test_split\n",
    "X_train, X_test, y_train, y_test = train_test_split(scaledX, yFull, test_size=0.33)\n",
    "y_train = y_train.reshape(-1,)\n",
    "y_test = y_test.reshape(-1,)"
   ]
  },
  {
   "cell_type": "code",
   "execution_count": 55,
   "metadata": {
    "collapsed": false
   },
   "outputs": [
    {
     "name": "stdout",
     "output_type": "stream",
     "text": [
      "Score: 0.656\n",
      "[ 0.70593461  0.96490395  0.9131209   0.78270407  1.06821565  0.9342324\n",
      "  1.12963513  0.99586724  0.78517355  1.01901055  0.84403914  0.90752837\n",
      "  0.7248923   0.88202918  0.95051964  1.07697877  0.99694638  0.93679371\n",
      "  0.71697789  0.76831358  0.86742968  1.00420126  0.94793346  0.99483474\n",
      "  0.91551468  0.86467099  0.90170678  0.96285518  0.86818822  0.9614515\n",
      "  1.18067461  0.86066564  0.89027887  0.82526276  0.95215493  1.0910396\n",
      "  0.88723371  0.84946388  0.71064974  1.10489796  1.1592028   1.04073204\n",
      "  1.06034411  0.8912064   0.94908561  1.08675342  0.71277728  1.11596708\n",
      "  0.94883338  1.03684821  0.93696571  1.01830652  0.9833305   0.89756956\n",
      "  0.81153073  0.87582268  0.99137866  0.92634195  0.96242322  0.88483467\n",
      "  0.98993456  0.97190939  0.97549718  0.82430437  0.77483926  0.91074698\n",
      "  0.94613641  0.99910769  1.04965073  0.66790463  0.8067865   0.94041845\n",
      "  0.80381772  0.98243495  0.922969    0.9067739   0.97795689  1.09461058\n",
      "  0.99353622  0.99572593  0.91509871  0.90309416  1.00634705  0.87311631\n",
      "  0.78947453]\n",
      "Score: 0.663\n",
      "[ 0.70453329  0.96444956  0.91278205  0.78199841  1.06814985  0.93354045\n",
      "  1.12996657  0.9960771   0.78415797  1.01877208  0.84364711  0.90762447\n",
      "  0.72388849  0.88138262  0.94952602  1.07733995  0.99616651  0.93701424\n",
      "  0.71659763  0.76759154  0.86694187  1.00389779  0.94770871  0.99412831\n",
      "  0.91478572  0.86398227  0.90139531  0.96278554  0.86746953  0.96133696\n",
      "  1.18059952  0.86008312  0.89020072  0.82481821  0.95194765  1.09117821\n",
      "  0.88673709  0.84897682  0.70919315  1.1052225   1.15919331  1.04033363\n",
      "  1.05991183  0.89085481  0.94913915  1.08705147  0.71090235  1.11605507\n",
      "  0.94876168  1.03630912  0.93707324  1.01836043  0.98335998  0.89754928\n",
      "  0.81076825  0.87549959  0.99150319  0.92601771  0.96181612  0.88423393\n",
      "  0.98978542  0.97133637  0.97496146  0.82319506  0.77422074  0.90972866\n",
      "  0.94602016  0.99889877  1.04924216  0.66673898  0.805881    0.93969322\n",
      "  0.80260798  0.98169925  0.92262986  0.90613164  0.97803848  1.09439824\n",
      "  0.99328373  0.99558873  0.91423432  0.90245756  1.0062911   0.87277904\n",
      "  0.78866915]\n",
      "Warning: Desired error not necessarily achieved due to precision loss.\n",
      "         Current function value: 0.287507\n",
      "         Iterations: 2\n",
      "         Function evaluations: 1230\n",
      "         Gradient evaluations: 14\n"
     ]
    }
   ],
   "source": [
    "def scaledNeighbors(X, y, fractPerEval, scale):\n",
    "\n",
    "    nSamp = len(y)\n",
    "    nSampToUse = int(np.round(fractPerEval*nSamp))\n",
    "    randOrder = np.random.permutation(nSamp)\n",
    "    ixToUse = randOrder[0:nSampToUse]\n",
    "\n",
    "    Xsamp = X[ixToUse,:]\n",
    "    Ysamp = y[ixToUse]\n",
    "    \n",
    "    expScale = np.outer(np.ones([Xsamp.shape[0],1]),scale.reshape(1,-1))\n",
    "    Xscaled = Xsamp*expScale\n",
    "    knnc = KNeighborsClassifier(n_neighbors=20, weights='distance')\n",
    "    score = cross_val_score(knnc, Xscaled, Ysamp, cv=2, scoring='roc_auc')\n",
    "    return (1 - score.mean())\n",
    "\n",
    "import scipy.optimize as opt\n",
    "func = lambda args: scaledNeighbors(np.array(X_train), np.array(y_train), 0.3, args)\n",
    "\n",
    "def printOut(X, y, scale):\n",
    "    aScore = scaledNeighbors(X,y,1,scale)\n",
    "    print('Score: %.3f' % (1-aScore))\n",
    "    print(scale)\n",
    "    return\n",
    "printVec = lambda args: printOut(np.array(X_train), np.array(y_train), args)\n",
    "res = opt.minimize(func, np.ones([X.shape[1],1]), method='BFGS',callback=printVec,\\\n",
    "              options={'maxiter': 10, 'disp': True, 'eps':0.5})"
   ]
  },
  {
   "cell_type": "code",
   "execution_count": 39,
   "metadata": {
    "collapsed": false
   },
   "outputs": [
    {
     "data": {
      "text/plain": [
       "array([[ 0.06959397, -0.03368861,  0.39770736, ...,  2.15461631,\n",
       "         0.06648782,  1.93629453],\n",
       "       [ 0.992906  , -0.03368861,  0.39770736, ..., -0.49906775,\n",
       "         0.06648782, -0.4561043 ],\n",
       "       [ 0.93519899, -0.03368861,  0.39770736, ..., -0.43782889,\n",
       "         0.06648782, -0.50477746],\n",
       "       ..., \n",
       "       [ 1.51226901, -0.03368861,  0.39770736, ...,  0.03166906,\n",
       "         0.06648782, -0.57759154],\n",
       "       [-0.56518305, -0.03368861,  0.39770736, ..., -0.45824184,\n",
       "         0.06648782, -0.94549082],\n",
       "       [-1.71932309, -0.03368861,  0.39770736, ...,  0.70529656,\n",
       "         0.06648782,  0.05735419]])"
      ]
     },
     "execution_count": 39,
     "metadata": {},
     "output_type": "execute_result"
    }
   ],
   "source": [
    "np.array(X_train)"
   ]
  },
  {
   "cell_type": "code",
   "execution_count": 7,
   "metadata": {
    "collapsed": false
   },
   "outputs": [
    {
     "name": "stdout",
     "output_type": "stream",
     "text": [
      "Fitting 10 folds for each of 8 candidates, totalling 80 fits\n"
     ]
    },
    {
     "name": "stderr",
     "output_type": "stream",
     "text": [
      "[Parallel(n_jobs=1)]: Done  49 tasks       | elapsed:  1.3min\n",
      "[Parallel(n_jobs=1)]: Done  80 out of  80 | elapsed:  2.1min finished\n"
     ]
    },
    {
     "data": {
      "text/plain": [
       "GridSearchCV(cv=10, error_score='raise',\n",
       "       estimator=KNeighborsClassifier(algorithm='auto', leaf_size=30, metric='minkowski',\n",
       "           metric_params=None, n_jobs=1, n_neighbors=50, p=2,\n",
       "           weights='distance'),\n",
       "       fit_params={}, iid=True, n_jobs=1,\n",
       "       param_grid=[{'weights': ['uniform', 'distance'], 'n_neighbors': [10, 20, 50, 100]}],\n",
       "       pre_dispatch='2*n_jobs', refit=True, scoring='roc_auc', verbose=1)"
      ]
     },
     "execution_count": 7,
     "metadata": {},
     "output_type": "execute_result"
    }
   ],
   "source": [
    "knnc = KNeighborsClassifier()\n",
    "tunedParam = 'n_neighbors'\n",
    "tuned_parameters = [{tunedParam: [10,20,50,100],\\\n",
    "                     'weights': ['uniform','distance']}]\n",
    "gscv = GridSearchCV(knnc,tuned_parameters,cv=10,scoring='roc_auc',verbose=1)\n",
    "gscv.fit(X_train, y_train)"
   ]
  },
  {
   "cell_type": "code",
   "execution_count": null,
   "metadata": {
    "collapsed": false
   },
   "outputs": [],
   "source": []
  },
  {
   "cell_type": "code",
   "execution_count": 8,
   "metadata": {
    "collapsed": false
   },
   "outputs": [
    {
     "name": "stdout",
     "output_type": "stream",
     "text": [
      "Best Params: \n",
      "{'weights': 'distance', 'n_neighbors': 100}\n"
     ]
    },
    {
     "data": {
      "image/png": "[encoded data removed]",
      "text/plain": [
       "<matplotlib.figure.Figure at 0x10a8b67b8>"
      ]
     },
     "metadata": {},
     "output_type": "display_data"
    }
   ],
   "source": [
    "gscv.grid_scores_\n",
    "print('Best Params: ')\n",
    "print(gscv.best_params_)\n",
    "means = [mean_score for params, mean_score, scores in gscv.grid_scores_]\n",
    "Cs = [params[tunedParam] for params, mean_score, scores in gscv.grid_scores_]\n",
    "plt.plot(np.log10(Cs), means,'bo')\n",
    "bestC = gscv.best_params_[tunedParam]\n",
    "ylims = plt.gca().get_ylim()\n",
    "plt.plot(np.log10([bestC, bestC]),ylims,color='k',ls=':')\n",
    "plt.ylim(ylims)\n",
    "plt.xlabel('$Log_{10}($' + tunedParam + '$)$')\n",
    "plt.ylabel('Cross-validated AUC')\n",
    "plt.show()"
   ]
  },
  {
   "cell_type": "markdown",
   "metadata": {},
   "source": [
    "Plot ROC curves for in-sample training data, and test data, for both the full and reduced model. The test data here was not used to fit the model at all, so it should approximate how our model will perform prospectively on new data. Furthermore, if we've done a good job regularizing, the in-sample performance should be pretty close to the test data performance."
   ]
  },
  {
   "cell_type": "code",
   "execution_count": 9,
   "metadata": {
    "collapsed": false
   },
   "outputs": [
    {
     "name": "stdout",
     "output_type": "stream",
     "text": [
      "In-sample ROC AUC = 1.000 \n",
      "Test ROC AUC = 0.687 \n"
     ]
    },
    {
     "data": {
      "image/png": "[encoded data removed]",
      "text/plain": [
       "<matplotlib.figure.Figure at 0x11812bac8>"
      ]
     },
     "metadata": {},
     "output_type": "display_data"
    }
   ],
   "source": [
    "# Plot an ROC curve for training\n",
    "plt.clf\n",
    "pred_train = gscv.predict_proba(X_train)[:,1]\n",
    "rocAUC_train = sklm.roc_auc_score(y_train,pred_train)\n",
    "print('In-sample ROC AUC = %.3f ' % rocAUC_train)\n",
    "fpr, tpr, _ = sklm.roc_curve(y_train, pred_train)\n",
    "plt.figure()\n",
    "plt.plot(fpr,tpr,label='In-sample')\n",
    "\n",
    "# Plot an ROC curve for test data\n",
    "pred_test = gscv.predict_proba(X_test)[:,1]\n",
    "rocAUC_test = sklm.roc_auc_score(y_test,pred_test)\n",
    "print('Test ROC AUC = %.3f ' % rocAUC_test)\n",
    "fpr, tpr, _ = sklm.roc_curve(y_test, pred_test)\n",
    "plt.plot(fpr,tpr,label='Test')\n",
    "\n",
    "# Format the ROC plot\n",
    "plt.plot([0, 1], [0, 1], color='k', linestyle=':')\n",
    "plt.xlim([0.0, 1.0])\n",
    "plt.ylim([0.0, 1.0])\n",
    "plt.xlabel('False Positive Rate')\n",
    "plt.ylabel('True Positive Rate')\n",
    "plt.gca().set_aspect('equal', adjustable='box')\n",
    "plt.legend(loc='lower right')\n",
    "plt.show()"
   ]
  },
  {
   "cell_type": "code",
   "execution_count": null,
   "metadata": {
    "collapsed": false
   },
   "outputs": [],
   "source": []
  },
  {
   "cell_type": "code",
   "execution_count": null,
   "metadata": {
    "collapsed": true
   },
   "outputs": [],
   "source": []
  }
 ],
 "metadata": {
  "kernelspec": {
   "display_name": "Python 3",
   "language": "python",
   "name": "python3"
  },
  "language_info": {
   "codemirror_mode": {
    "name": "ipython",
    "version": 3
   },
   "file_extension": ".py",
   "mimetype": "text/x-python",
   "name": "python",
   "nbconvert_exporter": "python",
   "pygments_lexer": "ipython3",
   "version": "3.5.2"
  }
 },
 "nbformat": 4,
 "nbformat_minor": 1
}
