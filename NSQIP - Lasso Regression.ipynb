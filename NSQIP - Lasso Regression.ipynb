{
 "cells": [
  {
   "cell_type": "markdown",
   "metadata": {},
   "source": [
    "# NSQIP - LASSO Regression\n",
    "---\n",
    "\n",
    "Regressing on all of our predictors at once will tend to produce an over-fitted model. A traditional approach to this is to use a stepwise selection procedure, fitting individual best-fitting terms in sequence and adding them to build up a model in an interative fashion. These models are pretty common in the literature, but statisticians tend not to like them for a variety of reasons. Some of these are technical, but a pretty basic reason is that doing dozens of repeated statistical tests makes the meaning of each statistical test less valid.\n",
    "\n",
    "A more modern approach is to use a regularization term in the regression that penalizes the model fit based on the size of coefficients. Popular ways of doing this include Ridge Regression, Lasso Regression, and Elastic Net Regression. Ridge Regression uses a penalty based on the $L^2$ norm of the vector of coefficients (which is just the euclidean length of the coefficient vector). Lasso Regression uses a penalty based on the $L^1$ norm (which is the sum of the absolute values of the coefficients). Elastic Net Regression uses a combination of $L^1$ and $L^2$ penalties. Given covarying predictors, Lasso regression will tend to fit based on one of them, and shrink the others to zero, giving a sparse model, which is actually what we want. More information can be found here: \n",
    "\n",
    "[Tibshirani, R. (1996). Regression shrinkage and selection via the lasso. Journal of the Royal Statistical Society. Series B (Methodological), 267-288.](http://www.jstor.org.ezp-prod1.hul.harvard.edu/stable/2346178)\n",
    "\n",
    "We'll use Lasso Regression here for variable selection. Our strategy will be:\n",
    " - Divide the data into training and testing sets.\n",
    " - Fit a Lasso regression to the training set.\n",
    " - Use a bootstrap procedure to determine confidence intervals for the coefficients.\n",
    " - Within the bootstrap use 10-fold cross validation to choose the regularization strength.\n",
    " - Check performance on the testing set."
   ]
  },
  {
   "cell_type": "markdown",
   "metadata": {},
   "source": [
    "Begin with imports of key libraries, and load the data."
   ]
  },
  {
   "cell_type": "code",
   "execution_count": 1,
   "metadata": {
    "collapsed": true
   },
   "outputs": [],
   "source": [
    "import pandas as pd\n",
    "import numpy as np\n",
    "import matplotlib.pyplot as plt\n",
    "from sklearn.preprocessing import Imputer\n",
    "from sklearn.linear_model import LogisticRegression\n",
    "from sklearn.preprocessing import StandardScaler\n",
    "from sklearn.cross_validation import cross_val_score\n",
    "from sklearn.grid_search import GridSearchCV\n",
    "import sklearn.metrics as sklm\n",
    "import random\n",
    "import warnings \n",
    "import math\n",
    "# warnings.filterwarnings(\"ignore\") # Ignore annoying warnings\n",
    "\n",
    "dataDir = './Data/'\n",
    "mungedFileName = dataDir + 'mungedData.pkl'\n",
    "\n",
    "cdf = pd.read_pickle(mungedFileName)"
   ]
  },
  {
   "cell_type": "markdown",
   "metadata": {},
   "source": [
    "Next, determine which response and predictor columns we want to use."
   ]
  },
  {
   "cell_type": "code",
   "execution_count": 2,
   "metadata": {
    "collapsed": false
   },
   "outputs": [],
   "source": [
    "# y is True for bad things happening.\n",
    "# 'readmission', 'reoperation', 'morbidity', 'mortality', 'infection'\n",
    "from outcomeVariables import getOutcomeVariable\n",
    "yFull = getOutcomeVariable(cdf, 'morbidity')\n",
    "\n",
    "# Drop rows with NaN outcome y data\n",
    "nanIdx = np.isnan(yFull).nonzero()\n",
    "yFull = np.delete(yFull.ravel(), nanIdx ,axis=0).reshape(-1,1)\n",
    "cdf.drop(cdf.index[nanIdx], axis=0, inplace=True)\n",
    "\n",
    "# Add a BMI column\n",
    "cdf.loc[:,'BMI'] = cdf.loc[:,'WEIGHT']*(1/2.20462)/(cdf.loc[:,'HEIGHT']*(1/39.3701)*\\\n",
    "                                                    cdf.loc[:,'HEIGHT']*(1/39.3701))\n",
    "\n",
    "# List of predictors to keep\n",
    "keepList1 = ['SEX', 'RACE_NEW','ETHNICITY_HISPANIC','AGE','ANESTHES','HEIGHT','WEIGHT','BMI',\\\n",
    "             'DIABETES','SMOKE','PACKS','ETOH','DYSPNEA','FNSTATUS2','VENTILAT',\\\n",
    "             'HXCOPD','CPNEUMON','HXCHF','HXMI','PRVPCI','PRVPCS','HXANGINA','HYPERMED',\\\n",
    "             'HXPVD','RENAFAIL','DIALYSIS','CVA','DISCANCR','WNDINF-','STEROID','WTLOSS',\\\n",
    "             'BLEEDDIS','PROPER30','ASACLASS','FNSTATUS1','RBC']\n",
    "# An additional list of predictors that might be interesting\n",
    "keepList2 = ['ASCITES','PRSODM','PRBUN','PRCREAT','PRALBUM','PRBILI','PRSGOT','PRALKPH',\\\n",
    "             'PRWBC','PRHCT','PRPLATE','PRPTT','PRINR','PRPT','PGY','ESOVAR','RESTPAIN',\\\n",
    "             'HXTIA','TRANSFUS','CHEMO','RADIO','PRSEPSIS','PREGNANCY','EMERGNCY',\\\n",
    "             'OPTIME','MALLAMP']\n",
    "\n",
    "# Combine the lists\n",
    "keepList = keepList1 + keepList2\n",
    "# Make a list of any column in cdf whose name starts with a string in keepList\n",
    "colsToKeep = [colName for colName in cdf.columns \\\n",
    "              if np.any([colName.startswith(keepItem) for keepItem in keepList])]\n",
    "cdf = cdf[colsToKeep]"
   ]
  },
  {
   "cell_type": "markdown",
   "metadata": {},
   "source": [
    "We will drop predictors that don't have any variance. (This can happen because we already dropped a bunch of cases for which our outcomes are not recorded.)\n",
    "\n",
    "These regression models will fail on missing data, so we'll impute missing data for each column by setting it equal to the mean.\n",
    "\n",
    "Since our regularization penalty is based on the size of the coefficients, we need to scale each column to have equal mean and variance. We don't need to add an intercept column; sklearn gives us an intercept as a fit option."
   ]
  },
  {
   "cell_type": "code",
   "execution_count": 3,
   "metadata": {
    "collapsed": false
   },
   "outputs": [],
   "source": [
    "# Protect against only having one value in the columns.\n",
    "# (Imputer will drop these columns, and then we won't know the names...)\n",
    "for colName in cdf.columns:\n",
    "    colData = cdf[colName]\n",
    "    uniques = np.unique(colData)\n",
    "    nonNanUniques = [item for item in uniques if ~np.isnan(item)]\n",
    "    if len(nonNanUniques) < 2:\n",
    "        print('Not enough variance, dropping column: %s' % colName)\n",
    "        cdf.drop(colName, axis=1, inplace=True)\n",
    "\n",
    "# Impute missing data in cdf\n",
    "colNames = cdf.columns\n",
    "imp = Imputer(missing_values='NaN', strategy='mean', axis=0, verbose=True)\n",
    "imp.fit(cdf)\n",
    "X = imp.transform(cdf)\n",
    "cdf = pd.DataFrame(X, columns=colNames)\n",
    "\n",
    "# Scale the columns\n",
    "X = StandardScaler().fit_transform(cdf)\n",
    "scaledX = pd.DataFrame(X, columns=colNames)"
   ]
  },
  {
   "cell_type": "markdown",
   "metadata": {},
   "source": [
    "We break the data into separate fractions for training (2/3) and testing (1/3). All of our fitting and cross-validation will be done on the training set. The testing set will be held out to evaluate the final model performance."
   ]
  },
  {
   "cell_type": "code",
   "execution_count": 4,
   "metadata": {
    "collapsed": false
   },
   "outputs": [],
   "source": [
    "# Split for validation\n",
    "from sklearn.cross_validation import train_test_split\n",
    "X_train, X_test, y_train, y_test = train_test_split(scaledX, yFull, test_size=0.33)\n",
    "y_train = y_train.reshape(-1,)\n",
    "y_test = y_test.reshape(-1,)"
   ]
  },
  {
   "cell_type": "markdown",
   "metadata": {
    "collapsed": false
   },
   "source": [
    "We'll create a LogisticRegression object with $L^1$ regularization, corresponding to LASSO.\n",
    "\n",
    "We need to determine the appropriate value of the regularization strength $C$. To do this we'll do a cross-validated grid search, trying different values of $C$, and calculating the ROC AUC on the held-out cross-validation fraction. (Nb. This is not using the 'test' data held out above.)\n",
    "\n",
    "We need to find some way here to determine confidence intervals on the regression parameters. How to do this well is still an area of active research (see references below), and it's still the Wild West in terms of how it's deployed in the biomedical literature. We'll take a pretty naive approach based on bootstrap resampling cases and refitting the LASSO. In practice this works pretty well: it seems to suggest a handful of terms in the final model aren't reliably signficant, but it doesn't seem like the LASSO often misses terms that should be.\n",
    "\n",
    "Some references on bootstrapping LASSO and other model selection techniques:\n",
    "\n",
    "Chatterjee, A., & Lahiri, S. N. (2011). Bootstrapping lasso estimators. Journal of the American Statistical Association, 106(494), 608-625.\n",
    "\n",
    "Lee, J. D., Sun, D. L., Sun, Y., & Taylor, J. E. (2016). Exact post-selection inference, with application to the lasso. The Annals of Statistics, 44(3), 907-927.\n",
    "\n",
    "Efron, B. (2014). Estimation and accuracy after model selection. Journal of the American Statistical Association, 109(507), 991-1007.\n",
    "\n",
    "Zhang, J., Jeng, X. J., & Liu, H. (2008). Some two-step procedures for variable selection in high-dimensional linear regression. arXiv preprint arXiv:0810.1644.\n"
   ]
  },
  {
   "cell_type": "code",
   "execution_count": 5,
   "metadata": {
    "collapsed": false
   },
   "outputs": [
    {
     "name": "stdout",
     "output_type": "stream",
     "text": [
      "Booted #1/200 with C: 0.030\n",
      "Booted #2/200 with C: 0.048\n",
      "Booted #3/200 with C: 0.048\n",
      "Booted #4/200 with C: 0.030\n",
      "Booted #5/200 with C: 0.030\n",
      "Booted #6/200 with C: 0.048\n",
      "Booted #7/200 with C: 0.030\n",
      "Booted #8/200 with C: 0.078\n",
      "Booted #9/200 with C: 0.030\n",
      "Booted #10/200 with C: 0.018\n",
      "Booted #11/200 with C: 0.030\n",
      "Booted #12/200 with C: 0.048\n",
      "Booted #13/200 with C: 0.030\n",
      "Booted #14/200 with C: 0.048\n",
      "Booted #15/200 with C: 0.048\n",
      "Booted #16/200 with C: 0.048\n",
      "Booted #17/200 with C: 0.048\n",
      "Booted #18/200 with C: 0.048\n",
      "Booted #19/200 with C: 0.048\n",
      "Booted #20/200 with C: 0.127\n",
      "Booted #21/200 with C: 0.030\n",
      "Booted #22/200 with C: 0.078\n",
      "Booted #23/200 with C: 0.018\n",
      "Booted #24/200 with C: 0.030\n",
      "Booted #25/200 with C: 0.048\n",
      "Booted #26/200 with C: 0.127\n",
      "Booted #27/200 with C: 0.078\n",
      "Booted #28/200 with C: 0.048\n",
      "Booted #29/200 with C: 0.030\n",
      "Booted #30/200 with C: 0.018\n",
      "Booted #31/200 with C: 0.127\n",
      "Booted #32/200 with C: 0.030\n",
      "Booted #33/200 with C: 0.078\n",
      "Booted #34/200 with C: 0.030\n",
      "Booted #35/200 with C: 0.048\n",
      "Booted #36/200 with C: 0.030\n",
      "Booted #37/200 with C: 0.048\n",
      "Booted #38/200 with C: 0.048\n",
      "Booted #39/200 with C: 0.078\n",
      "Booted #40/200 with C: 0.048\n",
      "Booted #41/200 with C: 0.127\n",
      "Booted #42/200 with C: 0.048\n",
      "Booted #43/200 with C: 0.078\n",
      "Booted #44/200 with C: 0.030\n",
      "Booted #45/200 with C: 0.030\n",
      "Booted #46/200 with C: 0.078\n",
      "Booted #47/200 with C: 0.078\n",
      "Booted #48/200 with C: 0.030\n",
      "Booted #49/200 with C: 0.078\n",
      "Booted #50/200 with C: 0.048\n",
      "Booted #51/200 with C: 0.030\n",
      "Booted #52/200 with C: 0.030\n",
      "Booted #53/200 with C: 0.078\n",
      "Booted #54/200 with C: 0.048\n",
      "Booted #55/200 with C: 0.030\n",
      "Booted #56/200 with C: 0.030\n",
      "Booted #57/200 with C: 0.048\n",
      "Booted #58/200 with C: 0.030\n",
      "Booted #59/200 with C: 0.048\n",
      "Booted #60/200 with C: 0.030\n",
      "Booted #61/200 with C: 0.078\n",
      "Booted #62/200 with C: 0.030\n",
      "Booted #63/200 with C: 0.048\n",
      "Booted #64/200 with C: 0.030\n",
      "Booted #65/200 with C: 0.048\n",
      "Booted #66/200 with C: 0.078\n",
      "Booted #67/200 with C: 0.030\n",
      "Booted #68/200 with C: 0.048\n",
      "Booted #69/200 with C: 0.048\n",
      "Booted #70/200 with C: 0.030\n",
      "Booted #71/200 with C: 0.048\n",
      "Booted #72/200 with C: 0.127\n",
      "Booted #73/200 with C: 0.127\n",
      "Booted #74/200 with C: 0.030\n",
      "Booted #75/200 with C: 0.030\n",
      "Booted #76/200 with C: 0.030\n",
      "Booted #77/200 with C: 0.078\n",
      "Booted #78/200 with C: 0.127\n",
      "Booted #79/200 with C: 0.030\n",
      "Booted #80/200 with C: 0.030\n",
      "Booted #81/200 with C: 0.030\n",
      "Booted #82/200 with C: 1.438\n",
      "Booted #83/200 with C: 0.030\n",
      "Booted #84/200 with C: 0.030\n",
      "Booted #85/200 with C: 0.048\n",
      "Booted #86/200 with C: 0.030\n",
      "Booted #87/200 with C: 0.018\n",
      "Booted #88/200 with C: 0.030\n",
      "Booted #89/200 with C: 0.030\n",
      "Booted #90/200 with C: 0.030\n",
      "Booted #91/200 with C: 0.030\n",
      "Booted #92/200 with C: 0.048\n",
      "Booted #93/200 with C: 0.048\n",
      "Booted #94/200 with C: 0.030\n",
      "Booted #95/200 with C: 0.030\n",
      "Booted #96/200 with C: 0.048\n",
      "Booted #97/200 with C: 0.048\n",
      "Booted #98/200 with C: 0.048\n",
      "Booted #99/200 with C: 0.030\n",
      "Booted #100/200 with C: 0.048\n",
      "Booted #101/200 with C: 0.078\n",
      "Booted #102/200 with C: 0.048\n",
      "Booted #103/200 with C: 0.078\n",
      "Booted #104/200 with C: 0.048\n",
      "Booted #105/200 with C: 0.048\n",
      "Booted #106/200 with C: 0.030\n",
      "Booted #107/200 with C: 0.078\n",
      "Booted #108/200 with C: 0.078\n",
      "Booted #109/200 with C: 0.078\n",
      "Booted #110/200 with C: 0.048\n",
      "Booted #111/200 with C: 0.048\n",
      "Booted #112/200 with C: 0.048\n",
      "Booted #113/200 with C: 0.048\n",
      "Booted #114/200 with C: 0.048\n",
      "Booted #115/200 with C: 0.078\n",
      "Booted #116/200 with C: 0.078\n",
      "Booted #117/200 with C: 0.078\n",
      "Booted #118/200 with C: 0.030\n",
      "Booted #119/200 with C: 0.048\n",
      "Booted #120/200 with C: 0.048\n",
      "Booted #121/200 with C: 0.030\n",
      "Booted #122/200 with C: 0.030\n",
      "Booted #123/200 with C: 0.078\n",
      "Booted #124/200 with C: 0.030\n",
      "Booted #125/200 with C: 0.127\n",
      "Booted #126/200 with C: 0.048\n",
      "Booted #127/200 with C: 0.048\n",
      "Booted #128/200 with C: 0.030\n",
      "Booted #129/200 with C: 0.078\n",
      "Booted #130/200 with C: 0.030\n",
      "Booted #131/200 with C: 0.048\n",
      "Booted #132/200 with C: 0.030\n",
      "Booted #133/200 with C: 0.048\n",
      "Booted #134/200 with C: 0.078\n",
      "Booted #135/200 with C: 0.048\n",
      "Booted #136/200 with C: 0.030\n",
      "Booted #137/200 with C: 0.048\n",
      "Booted #138/200 with C: 0.030\n",
      "Booted #139/200 with C: 0.078\n",
      "Booted #140/200 with C: 0.078\n",
      "Booted #141/200 with C: 0.030\n",
      "Booted #142/200 with C: 0.018\n",
      "Booted #143/200 with C: 0.048\n",
      "Booted #144/200 with C: 0.078\n",
      "Booted #145/200 with C: 0.048\n",
      "Booted #146/200 with C: 0.030\n",
      "Booted #147/200 with C: 0.030\n",
      "Booted #148/200 with C: 0.048\n",
      "Booted #149/200 with C: 0.030\n",
      "Booted #150/200 with C: 0.030\n",
      "Booted #151/200 with C: 0.048\n",
      "Booted #152/200 with C: 0.127\n",
      "Booted #153/200 with C: 0.030\n",
      "Booted #154/200 with C: 0.048\n",
      "Booted #155/200 with C: 0.078\n",
      "Booted #156/200 with C: 0.030\n",
      "Booted #157/200 with C: 0.048\n",
      "Booted #158/200 with C: 0.078\n",
      "Booted #159/200 with C: 0.030\n",
      "Booted #160/200 with C: 0.078\n",
      "Booted #161/200 with C: 0.048\n",
      "Booted #162/200 with C: 0.030\n",
      "Booted #163/200 with C: 0.048\n",
      "Booted #164/200 with C: 0.018\n",
      "Booted #165/200 with C: 0.078\n",
      "Booted #166/200 with C: 0.048\n",
      "Booted #167/200 with C: 0.030\n",
      "Booted #168/200 with C: 0.048\n",
      "Booted #169/200 with C: 0.030\n",
      "Booted #170/200 with C: 0.048\n",
      "Booted #171/200 with C: 0.030\n",
      "Booted #172/200 with C: 0.048\n",
      "Booted #173/200 with C: 0.030\n",
      "Booted #174/200 with C: 0.207\n",
      "Booted #175/200 with C: 0.048\n",
      "Booted #176/200 with C: 0.048\n",
      "Booted #177/200 with C: 0.030\n",
      "Booted #178/200 with C: 0.078\n",
      "Booted #179/200 with C: 0.030\n",
      "Booted #180/200 with C: 0.048\n",
      "Booted #181/200 with C: 0.078\n",
      "Booted #182/200 with C: 0.048\n",
      "Booted #183/200 with C: 0.030\n",
      "Booted #184/200 with C: 0.127\n",
      "Booted #185/200 with C: 0.127\n",
      "Booted #186/200 with C: 0.048\n",
      "Booted #187/200 with C: 0.207\n",
      "Booted #188/200 with C: 0.078\n",
      "Booted #189/200 with C: 0.078\n",
      "Booted #190/200 with C: 6.158\n",
      "Booted #191/200 with C: 0.048\n",
      "Booted #192/200 with C: 0.048\n",
      "Booted #193/200 with C: 0.018\n",
      "Booted #194/200 with C: 0.030\n",
      "Booted #195/200 with C: 0.030\n",
      "Booted #196/200 with C: 0.048\n",
      "Booted #197/200 with C: 0.030\n",
      "Booted #198/200 with C: 0.048\n",
      "Booted #199/200 with C: 0.048\n",
      "Booted #200/200 with C: 0.127\n"
     ]
    }
   ],
   "source": [
    "# Do logistic regression, use L1 penalty, for LASSO\n",
    "# Whenever we fit to a sample of data, we'll search through the values\n",
    "# of the regularization strength C that give the highest ROC AUC on \n",
    "# held-out cross-validation data from that sample.\n",
    "lr = LogisticRegression(penalty='l1', tol=0.01, fit_intercept=True)\n",
    "tuned_parameters = [{'C': np.logspace(-3,1,20,base=10)}]\n",
    "gscv = GridSearchCV(lr,tuned_parameters,cv=10,scoring='roc_auc',verbose=0)\n",
    "\n",
    "# Bootstrap this whole regression\n",
    "nBoots = 200\n",
    "nSamp = X_train.shape[0]\n",
    "nPred = X_train.shape[1]\n",
    "bootParams = np.empty((nBoots, nPred))\n",
    "bootCs = np.empty((nBoots,1))\n",
    "# For each bootstrap sample\n",
    "for bootN in np.arange(nBoots):\n",
    "    # Draw a collection of observations from the training set with replacement\n",
    "    sampIdx = [random.randint(0,nSamp-1) for n in np.arange(nSamp)]\n",
    "    y_boot = y_train[sampIdx].reshape(-1,)\n",
    "    X_boot = X_train.iloc[sampIdx,:]\n",
    "    \n",
    "    # Scale the columns\n",
    "    X_boot = StandardScaler().fit_transform(X_boot)\n",
    "    X_boot = pd.DataFrame(X_boot, columns=colNames)\n",
    "    \n",
    "    # Fit the model to the bootstrap sample. \n",
    "    # (For each sample, this does a cross-validation to \n",
    "    # find the best regularization strength.)\n",
    "    gscv.fit(X_boot, y_boot)\n",
    "    \n",
    "    # Store the coefficients (and the best C values) for each bootstrapped sample\n",
    "    coeffs = gscv.best_estimator_.coef_.ravel()\n",
    "    bootParams[bootN,:] = coeffs\n",
    "    bootCs[bootN] = gscv.best_params_['C']\n",
    "    print('Booted #%d/%d with C: %.3f' % (bootN+1, nBoots, bootCs[bootN]))"
   ]
  },
  {
   "cell_type": "code",
   "execution_count": 6,
   "metadata": {
    "collapsed": false
   },
   "outputs": [
    {
     "name": "stdout",
     "output_type": "stream",
     "text": [
      "Best C: 0.030\n"
     ]
    }
   ],
   "source": [
    "# Now that we've bootstrapped, we can fit the model to the actual training data sample\n",
    "gscv.fit(X_train, y_train)\n",
    "bestEst = gscv.best_estimator_\n",
    "coeffs = bestEst.coef_.ravel()\n",
    "print('Best C: %.3f' % gscv.best_params_['C'])"
   ]
  },
  {
   "cell_type": "code",
   "execution_count": 7,
   "metadata": {
    "collapsed": false
   },
   "outputs": [],
   "source": [
    "# Identify confidence intervals from the parameters fit to the bootstrapped samples\n",
    "lciIdx = round(.025*(nBoots-1))\n",
    "uciIdx = round(.975*(nBoots-1))\n",
    "bootParams.shape\n",
    "bootParams.sort(axis=0)\n",
    "lowCI = bootParams[lciIdx,:]\n",
    "upCI  = bootParams[uciIdx,:]\n",
    "allCols = [(coeffs[index], lowCI[index], upCI[index], colName) for index, colName\\\n",
    "           in enumerate(X_boot.columns)]"
   ]
  },
  {
   "cell_type": "markdown",
   "metadata": {},
   "source": [
    "Now print out significant coefficients. Remember that variables have been scaled, so coefficient size is a good measure of effect size, but we need to transform them back to get them in natural units."
   ]
  },
  {
   "cell_type": "code",
   "execution_count": 8,
   "metadata": {
    "collapsed": false
   },
   "outputs": [
    {
     "name": "stdout",
     "output_type": "stream",
     "text": [
      "--- Terms in final model, and significant ---\n",
      "Coeff: +0.312 [+0.213, +0.461] AGE  \n",
      "Coeff: +0.075 [+0.001, +0.132] BLEEDDIS-Yes  \n",
      "Coeff: +0.106 [+0.021, +0.175] DIABETES-INSULIN  \n",
      "Coeff: +0.177 [+0.123, +0.307] OPTIME  \n",
      "Coeff: -0.329 [-0.424, -0.255] PRHCT  \n",
      "Coeff: +0.053 [+0.003, +0.119] RENAFAIL-Yes  \n",
      "Coeff: +0.179 [+0.113, +0.247] WNDINF-Yes  \n",
      "--- Terms in final model, and NOT significant ---\n",
      "Coeff: -0.000 [-0.059, +0.000] ANESTHES-Local  \n",
      "Coeff: -0.008 [-0.117, +0.000] ANESTHES-Regional  \n",
      "Coeff: -0.011 [-0.060, +0.000] CPNEUMON-Yes  \n",
      "Coeff: +0.007 [+0.000, +0.101] EMERGNCY-Yes  \n",
      "Coeff: +0.013 [+0.000, +0.103] ETHNICITY_HISPANIC-Unknown  \n",
      "Coeff: +0.003 [+0.000, +0.080] FNSTATUS1-Totally Dependent  \n",
      "Coeff: -0.015 [-0.071, +0.000] FNSTATUS2-Independent  \n",
      "Coeff: +0.001 [+0.000, +0.073] FNSTATUS2-Partially Dependent  \n",
      "Coeff: -0.016 [-0.120, +0.000] FNSTATUS2-Totally Dependent  \n",
      "Coeff: -0.001 [-0.105, +0.019] HXANGINA-Yes  \n",
      "Coeff: -0.010 [-0.092, +0.021] HXCHF-Yes  \n",
      "Coeff: +0.034 [+0.000, +0.113] HXCOPD-Yes  \n",
      "Coeff: -0.009 [-0.110, +0.000] HXTIA-Yes  \n",
      "Coeff: +0.073 [+0.000, +0.174] HYPERMED-Yes  \n",
      "Coeff: -0.026 [-0.085, +0.006] PRALBUM  \n",
      "Coeff: +0.052 [+0.000, +0.107] PRALKPH  \n",
      "Coeff: +0.006 [-0.023, +0.065] PRBUN  \n",
      "Coeff: +0.021 [+0.000, +0.091] PRCREAT  \n",
      "Coeff: -0.035 [-0.155, +0.000] PRPLATE  \n",
      "Coeff: +0.034 [+0.000, +0.096] PRPTT  \n",
      "Coeff: +0.048 [+0.000, +0.157] PRWBC  \n",
      "Coeff: +0.013 [+0.000, +0.073] RESTPAIN-Yes  \n",
      "Coeff: +0.017 [+0.000, +0.153] SMOKE-Yes  \n",
      "Coeff: +0.020 [+0.000, +0.072] TRANSFUS-Yes  \n",
      "Coeff: +0.046 [+0.000, +0.093] VENTILAT-Yes  \n",
      "Coeff: +0.004 [+0.000, +0.155] WEIGHT  \n",
      "Coeff: +0.087 [+0.000, +0.172] BMI  \n",
      "--- Terms NOT in final model, and significant ---\n",
      "--- Terms NOT in final model, and NOT significant ---\n",
      "Coeff: +0.000 [-0.059, +0.000] ANESTHES-Epidural  \n",
      "Coeff: +0.000 [+0.000, +0.090] ANESTHES-General  \n",
      "Coeff: +0.000 [-0.020, +0.057] ANESTHES-MAC/IV Sedation  \n",
      "Coeff: +0.000 [-0.007, +0.046] ANESTHES-Monitored Anesthesia Care  \n",
      "Coeff: +0.000 [-0.011, +0.000] ANESTHES-None  \n",
      "Coeff: +0.000 [+0.000, +0.062] ANESTHES-Other  \n",
      "Coeff: +0.000 [-0.073, +0.005] ANESTHES-Spinal  \n",
      "Coeff: +0.000 [-0.001, +0.000] ANESTHES_OTHER-Epidural  \n",
      "Coeff: +0.000 [-0.021, +0.000] ANESTHES_OTHER-Epidural,Regional  \n",
      "Coeff: +0.000 [-0.006, +0.064] ANESTHES_OTHER-General  \n",
      "Coeff: +0.000 [-0.046, +0.042] ANESTHES_OTHER-Local  \n",
      "Coeff: +0.000 [-0.001, +0.000] ANESTHES_OTHER-Local,Monitored Anesthesia Care/IV Sedation  \n",
      "Coeff: +0.000 [-0.018, +0.000] ANESTHES_OTHER-Local,Other  \n",
      "Coeff: +0.000 [-0.028, +0.069] ANESTHES_OTHER-Monitored Anesthesia Care/IV Sedation  \n",
      "Coeff: +0.000 [-0.046, +0.000] ANESTHES_OTHER-Other  \n",
      "Coeff: +0.000 [-0.005, +0.041] ANESTHES_OTHER-Regional  \n",
      "Coeff: +0.000 [-0.024, +0.045] ANESTHES_OTHER-Regional,Local  \n",
      "Coeff: +0.000 [-0.026, +0.000] ANESTHES_OTHER-Regional,Monitored Anesthesia Care/IV Sedation  \n",
      "Coeff: +0.000 [-0.012, +0.000] ANESTHES_OTHER-Regional,Other  \n",
      "Coeff: +0.000 [+0.000, +0.081] ANESTHES_OTHER-Spinal  \n",
      "Coeff: +0.000 [-0.032, +0.002] ANESTHES_OTHER-Spinal,Epidural  \n",
      "Coeff: +0.000 [-0.014, +0.000] ANESTHES_OTHER-Spinal,Local  \n",
      "Coeff: +0.000 [-0.020, +0.000] ANESTHES_OTHER-Spinal,Monitored Anesthesia Care/IV Sedation  \n",
      "Coeff: +0.000 [-0.030, +0.000] ANESTHES_OTHER-Spinal,Regional  \n",
      "Coeff: +0.000 [-0.037, +0.065] ASCITES-Yes  \n",
      "Coeff: +0.000 [-0.044, +0.000] CHEMO-Yes  \n",
      "Coeff: +0.000 [-0.064, +0.036] CVA-Yes  \n",
      "Coeff: +0.000 [-0.032, +0.043] CVANO-Yes  \n",
      "Coeff: +0.000 [-0.086, +0.000] DIABETES-NO  \n",
      "Coeff: +0.000 [-0.058, +0.000] DIABETES-NON-INSULIN  \n",
      "Coeff: +0.000 [-0.053, +0.023] DIABETES-ORAL  \n",
      "Coeff: +0.000 [-0.044, +0.032] DIALYSIS-Yes  \n",
      "Coeff: +0.000 [-0.075, +0.015] DISCANCR-Yes  \n",
      "Coeff: +0.000 [-0.063, +0.034] DYSPNEA-AT REST  \n",
      "Coeff: +0.000 [-0.072, +0.004] DYSPNEA-MODERATE EXERTION  \n",
      "Coeff: +0.000 [+0.000, +0.070] DYSPNEA-No  \n",
      "Coeff: +0.000 [+0.000, +0.139] ESOVAR-Yes  \n",
      "Coeff: +0.000 [+0.000, +0.002] ETHNICITY_HISPANIC-No  \n",
      "Coeff: +0.000 [-0.098, +0.000] ETHNICITY_HISPANIC-Yes  \n",
      "Coeff: +0.000 [+0.000, +0.089] ETOH-Yes  \n",
      "Coeff: +0.000 [-0.048, +0.013] FNSTATUS1-Independent  \n",
      "Coeff: +0.000 [-0.027, +0.029] FNSTATUS1-Partially Dependent  \n",
      "Coeff: +0.000 [+0.000, +0.090] FNSTATUS2-Unknown  \n",
      "Coeff: +0.000 [-0.016, +0.047] HEIGHT  \n",
      "Coeff: +0.000 [-0.035, +0.050] HXMI-Yes  \n",
      "Coeff: +0.000 [-0.044, +0.048] HXPVD-Yes  \n",
      "Coeff: +0.000 [+0.000, +0.064] MALLAMP-1.0  \n",
      "Coeff: +0.000 [+0.000, +0.048] MALLAMP-2.0  \n",
      "Coeff: +0.000 [-0.078, +0.000] MALLAMP-3.0  \n",
      "Coeff: +0.000 [-0.051, +0.000] MALLAMP-4.0  \n",
      "Coeff: +0.000 [-0.052, +0.064] PACKS  \n",
      "Coeff: +0.000 [-0.127, +0.007] PGY  \n",
      "Coeff: +0.000 [-0.053, +0.083] PRBILI  \n",
      "Coeff: +0.000 [+0.000, +0.000] PREGNANCY-Yes  \n",
      "Coeff: +0.000 [-0.010, +0.055] PRINR  \n",
      "Coeff: +0.000 [-0.062, +0.020] PROPER30-Yes  \n",
      "Coeff: +0.000 [-0.057, +0.045] PRPT  \n",
      "Coeff: +0.000 [-0.075, +0.013] PRSGOT  \n",
      "Coeff: +0.000 [-0.046, +0.061] PRSODM  \n",
      "Coeff: +0.000 [-0.056, +0.035] PRVPCI-Yes  \n",
      "Coeff: +0.000 [-0.069, +0.034] PRVPCS-Yes  \n",
      "Coeff: +0.000 [+0.000, +0.082] RACE_NEW-American Indian or Alaska Native  \n",
      "Coeff: +0.000 [-0.018, +0.074] RACE_NEW-Asian  \n",
      "Coeff: +0.000 [-0.086, +0.000] RACE_NEW-Black or African American  \n",
      "Coeff: +0.000 [-0.068, +0.020] RACE_NEW-Native Hawaiian or Pacific Islander  \n",
      "Coeff: +0.000 [+0.000, +0.114] RACE_NEW-Unknown  \n",
      "Coeff: +0.000 [+0.000, +0.077] RACE_NEW-Unknown/Not Reported  \n",
      "Coeff: +0.000 [-0.052, +0.000] RACE_NEW-White  \n",
      "Coeff: +0.000 [-0.035, +0.002] RADIO-Yes  \n",
      "Coeff: +0.000 [-0.043, +0.000] RBC  \n",
      "Coeff: +0.000 [-0.010, +0.029] SEX-female  \n",
      "Coeff: +0.000 [-0.038, +0.016] SEX-male  \n",
      "Coeff: +0.000 [-0.024, +0.059] STEROID-Yes  \n",
      "Coeff: +0.000 [-0.086, +0.000] WTLOSS-Yes  \n"
     ]
    }
   ],
   "source": [
    "# Print out the coefficient if it was included in the final model\n",
    "# ... or if it was significant in the bootstrap.\n",
    "print('--- Terms in final model, and significant ---')\n",
    "for item in allCols:\n",
    "    if (item[0] != 0) and ((item[1] > 0) or (item[2] < 0)):\n",
    "        print('Coeff: %+.3f [%+.3f, %+.3f] %s  ' % item)\n",
    "print('--- Terms in final model, and NOT significant ---')\n",
    "for item in allCols:\n",
    "    if (item[0] != 0) and ~((item[1] > 0) or (item[2] < 0)):\n",
    "        print('Coeff: %+.3f [%+.3f, %+.3f] %s  ' % item)\n",
    "print('--- Terms NOT in final model, and significant ---')\n",
    "for item in allCols:\n",
    "    if (item[0] == 0) and ((item[1] > 0) or (item[2] < 0)):\n",
    "        print('Coeff: %+.3f [%+.3f, %+.3f] %s  ' % item)\n",
    "print('--- Terms NOT in final model, and NOT significant ---')\n",
    "for item in allCols:\n",
    "    if (item[0] == 0) and ~((item[1] > 0) or (item[2] < 0)):\n",
    "        print('Coeff: %+.3f [%+.3f, %+.3f] %s  ' % item)"
   ]
  },
  {
   "cell_type": "markdown",
   "metadata": {},
   "source": [
    "Now plot the mean cross-validated AUC for each value of $C$ we tried for the final model. The model uses the best value of $C$ (dotted line)."
   ]
  },
  {
   "cell_type": "code",
   "execution_count": 9,
   "metadata": {
    "collapsed": false
   },
   "outputs": [
    {
     "data": {
      "image/png": "[encoded data removed]",
      "text/plain": [
       "<matplotlib.figure.Figure at 0x119c73a20>"
      ]
     },
     "metadata": {},
     "output_type": "display_data"
    }
   ],
   "source": [
    "gscv.grid_scores_\n",
    "means = [mean_score for params, mean_score, scores in gscv.grid_scores_]\n",
    "Cs = [params['C'] for params, mean_score, scores in gscv.grid_scores_]\n",
    "plt.plot(np.log10(Cs), means)\n",
    "bestC = gscv.best_params_['C']\n",
    "ylims = plt.gca().get_ylim()\n",
    "plt.plot(np.log10([bestC, bestC]),ylims,color='k',ls=':')\n",
    "plt.ylim(ylims)\n",
    "plt.xlabel('$Log_{10}(C)$')\n",
    "plt.ylabel('Cross-validated AUC')\n",
    "plt.show()"
   ]
  },
  {
   "cell_type": "markdown",
   "metadata": {},
   "source": [
    "What if we construct a reduced model where only significant coefficients are used? It turns out this model doesn't do very well. This is probably because the terms that aren't consistent between models are still useful - they just aren't always selected because there are other terms with redundant information. "
   ]
  },
  {
   "cell_type": "code",
   "execution_count": 10,
   "metadata": {
    "collapsed": false
   },
   "outputs": [],
   "source": [
    "# Construct a reduced model with only the significant terms:\n",
    "import copy\n",
    "reducedModel = copy.deepcopy(gscv.best_estimator_)\n",
    "redCoefs = np.zeros([1,len(allCols)])\n",
    "for index, item in enumerate(allCols):\n",
    "    # If a term is significant\n",
    "    if (item[0] != 0) and ((item[1] > 0) or (item[2] < 0)):\n",
    "        redCoefs[0,index] = item[0]\n",
    "    else:\n",
    "        redCoefs[0,index] = 0\n",
    "reducedModel.coef_ = redCoefs"
   ]
  },
  {
   "cell_type": "markdown",
   "metadata": {},
   "source": [
    "Plot ROC curves for in-sample training data, and test data, for both the full and reduced model. The test data here was not used to fit the model at all, so it should approximate how our model will perform prospectively on new data. Furthermore, if we've done a good job regularizing, the in-sample performance should be pretty close to the test data performance."
   ]
  },
  {
   "cell_type": "code",
   "execution_count": 11,
   "metadata": {
    "collapsed": false
   },
   "outputs": [
    {
     "name": "stdout",
     "output_type": "stream",
     "text": [
      "In-sample ROC AUC = 0.774 \n",
      "Test ROC AUC = 0.774 \n",
      "Reduced In-sample ROC AUC = 0.762 \n",
      "Reduced Test ROC AUC = 0.763 \n"
     ]
    },
    {
     "data": {
      "image/png": "[encoded data removed]",
      "text/plain": [
       "<matplotlib.figure.Figure at 0x116b38b70>"
      ]
     },
     "metadata": {},
     "output_type": "display_data"
    }
   ],
   "source": [
    "# Plot an ROC curve for training\n",
    "plt.clf\n",
    "pred_train = gscv.predict_proba(X_train)[:,1]\n",
    "rocAUC_train = sklm.roc_auc_score(y_train,pred_train)\n",
    "print('In-sample ROC AUC = %.3f ' % rocAUC_train)\n",
    "fpr, tpr, _ = sklm.roc_curve(y_train, pred_train)\n",
    "plt.figure()\n",
    "plt.plot(fpr,tpr,label='In-sample')\n",
    "\n",
    "# Plot an ROC curve for test data\n",
    "pred_test = gscv.predict_proba(X_test)[:,1]\n",
    "rocAUC_test = sklm.roc_auc_score(y_test,pred_test)\n",
    "print('Test ROC AUC = %.3f ' % rocAUC_test)\n",
    "fpr, tpr, _ = sklm.roc_curve(y_test, pred_test)\n",
    "plt.plot(fpr,tpr,label='Test')\n",
    "\n",
    "# Plot an ROC curve for training, reduced model\n",
    "pred_train = reducedModel.predict_proba(X_train)[:,1]\n",
    "rocAUC_train = sklm.roc_auc_score(y_train,pred_train)\n",
    "print('Reduced In-sample ROC AUC = %.3f ' % rocAUC_train)\n",
    "fpr, tpr, _ = sklm.roc_curve(y_train, pred_train)\n",
    "plt.plot(fpr,tpr,label='Reduced In-sample')\n",
    "\n",
    "# Plot an ROC curve for test data, reduced model\n",
    "pred_test = reducedModel.predict_proba(X_test)[:,1]\n",
    "rocAUC_test = sklm.roc_auc_score(y_test,pred_test)\n",
    "print('Reduced Test ROC AUC = %.3f ' % rocAUC_test)\n",
    "fpr, tpr, _ = sklm.roc_curve(y_test, pred_test)\n",
    "plt.plot(fpr,tpr,label='Reduced Test')\n",
    "\n",
    "# Format the ROC plot\n",
    "plt.plot([0, 1], [0, 1], color='k', linestyle=':')\n",
    "plt.xlim([0.0, 1.0])\n",
    "plt.ylim([0.0, 1.0])\n",
    "plt.xlabel('False Positive Rate')\n",
    "plt.ylabel('True Positive Rate')\n",
    "plt.gca().set_aspect('equal', adjustable='box')\n",
    "plt.legend(loc='lower right')\n",
    "plt.show()"
   ]
  },
  {
   "cell_type": "code",
   "execution_count": null,
   "metadata": {
    "collapsed": false
   },
   "outputs": [],
   "source": []
  },
  {
   "cell_type": "code",
   "execution_count": null,
   "metadata": {
    "collapsed": true
   },
   "outputs": [],
   "source": []
  }
 ],
 "metadata": {
  "kernelspec": {
   "display_name": "Python 3",
   "language": "python",
   "name": "python3"
  },
  "language_info": {
   "codemirror_mode": {
    "name": "ipython",
    "version": 3
   },
   "file_extension": ".py",
   "mimetype": "text/x-python",
   "name": "python",
   "nbconvert_exporter": "python",
   "pygments_lexer": "ipython3",
   "version": "3.5.2"
  }
 },
 "nbformat": 4,
 "nbformat_minor": 1
}
