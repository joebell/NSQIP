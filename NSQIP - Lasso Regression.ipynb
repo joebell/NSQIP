{
 "cells": [
  {
   "cell_type": "markdown",
   "metadata": {},
   "source": [
    "# NSQIP - LASSO Regression\n",
    "---\n",
    "\n",
    "Regressing on all of our predictors at once will tend to produce an over-fitted model. A traditional approach to this is to use a stepwise selection procedure, fitting individual best-fitting terms in sequence and adding them to build up a model in an interative fashion. These models are pretty common in the literature, but statisticians tend not to like them for a variety of reasons. Some of these are technical, but a pretty basic reason is that doing dozens of repeated statistical tests makes the meaning of each statistical test less valid.\n",
    "\n",
    "A more modern approach is to use a regularization term in the regression that penalizes the model fit based on the size of coefficients. Popular ways of doing this include Ridge Regression, Lasso Regression, and Elastic Net Regression. Ridge Regression uses a penalty based on the $L^2$ norm of the vector of coefficients (which is just the euclidean length of the coefficient vector). Lasso Regression uses a penalty based on the $L^1$ norm (which is the sum of the absolute values of the coefficients). Elastic Net Regression uses a combination of $L^1$ and $L^2$ penalties. Given covarying predictors, Lasso regression will tend to fit based on one of them, and shrink the others to zero, giving a sparse model, which is actually what we want. More information can be found here: \n",
    "\n",
    "[Tibshirani, R. (1996). Regression shrinkage and selection via the lasso. Journal of the Royal Statistical Society. Series B (Methodological), 267-288.](http://www.jstor.org.ezp-prod1.hul.harvard.edu/stable/2346178)\n",
    "\n",
    "We'll use Lasso Regression here for variable selection. Our strategy will be:\n",
    " - Divide the data into training and testing sets.\n",
    " - Fit a Lasso regression to the training set.\n",
    " - Use a bootstrap procedure to determine confidence intervals for the coefficients.\n",
    " - Within the bootstrap use 10-fold cross validation to choose the regularization strength.\n",
    " - Check performance on the testing set."
   ]
  },
  {
   "cell_type": "markdown",
   "metadata": {},
   "source": [
    "Begin with imports of key libraries, and load the data."
   ]
  },
  {
   "cell_type": "code",
   "execution_count": 1,
   "metadata": {
    "collapsed": true
   },
   "outputs": [],
   "source": [
    "import pandas as pd\n",
    "import numpy as np\n",
    "import matplotlib.pyplot as plt\n",
    "from sklearn.preprocessing import Imputer\n",
    "from sklearn.linear_model import LogisticRegression\n",
    "from sklearn.preprocessing import StandardScaler\n",
    "from sklearn.cross_validation import cross_val_score\n",
    "from sklearn.grid_search import GridSearchCV\n",
    "import sklearn.metrics as sklm\n",
    "import random\n",
    "import warnings \n",
    "import math\n",
    "# warnings.filterwarnings(\"ignore\") # Ignore annoying warnings\n",
    "\n",
    "dataDir = './Data/'\n",
    "mungedFileName = dataDir + 'mungedData.pkl'\n",
    "\n",
    "cdf = pd.read_pickle(mungedFileName)"
   ]
  },
  {
   "cell_type": "markdown",
   "metadata": {},
   "source": [
    "Next, determine which response and predictor columns we want to use."
   ]
  },
  {
   "cell_type": "code",
   "execution_count": 2,
   "metadata": {
    "collapsed": false
   },
   "outputs": [],
   "source": [
    "# y is True for bad things happening.\n",
    "# 'readmission', 'reoperation', 'morbidity', 'mortality', 'infection'\n",
    "from outcomeVariables import getOutcomeVariable\n",
    "yFull = getOutcomeVariable(cdf, 'reoperation')\n",
    "\n",
    "# Drop rows with NaN outcome y data\n",
    "nanIdx = np.isnan(yFull).nonzero()\n",
    "yFull = np.delete(yFull.ravel(), nanIdx ,axis=0).reshape(-1,1)\n",
    "cdf.drop(cdf.index[nanIdx], axis=0, inplace=True)\n",
    "\n",
    "# Add a BMI column\n",
    "cdf.loc[:,'BMI'] = cdf.loc[:,'WEIGHT']*(1/2.20462)/(cdf.loc[:,'HEIGHT']*(1/39.3701)*\\\n",
    "                                                    cdf.loc[:,'HEIGHT']*(1/39.3701))\n",
    "\n",
    "# List of predictors to keep\n",
    "keepList1 = ['SEX', 'RACE_NEW','ETHNICITY_HISPANIC','AGE','ANESTHES','HEIGHT','WEIGHT','BMI',\\\n",
    "             'DIABETES','SMOKE','PACKS','ETOH','DYSPNEA','FNSTATUS2','VENTILAT',\\\n",
    "             'HXCOPD','CPNEUMON','HXCHF','HXMI','PRVPCI','PRVPCS','HXANGINA','HYPERMED',\\\n",
    "             'HXPVD','RENAFAIL','DIALYSIS','CVA','DISCANCR','WNDINF-','STEROID','WTLOSS',\\\n",
    "             'BLEEDDIS','PROPER30','ASACLASS','FNSTATUS1','RBC']\n",
    "# An additional list of predictors that might be interesting\n",
    "keepList2 = ['ASCITES','PRSODM','PRBUN','PRCREAT','PRALBUM','PRBILI','PRSGOT','PRALKPH',\\\n",
    "             'PRWBC','PRHCT','PRPLATE','PRPTT','PRINR','PRPT','PGY','ESOVAR','RESTPAIN',\\\n",
    "             'HXTIA','TRANSFUS','CHEMO','RADIO','PRSEPSIS','PREGNANCY','EMERGNCY',\\\n",
    "             'OPTIME','MALLAMP']\n",
    "\n",
    "# Combine the lists\n",
    "keepList = keepList1 + keepList2\n",
    "# Make a list of any column in cdf whose name starts with a string in keepList\n",
    "colsToKeep = [colName for colName in cdf.columns \\\n",
    "              if np.any([colName.startswith(keepItem) for keepItem in keepList])]\n",
    "cdf = cdf[colsToKeep]"
   ]
  },
  {
   "cell_type": "markdown",
   "metadata": {},
   "source": [
    "We will drop predictors that don't have any variance. (This can happen because we already dropped a bunch of cases for which our outcomes are not recorded.)\n",
    "\n",
    "These regression models will fail on missing data, so we'll impute missing data for each column by setting it equal to the mean.\n",
    "\n",
    "Since our regularization penalty is based on the size of the coefficients, we need to scale each column to have equal mean and variance. We don't need to add an intercept column; sklearn gives us an intercept as a fit option."
   ]
  },
  {
   "cell_type": "code",
   "execution_count": 3,
   "metadata": {
    "collapsed": false
   },
   "outputs": [
    {
     "name": "stdout",
     "output_type": "stream",
     "text": [
      "Not enough variance, dropping column: ANESTHES-Monitored Anesthesia Care\n",
      "Not enough variance, dropping column: CPNEUMON-Yes\n",
      "Not enough variance, dropping column: DIABETES-ORAL\n",
      "Not enough variance, dropping column: FNSTATUS1-Independent\n",
      "Not enough variance, dropping column: FNSTATUS1-Partially Dependent\n",
      "Not enough variance, dropping column: FNSTATUS1-Totally Dependent\n",
      "Not enough variance, dropping column: MALLAMP-1.0\n",
      "Not enough variance, dropping column: MALLAMP-2.0\n",
      "Not enough variance, dropping column: MALLAMP-3.0\n",
      "Not enough variance, dropping column: MALLAMP-4.0\n",
      "Not enough variance, dropping column: RBC\n"
     ]
    }
   ],
   "source": [
    "# Protect against only having one value in the columns.\n",
    "# (Imputer will drop these columns, and then we won't know the names...)\n",
    "for colName in cdf.columns:\n",
    "    colData = cdf[colName]\n",
    "    uniques = np.unique(colData)\n",
    "    nonNanUniques = [item for item in uniques if ~np.isnan(item)]\n",
    "    if len(nonNanUniques) < 2:\n",
    "        print('Not enough variance, dropping column: %s' % colName)\n",
    "        cdf.drop(colName, axis=1, inplace=True)\n",
    "\n",
    "# Impute missing data in cdf\n",
    "colNames = cdf.columns\n",
    "imp = Imputer(missing_values='NaN', strategy='mean', axis=0, verbose=True)\n",
    "imp.fit(cdf)\n",
    "X = imp.transform(cdf)\n",
    "cdf = pd.DataFrame(X, columns=colNames)\n",
    "\n",
    "# Scale the columns\n",
    "X = StandardScaler().fit_transform(cdf)\n",
    "scaledX = pd.DataFrame(X, columns=colNames)"
   ]
  },
  {
   "cell_type": "markdown",
   "metadata": {},
   "source": [
    "We break the data into separate fractions for training (2/3) and testing (1/3). All of our fitting and cross-validation will be done on the training set. The testing set will be held out to evaluate the final model performance."
   ]
  },
  {
   "cell_type": "code",
   "execution_count": 4,
   "metadata": {
    "collapsed": false
   },
   "outputs": [],
   "source": [
    "# Split for validation\n",
    "from sklearn.cross_validation import train_test_split\n",
    "X_train, X_test, y_train, y_test = train_test_split(scaledX, yFull, test_size=0.33)\n",
    "y_train = y_train.reshape(-1,)\n",
    "y_test = y_test.reshape(-1,)"
   ]
  },
  {
   "cell_type": "markdown",
   "metadata": {
    "collapsed": false
   },
   "source": [
    "We'll create a LogisticRegression object with $L^1$ regularization, corresponding to LASSO.\n",
    "\n",
    "We need to determine the appropriate value of the regularization strength $C$. To do this we'll do a cross-validated grid search, trying different values of $C$, and calculating the ROC AUC on the held-out cross-validation fraction. (Nb. This is not using the 'test' data held out above.)\n",
    "\n",
    "We need to find some way here to determine confidence intervals on the regression parameters. How to do this well is still an area of active research (see references below), and it's still the Wild West in terms of how it's deployed in the biomedical literature. We'll take a pretty naive approach based on bootstrap resampling cases and refitting the LASSO. In practice this works pretty well: it seems to suggest a handful of terms in the final model aren't reliably signficant, but it doesn't seem like the LASSO often misses terms that should be.\n",
    "\n",
    "Some references on bootstrapping LASSO and other model selection techniques:\n",
    "\n",
    "Chatterjee, A., & Lahiri, S. N. (2011). Bootstrapping lasso estimators. Journal of the American Statistical Association, 106(494), 608-625.\n",
    "\n",
    "Lee, J. D., Sun, D. L., Sun, Y., & Taylor, J. E. (2016). Exact post-selection inference, with application to the lasso. The Annals of Statistics, 44(3), 907-927.\n",
    "\n",
    "Efron, B. (2014). Estimation and accuracy after model selection. Journal of the American Statistical Association, 109(507), 991-1007.\n",
    "\n",
    "Zhang, J., Jeng, X. J., & Liu, H. (2008). Some two-step procedures for variable selection in high-dimensional linear regression. arXiv preprint arXiv:0810.1644.\n"
   ]
  },
  {
   "cell_type": "code",
   "execution_count": 5,
   "metadata": {
    "collapsed": false
   },
   "outputs": [
    {
     "name": "stdout",
     "output_type": "stream",
     "text": [
      "Booted #1/5 with C: 0.078\n",
      "Booted #2/5 with C: 0.078\n",
      "Booted #3/5 with C: 0.336\n",
      "Booted #4/5 with C: 10.000\n",
      "Booted #5/5 with C: 0.127\n"
     ]
    }
   ],
   "source": [
    "# Do logistic regression, use L1 penalty, for LASSO\n",
    "# Whenever we fit to a sample of data, we'll search through the values\n",
    "# of the regularization strength C that give the highest ROC AUC on \n",
    "# held-out cross-validation data from that sample.\n",
    "lr = LogisticRegression(penalty='l1', tol=0.01, fit_intercept=True)\n",
    "tuned_parameters = [{'C': np.logspace(-3,1,20,base=10)}]\n",
    "gscv = GridSearchCV(lr,tuned_parameters,cv=10,scoring='roc_auc',verbose=0)\n",
    "\n",
    "# Bootstrap this whole regression\n",
    "nBoots = 5\n",
    "nSamp = X_train.shape[0]\n",
    "nPred = X_train.shape[1]\n",
    "bootParams = np.empty((nBoots, nPred))\n",
    "bootCs = np.empty((nBoots,1))\n",
    "# For each bootstrap sample\n",
    "for bootN in np.arange(nBoots):\n",
    "    # Draw a collection of observations from the training set with replacement\n",
    "    sampIdx = [random.randint(0,nSamp-1) for n in np.arange(nSamp)]\n",
    "    y_boot = y_train[sampIdx].reshape(-1,)\n",
    "    X_boot = X_train.iloc[sampIdx,:]\n",
    "    \n",
    "    # Scale the columns\n",
    "    X_boot = StandardScaler().fit_transform(X_boot)\n",
    "    X_boot = pd.DataFrame(X_boot, columns=colNames)\n",
    "    \n",
    "    # Fit the model to the bootstrap sample. \n",
    "    # (For each sample, this does a cross-validation to \n",
    "    # find the best regularization strength.)\n",
    "    gscv.fit(X_boot, y_boot)\n",
    "    \n",
    "    # Store the coefficients (and the best C values) for each bootstrapped sample\n",
    "    coeffs = gscv.best_estimator_.coef_.ravel()\n",
    "    bootParams[bootN,:] = coeffs\n",
    "    bootCs[bootN] = gscv.best_params_['C']\n",
    "    print('Booted #%d/%d with C: %.3f' % (bootN+1, nBoots, bootCs[bootN]))"
   ]
  },
  {
   "cell_type": "code",
   "execution_count": 6,
   "metadata": {
    "collapsed": false
   },
   "outputs": [
    {
     "name": "stdout",
     "output_type": "stream",
     "text": [
      "Best C: 0.078\n"
     ]
    }
   ],
   "source": [
    "# Now that we've bootstrapped, we can fit the model to the actual training data sample\n",
    "gscv.fit(X_train, y_train)\n",
    "bestEst = gscv.best_estimator_\n",
    "coeffs = bestEst.coef_.ravel()\n",
    "print('Best C: %.3f' % gscv.best_params_['C'])"
   ]
  },
  {
   "cell_type": "code",
   "execution_count": 7,
   "metadata": {
    "collapsed": false
   },
   "outputs": [],
   "source": [
    "# Identify confidence intervals from the parameters fit to the bootstrapped samples\n",
    "lciIdx = round(.025*(nBoots-1))\n",
    "uciIdx = round(.975*(nBoots-1))\n",
    "bootParams.shape\n",
    "bootParams.sort(axis=0)\n",
    "lowCI = bootParams[lciIdx,:]\n",
    "upCI  = bootParams[uciIdx,:]\n",
    "allCols = [(coeffs[index], lowCI[index], upCI[index], colName) for index, colName\\\n",
    "           in enumerate(X_boot.columns)]"
   ]
  },
  {
   "cell_type": "markdown",
   "metadata": {},
   "source": [
    "Now print out significant coefficients. Remember that variables have been scaled, so coefficient size is a good measure of effect size, but we need to transform them back to get them in natural units."
   ]
  },
  {
   "cell_type": "code",
   "execution_count": 8,
   "metadata": {
    "collapsed": false
   },
   "outputs": [
    {
     "name": "stdout",
     "output_type": "stream",
     "text": [
      "--- Terms in final model, and significant ---\n",
      "Coeff: -0.095 [-0.239, -0.087] ANESTHES-Regional  \n",
      "Coeff: +0.063 [+0.061, +0.145] DIABETES-INSULIN  \n",
      "Coeff: +0.084 [+0.034, +0.415] EMERGNCY-Yes  \n",
      "Coeff: -0.065 [-0.654, -0.057] ETOH-Yes  \n",
      "Coeff: -0.093 [-0.507, -0.060] HXCHF-Yes  \n",
      "Coeff: -0.018 [-0.123, -0.004] HXMI-Yes  \n",
      "Coeff: +0.143 [+0.051, +0.342] OPTIME  \n",
      "Coeff: -0.053 [-0.157, -0.009] PRALBUM  \n",
      "Coeff: +0.009 [+0.022, +0.074] PRALKPH  \n",
      "Coeff: -0.247 [-0.364, -0.098] PRHCT  \n",
      "Coeff: +0.046 [+0.023, +0.192] PRPLATE  \n",
      "Coeff: -0.070 [-0.384, -0.033] PRSGOT  \n",
      "Coeff: +0.006 [+0.019, +0.165] RACE_NEW-American Indian or Alaska Native  \n",
      "Coeff: -0.081 [-0.781, -0.043] RENAFAIL-Yes  \n",
      "Coeff: +0.064 [+0.059, +0.090] RESTPAIN-Yes  \n",
      "Coeff: +0.242 [+0.224, +0.292] WNDINF-Yes  \n",
      "--- Terms in final model, and NOT significant ---\n",
      "Coeff: +0.000 [+0.000, +0.096] ANESTHES-General  \n",
      "Coeff: +0.029 [-0.113, +0.062] ANESTHES-Local  \n",
      "Coeff: -0.024 [-0.149, +0.075] ANESTHES-MAC/IV Sedation  \n",
      "Coeff: -0.003 [-0.112, +0.000] ASCITES-Yes  \n",
      "Coeff: +0.009 [-0.076, +0.046] BLEEDDIS-Yes  \n",
      "Coeff: -0.000 [-0.181, +0.000] CVANO-Yes  \n",
      "Coeff: -0.100 [-0.168, +0.000] DIABETES-NO  \n",
      "Coeff: +0.073 [+0.000, +0.074] DYSPNEA-MODERATE EXERTION  \n",
      "Coeff: -0.106 [-0.148, +0.000] ETHNICITY_HISPANIC-Unknown  \n",
      "Coeff: +0.065 [+0.000, +0.088] FNSTATUS2-Partially Dependent  \n",
      "Coeff: -0.005 [-0.757, +0.000] FNSTATUS2-Totally Dependent  \n",
      "Coeff: -0.028 [-0.192, +0.000] HXCOPD-Yes  \n",
      "Coeff: -0.040 [-0.101, +0.018] HXPVD-Yes  \n",
      "Coeff: +0.020 [-0.079, +0.132] HYPERMED-Yes  \n",
      "Coeff: +0.050 [+0.000, +0.075] PACKS  \n",
      "Coeff: -0.019 [-0.279, +0.000] PRPT  \n",
      "Coeff: +0.016 [-0.013, +0.098] PRPTT  \n",
      "Coeff: -0.067 [-0.142, +0.000] PRSODM  \n",
      "Coeff: +0.035 [+0.000, +0.089] PRVPCI-Yes  \n",
      "Coeff: +0.100 [-0.006, +0.199] PRWBC  \n",
      "Coeff: -0.012 [-0.145, +0.000] RACE_NEW-Unknown/Not Reported  \n",
      "Coeff: +0.020 [+0.000, +0.212] SMOKE-Yes  \n",
      "Coeff: -0.025 [-0.456, +0.003] TRANSFUS-Yes  \n",
      "Coeff: +0.050 [-0.039, +0.477] VENTILAT-Yes  \n",
      "Coeff: -0.010 [-0.066, +0.000] WTLOSS-Yes  \n",
      "--- Terms NOT in final model, and significant ---\n",
      "Coeff: +0.000 [+0.013, +0.299] ANESTHES_OTHER-Epidural,Regional  \n",
      "Coeff: +0.000 [+0.003, +0.244] ANESTHES_OTHER-Spinal,Epidural  \n",
      "Coeff: +0.000 [+0.000, +0.156] ANESTHES_OTHER-Spinal,Monitored Anesthesia Care/IV Sedation  \n",
      "--- Terms NOT in final model, and NOT significant ---\n",
      "Coeff: +0.000 [+0.000, +0.224] AGE  \n",
      "Coeff: +0.000 [-0.177, +0.000] ANESTHES-Epidural  \n",
      "Coeff: +0.000 [-0.009, +0.000] ANESTHES-None  \n",
      "Coeff: +0.000 [-0.146, +0.000] ANESTHES-Other  \n",
      "Coeff: +0.000 [+0.000, +0.020] ANESTHES-Spinal  \n",
      "Coeff: +0.000 [+0.000, +0.000] ANESTHES_OTHER-Epidural  \n",
      "Coeff: +0.000 [+0.000, +0.000] ANESTHES_OTHER-General  \n",
      "Coeff: +0.000 [+0.000, +0.000] ANESTHES_OTHER-Local  \n",
      "Coeff: +0.000 [+0.000, +0.000] ANESTHES_OTHER-Local,Monitored Anesthesia Care/IV Sedation  \n",
      "Coeff: +0.000 [+0.000, +0.118] ANESTHES_OTHER-Local,Other  \n",
      "Coeff: +0.000 [+0.000, +0.000] ANESTHES_OTHER-Monitored Anesthesia Care/IV Sedation  \n",
      "Coeff: +0.000 [+0.000, +0.000] ANESTHES_OTHER-Other  \n",
      "Coeff: +0.000 [+0.000, +0.581] ANESTHES_OTHER-Regional  \n",
      "Coeff: +0.000 [+0.000, +0.000] ANESTHES_OTHER-Regional,Local  \n",
      "Coeff: +0.000 [+0.000, +0.000] ANESTHES_OTHER-Regional,Monitored Anesthesia Care/IV Sedation  \n",
      "Coeff: +0.000 [+0.000, +0.127] ANESTHES_OTHER-Regional,Other  \n",
      "Coeff: +0.000 [-0.071, +0.000] ANESTHES_OTHER-Spinal  \n",
      "Coeff: +0.000 [+0.000, +0.052] ANESTHES_OTHER-Spinal,Local  \n",
      "Coeff: +0.000 [+0.000, +0.000] ANESTHES_OTHER-Spinal,Regional  \n",
      "Coeff: +0.000 [-0.059, +0.000] CHEMO-Yes  \n",
      "Coeff: +0.000 [-0.062, +0.050] CVA-Yes  \n",
      "Coeff: +0.000 [-0.037, +0.000] DIABETES-NON-INSULIN  \n",
      "Coeff: +0.000 [-0.227, +0.000] DIALYSIS-Yes  \n",
      "Coeff: +0.000 [-0.116, +0.000] DISCANCR-Yes  \n",
      "Coeff: +0.000 [-0.154, +0.015] DYSPNEA-AT REST  \n",
      "Coeff: +0.000 [-0.239, +0.000] DYSPNEA-No  \n",
      "Coeff: +0.000 [-0.225, +0.000] ESOVAR-Yes  \n",
      "Coeff: +0.000 [+0.000, +0.114] ETHNICITY_HISPANIC-No  \n",
      "Coeff: +0.000 [+0.000, +0.091] ETHNICITY_HISPANIC-Yes  \n",
      "Coeff: +0.000 [+0.000, +0.061] FNSTATUS2-Independent  \n",
      "Coeff: +0.000 [-0.368, +0.000] FNSTATUS2-Unknown  \n",
      "Coeff: +0.000 [-0.115, +0.000] HEIGHT  \n",
      "Coeff: +0.000 [-0.097, +0.000] HXANGINA-Yes  \n",
      "Coeff: +0.000 [-0.028, +0.077] HXTIA-Yes  \n",
      "Coeff: +0.000 [-0.016, +0.146] PGY  \n",
      "Coeff: +0.000 [-0.059, +0.037] PRBILI  \n",
      "Coeff: +0.000 [-0.129, +0.000] PRBUN  \n",
      "Coeff: +0.000 [-0.036, +0.184] PRCREAT  \n",
      "Coeff: +0.000 [-0.058, +0.000] PREGNANCY-Yes  \n",
      "Coeff: +0.000 [+0.000, +0.105] PRINR  \n",
      "Coeff: +0.000 [-0.161, +0.071] PROPER30-Yes  \n",
      "Coeff: +0.000 [-0.135, +0.000] PRVPCS-Yes  \n",
      "Coeff: +0.000 [-0.063, +0.048] RACE_NEW-Asian  \n",
      "Coeff: +0.000 [+0.000, +0.028] RACE_NEW-Black or African American  \n",
      "Coeff: +0.000 [-0.272, +0.068] RACE_NEW-Native Hawaiian or Pacific Islander  \n",
      "Coeff: +0.000 [-0.091, +0.000] RACE_NEW-Unknown  \n",
      "Coeff: +0.000 [+0.000, +0.148] RACE_NEW-White  \n",
      "Coeff: +0.000 [-0.106, +0.049] RADIO-Yes  \n",
      "Coeff: +0.000 [-0.066, +0.015] SEX-female  \n",
      "Coeff: +0.000 [-0.015, +0.071] SEX-male  \n",
      "Coeff: +0.000 [+0.000, +0.119] STEROID-Yes  \n",
      "Coeff: +0.000 [-0.006, +0.301] WEIGHT  \n",
      "Coeff: +0.000 [-0.389, +0.026] BMI  \n"
     ]
    }
   ],
   "source": [
    "# Print out the coefficient if it was included in the final model\n",
    "# ... or if it was significant in the bootstrap.\n",
    "print('--- Terms in final model, and significant ---')\n",
    "for item in allCols:\n",
    "    if (item[0] != 0) and ((item[1] > 0) or (item[2] < 0)):\n",
    "        print('Coeff: %+.3f [%+.3f, %+.3f] %s  ' % item)\n",
    "print('--- Terms in final model, and NOT significant ---')\n",
    "for item in allCols:\n",
    "    if (item[0] != 0) and ~((item[1] > 0) or (item[2] < 0)):\n",
    "        print('Coeff: %+.3f [%+.3f, %+.3f] %s  ' % item)\n",
    "print('--- Terms NOT in final model, and significant ---')\n",
    "for item in allCols:\n",
    "    if (item[0] == 0) and ((item[1] > 0) or (item[2] < 0)):\n",
    "        print('Coeff: %+.3f [%+.3f, %+.3f] %s  ' % item)\n",
    "print('--- Terms NOT in final model, and NOT significant ---')\n",
    "for item in allCols:\n",
    "    if (item[0] == 0) and ~((item[1] > 0) or (item[2] < 0)):\n",
    "        print('Coeff: %+.3f [%+.3f, %+.3f] %s  ' % item)"
   ]
  },
  {
   "cell_type": "markdown",
   "metadata": {},
   "source": [
    "Now plot the mean cross-validated AUC for each value of $C$ we tried for the final model. The model uses the best value of $C$ (dotted line)."
   ]
  },
  {
   "cell_type": "code",
   "execution_count": 9,
   "metadata": {
    "collapsed": false
   },
   "outputs": [
    {
     "data": {
      "image/png": "[encoded data removed]",
      "text/plain": [
       "<matplotlib.figure.Figure at 0x1044312e8>"
      ]
     },
     "metadata": {},
     "output_type": "display_data"
    }
   ],
   "source": [
    "gscv.grid_scores_\n",
    "means = [mean_score for params, mean_score, scores in gscv.grid_scores_]\n",
    "Cs = [params['C'] for params, mean_score, scores in gscv.grid_scores_]\n",
    "plt.plot(np.log10(Cs), means)\n",
    "bestC = gscv.best_params_['C']\n",
    "ylims = plt.gca().get_ylim()\n",
    "plt.plot(np.log10([bestC, bestC]),ylims,color='k',ls=':')\n",
    "plt.ylim(ylims)\n",
    "plt.xlabel('$Log_{10}(C)$')\n",
    "plt.ylabel('Cross-validated AUC')\n",
    "plt.show()"
   ]
  },
  {
   "cell_type": "markdown",
   "metadata": {},
   "source": [
    "What if we construct a reduced model where only significant coefficients are used? It turns out this model doesn't do very well. This is probably because the terms that aren't consistent between models are still useful - they just aren't always selected because there are other terms with redundant information. "
   ]
  },
  {
   "cell_type": "code",
   "execution_count": 10,
   "metadata": {
    "collapsed": false
   },
   "outputs": [],
   "source": [
    "# Construct a reduced model with only the significant terms:\n",
    "import copy\n",
    "reducedModel = copy.deepcopy(gscv.best_estimator_)\n",
    "redCoefs = np.zeros([1,len(allCols)])\n",
    "for index, item in enumerate(allCols):\n",
    "    # If a term is significant\n",
    "    if (item[0] != 0) and ((item[1] > 0) or (item[2] < 0)):\n",
    "        redCoefs[0,index] = item[0]\n",
    "    else:\n",
    "        redCoefs[0,index] = 0\n",
    "reducedModel.coef_ = redCoefs"
   ]
  },
  {
   "cell_type": "markdown",
   "metadata": {},
   "source": [
    "Plot ROC curves for in-sample training data, and test data, for both the full and reduced model. The test data here was not used to fit the model at all, so it should approximate how our model will perform prospectively on new data. Furthermore, if we've done a good job regularizing, the in-sample performance should be pretty close to the test data performance."
   ]
  },
  {
   "cell_type": "code",
   "execution_count": 11,
   "metadata": {
    "collapsed": false
   },
   "outputs": [
    {
     "name": "stdout",
     "output_type": "stream",
     "text": [
      "In-sample ROC AUC = 0.768 \n",
      "Test ROC AUC = 0.646 \n",
      "Reduced In-sample ROC AUC = 0.754 \n",
      "Reduced Test ROC AUC = 0.620 \n"
     ]
    },
    {
     "data": {
      "image/png": "[encoded data removed]",
      "text/plain": [
       "<matplotlib.figure.Figure at 0x1044c8eb8>"
      ]
     },
     "metadata": {},
     "output_type": "display_data"
    }
   ],
   "source": [
    "# Plot an ROC curve for training\n",
    "plt.clf\n",
    "pred_train = gscv.predict_proba(X_train)[:,1]\n",
    "rocAUC_train = sklm.roc_auc_score(y_train,pred_train)\n",
    "print('In-sample ROC AUC = %.3f ' % rocAUC_train)\n",
    "fpr, tpr, _ = sklm.roc_curve(y_train, pred_train)\n",
    "plt.figure()\n",
    "plt.plot(fpr,tpr,label='In-sample')\n",
    "\n",
    "# Plot an ROC curve for test data\n",
    "pred_test = gscv.predict_proba(X_test)[:,1]\n",
    "rocAUC_test = sklm.roc_auc_score(y_test,pred_test)\n",
    "print('Test ROC AUC = %.3f ' % rocAUC_test)\n",
    "fpr, tpr, _ = sklm.roc_curve(y_test, pred_test)\n",
    "plt.plot(fpr,tpr,label='Test')\n",
    "\n",
    "# Plot an ROC curve for training, reduced model\n",
    "pred_train = reducedModel.predict_proba(X_train)[:,1]\n",
    "rocAUC_train = sklm.roc_auc_score(y_train,pred_train)\n",
    "print('Reduced In-sample ROC AUC = %.3f ' % rocAUC_train)\n",
    "fpr, tpr, _ = sklm.roc_curve(y_train, pred_train)\n",
    "plt.plot(fpr,tpr,label='Reduced In-sample')\n",
    "\n",
    "# Plot an ROC curve for test data, reduced model\n",
    "pred_test = reducedModel.predict_proba(X_test)[:,1]\n",
    "rocAUC_test = sklm.roc_auc_score(y_test,pred_test)\n",
    "print('Reduced Test ROC AUC = %.3f ' % rocAUC_test)\n",
    "fpr, tpr, _ = sklm.roc_curve(y_test, pred_test)\n",
    "plt.plot(fpr,tpr,label='Reduced Test')\n",
    "\n",
    "# Format the ROC plot\n",
    "plt.plot([0, 1], [0, 1], color='k', linestyle=':')\n",
    "plt.xlim([0.0, 1.0])\n",
    "plt.ylim([0.0, 1.0])\n",
    "plt.xlabel('False Positive Rate')\n",
    "plt.ylabel('True Positive Rate')\n",
    "plt.gca().set_aspect('equal', adjustable='box')\n",
    "plt.legend(loc='lower right')\n",
    "plt.show()"
   ]
  },
  {
   "cell_type": "code",
   "execution_count": null,
   "metadata": {
    "collapsed": false
   },
   "outputs": [],
   "source": []
  },
  {
   "cell_type": "code",
   "execution_count": null,
   "metadata": {
    "collapsed": true
   },
   "outputs": [],
   "source": []
  }
 ],
 "metadata": {
  "kernelspec": {
   "display_name": "Python 3",
   "language": "python",
   "name": "python3"
  },
  "language_info": {
   "codemirror_mode": {
    "name": "ipython",
    "version": 3
   },
   "file_extension": ".py",
   "mimetype": "text/x-python",
   "name": "python",
   "nbconvert_exporter": "python",
   "pygments_lexer": "ipython3",
   "version": "3.5.2"
  }
 },
 "nbformat": 4,
 "nbformat_minor": 1
}
