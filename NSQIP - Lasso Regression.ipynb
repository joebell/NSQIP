{
 "cells": [
  {
   "cell_type": "markdown",
   "metadata": {},
   "source": [
    "# NSQIP - LASSO Regression\n",
    "---\n",
    "\n",
    "Regressing on all of our predictors at once will tend to produce an over-fitted model. A traditional approach to this is to use a stepwise selection procedure, fitting individual best-fitting terms in sequence and adding them to build up a model in an interative fashion. These models are pretty common in the literature, but statisticians tend not to like them for a variety of reasons. Some of these are technical, but a pretty basic reason is that doing dozens of repeated statistical tests makes the meaning of each statistical test less valid.\n",
    "\n",
    "A more modern approach is to use a regularization term in the regression that penalizes the model fit based on the size of coefficients. Popular ways of doing this include Ridge Regression, Lasso Regression, and Elastic Net Regression. Ridge Regression uses a penalty based on the $L^2$ norm of the vector of coefficients (which is just the euclidean length of the coefficient vector). Lasso Regression uses a penalty based on the $L^1$ norm (which is the sum of the absolute values of the coefficients). Elastic Net Regression uses a combination of $L^1$ and $L^2$ penalties. Given covarying predictors, Lasso regression will tend to fit based on one of them, and shrink the others to zero, giving a sparse model. More information can be found here: \n",
    "\n",
    "[Tibshirani, R. (1996). Regression shrinkage and selection via the lasso. Journal of the Royal Statistical Society. Series B (Methodological), 267-288.](http://www.jstor.org.ezp-prod1.hul.harvard.edu/stable/2346178)"
   ]
  },
  {
   "cell_type": "markdown",
   "metadata": {},
   "source": [
    "Begin with imports of key libraries, and load the data."
   ]
  },
  {
   "cell_type": "code",
   "execution_count": 1,
   "metadata": {
    "collapsed": true
   },
   "outputs": [],
   "source": [
    "import pandas as pd\n",
    "import numpy as np\n",
    "import matplotlib.pyplot as plt\n",
    "from sklearn.preprocessing import Imputer\n",
    "from sklearn.linear_model import LogisticRegression\n",
    "from sklearn.preprocessing import StandardScaler\n",
    "from sklearn.cross_validation import cross_val_score\n",
    "from sklearn.grid_search import GridSearchCV\n",
    "import statsmodels.discrete.discrete_model as sm\n",
    "import sklearn.metrics as sklm\n",
    "import random\n",
    "import warnings \n",
    "import math\n",
    "warnings.filterwarnings(\"ignore\") # Ignore annoying warnings\n",
    "\n",
    "dataDir = './Data/'\n",
    "mungedFileName = dataDir + 'mungedData.pkl'\n",
    "\n",
    "cdf = pd.read_pickle(mungedFileName)"
   ]
  },
  {
   "cell_type": "markdown",
   "metadata": {},
   "source": [
    "Next, determine which response and predictor columns we want to use."
   ]
  },
  {
   "cell_type": "code",
   "execution_count": 2,
   "metadata": {
    "collapsed": false
   },
   "outputs": [],
   "source": [
    "# y is True if any readmission variable is hot. It's NaN if all variables are null.\n",
    "y = cdf[['READMISSION1-Yes','READMISSION-Yes']].any(1)\n",
    "y[cdf[['READMISSION1-Yes','READMISSION-Yes']].isnull().all(1)] = np.nan\n",
    "\n",
    "# Would like to drop rows with NaN y data\n",
    "nanIdx = np.isnan(y).nonzero()\n",
    "y = np.delete(y.ravel(), nanIdx ,axis=0)\n",
    "cdf.drop(cdf.index[nanIdx], axis=0, inplace=True)\n",
    "\n",
    "# Either drop or keep columns from cdf\n",
    "dropOrKeep = False\n",
    "if dropOrKeep:\n",
    "    dropList = ['READMISSION-','READMISSION1-','REOPERATION-',\\\n",
    "                'REOPERATION1-','NWNDINFD-','WNDINFD-','DEHIS-','NDEHIS-',\\\n",
    "                'MORBPROB','NSUPINFEC-','SUPINFEC-','RETORPODAYS','OTHSYSEP',\\\n",
    "                'NOTHSYSEP-']\n",
    "    colsToDrop = [colName for colName in cdf.columns if np.any([dropItem in colName for dropItem in dropList])]\n",
    "    cdf = cdf.drop(colsToDrop,1)\n",
    "    print('Dropped some variables: ')\n",
    "    print(colsToDrop)\n",
    "    # These are being dropped automatically by Imputer\n",
    "    colsToDrop = [ 4,5,6,16,17,18,137,191,192,193,194,195,212,213,214,236,237,238,\\\n",
    "                  239,284,285,316,317,350,351,411,412,413,414,505,506,507,514,517]\n",
    "    cdf = cdf.drop(cdf.columns[colsToDrop],axis=1)\n",
    "    \n",
    "else:\n",
    "    # Dropping these columns is super-cumbersome. Let's find a list to keep\n",
    "    # Need to add FNSTATUS1 and RBC\n",
    "    keepList = ['SEX', 'RACE_NEW','ETHNICITY_HISPANIC','AGE','ANESTHES','HEIGHT','WEIGHT','DIABETES',\\\n",
    "                'SMOKE','PACKS','ETOH','DYSPNEA','FNSTATUS2','VENTILAT','HXCOPD','CPNEUMON',\\\n",
    "                'HXCHF','HXMI','PRVPCI','PRVPCS','HXANGINA','HYPERMED','HXPVD','RENAFAIL','DIALYSIS',\\\n",
    "                'CVA','DISCANCR','WNDINF','STEROID','WTLOSS','BLEEDDIS','PROPER30','ASACLASS',\\\n",
    "                'ASCITES','PRSODM','PRBUN','PRCREAT','PRALBUM','PRBILI','PRSGOT','PRALKPH','PRWBC'\\\n",
    "                'PRHCT','PRPLATE','PRPTT','PRINR','PRPT','PGY']\n",
    "    colsToKeep = [colName for colName in cdf.columns if np.any([keepItem in colName for keepItem in keepList])]\n",
    "    cdf = cdf[colsToKeep]"
   ]
  },
  {
   "cell_type": "markdown",
   "metadata": {},
   "source": [
    "These regression models will fail on missing data, so we'll impute missing data for each column by setting it equal to the mean.\n",
    "\n",
    "Since our regularization penalty is based on the size of the coefficients, we need to scale each column to have approximately equal mean and variance. We also add an intercept column."
   ]
  },
  {
   "cell_type": "code",
   "execution_count": 3,
   "metadata": {
    "collapsed": false
   },
   "outputs": [],
   "source": [
    "# Add an intercept\n",
    "cdf['intercept'] = 1.0\n",
    "\n",
    "# Impute missing data in cdf\n",
    "colNames = cdf.columns\n",
    "imp = Imputer(missing_values='NaN', strategy='mean', axis=0, verbose=True)\n",
    "imp.fit(cdf)\n",
    "X = imp.transform(cdf)\n",
    "cdf = pd.DataFrame(X, columns=colNames)\n",
    "\n",
    "# Scale the columns\n",
    "X = StandardScaler().fit_transform(cdf)\n",
    "scaledX = pd.DataFrame(X, columns=colNames)"
   ]
  },
  {
   "cell_type": "markdown",
   "metadata": {},
   "source": [
    "We break the data into separate fractions for training and testing. All of our fitting and cross-validation will be done on the training set. The testing set will be held out to evaluate the final model performance."
   ]
  },
  {
   "cell_type": "code",
   "execution_count": 4,
   "metadata": {
    "collapsed": false
   },
   "outputs": [],
   "source": [
    "# Split for cross-validation\n",
    "from sklearn.cross_validation import train_test_split\n",
    "X_train, X_test, y_train, y_test = train_test_split(scaledX, y, test_size=0.33)"
   ]
  },
  {
   "cell_type": "markdown",
   "metadata": {
    "collapsed": false
   },
   "source": [
    "We'll create a LogisticRegression object with $L^1$ regularization, corresponding to LASSO.\n",
    "\n",
    "We need to determine the appropriate value of the regularization strength $C$. To do this we'll do a cross-validated grid search, trying different values of $C$, and calculating the ROC AUC on the held-out cross-validation fraction. (Nb. This is not using the 'test' data held out above.)\n",
    "\n",
    "We need to find some way here to determine confidence intervals on the regression parameters. How to do this well is still an area of active research (see references below), and it's still the Wild West in terms of how it's deployed in the biomedical literature. We'll take a pretty naive approach based on bootstrap resampling cases and refitting the LASSO. In practice this works pretty well: it seems to suggest a handful of terms in the final model aren't reliably signficant, but it doesn't seem like the LASSO often misses terms that should be.\n",
    "\n",
    "We can back this up by doing a straight-up (not regularized) multiple regression using the variables selected by the final LASSO. However, because this procedure benefits from the variable selection of the LASSO but not its shrinkage, we expect that it will produce larger coefficients and probably overstate p-values.\n",
    "\n",
    "Some references on bootstrapping LASSO and other model selection techniques:\n",
    "\n",
    "Chatterjee, A., & Lahiri, S. N. (2011). Bootstrapping lasso estimators. Journal of the American Statistical Association, 106(494), 608-625.\n",
    "\n",
    "Lee, J. D., Sun, D. L., Sun, Y., & Taylor, J. E. (2016). Exact post-selection inference, with application to the lasso. The Annals of Statistics, 44(3), 907-927.\n",
    "\n",
    "Efron, B. (2014). Estimation and accuracy after model selection. Journal of the American Statistical Association, 109(507), 991-1007.\n",
    "\n",
    "Zhang, J., Jeng, X. J., & Liu, H. (2008). Some two-step procedures for variable selection in high-dimensional linear regression. arXiv preprint arXiv:0810.1644.\n"
   ]
  },
  {
   "cell_type": "code",
   "execution_count": 5,
   "metadata": {
    "collapsed": false
   },
   "outputs": [
    {
     "name": "stdout",
     "output_type": "stream",
     "text": [
      "Booted #0/10 with C: 0.028\n",
      "Booted #1/10 with C: 0.022\n",
      "Booted #2/10 with C: 0.058\n",
      "Booted #3/10 with C: 0.028\n",
      "Booted #4/10 with C: 0.120\n",
      "Booted #5/10 with C: 0.094\n",
      "Booted #6/10 with C: 0.074\n",
      "Booted #7/10 with C: 0.094\n",
      "Booted #8/10 with C: 0.074\n",
      "Booted #9/10 with C: 0.195\n"
     ]
    }
   ],
   "source": [
    "# Do logistic regression, use L1 penalty, for LASSO\n",
    "# Whenever we fit to a sample of data, we'll search through the values\n",
    "# of the regularization strength C that give the highest ROC AUC on \n",
    "# held-out cross-validation data from that sample.\n",
    "lr = LogisticRegression(C=0.01, penalty='l1', tol=0.01)\n",
    "tuned_parameters = [{'C': np.logspace(-2.5,-.5,20,base=10)}]\n",
    "gscv = GridSearchCV(lr,tuned_parameters,cv=10,scoring='roc_auc',verbose=0)\n",
    "\n",
    "# Bootstrap this whole regression\n",
    "nBoots = 10\n",
    "nSamp = X_train.shape[0]\n",
    "nPred = X_train.shape[1]\n",
    "bootParams = np.empty((nBoots, nPred))\n",
    "bootCs = np.empty((nBoots,1))\n",
    "# For each bootstrap sample\n",
    "for bootN in np.arange(nBoots):\n",
    "    # Draw a collection of observations from the training set with replacement\n",
    "    sampIdx = [random.randint(0,nSamp-1) for n in np.arange(nSamp)]\n",
    "    y_boot = y_train[sampIdx]\n",
    "    X_boot = X_train.iloc[sampIdx,:]\n",
    "    \n",
    "    # Fit the model to the bootstrap sample. \n",
    "    gscv.fit(X_boot, y_boot)\n",
    "    \n",
    "    # Store the coefficients (and the best C values) for each bootstrapped sample\n",
    "    coeffs = gscv.best_estimator_.coef_.ravel()\n",
    "    bootParams[bootN,:] = coeffs\n",
    "    bootCs[bootN] = gscv.best_params_['C']\n",
    "    print('Booted #%d/%d with C: %.3f' % (bootN+1, nBoots, bootCs[bootN]))"
   ]
  },
  {
   "cell_type": "code",
   "execution_count": 6,
   "metadata": {
    "collapsed": false
   },
   "outputs": [
    {
     "name": "stdout",
     "output_type": "stream",
     "text": [
      "Best C: 0.058\n"
     ]
    }
   ],
   "source": [
    "# Now that we've bootstrapped, we can fit the model to the actual training data sample\n",
    "gscv.fit(X_train, y_train)\n",
    "bestEst = gscv.best_estimator_\n",
    "coeffs = bestEst.coef_.ravel()\n",
    "print('Best C: %.3f' % gscv.best_params_['C'])"
   ]
  },
  {
   "cell_type": "code",
   "execution_count": 7,
   "metadata": {
    "collapsed": false
   },
   "outputs": [],
   "source": [
    "# Identify confidence intervals from the parameters fit to the bootstrapped samples\n",
    "lciIdx = round(.025*(nBoots-1))\n",
    "uciIdx = round(.975*(nBoots-1))\n",
    "bootParams.shape\n",
    "bootParams.sort(axis=0)\n",
    "lowCI = bootParams[lciIdx,:]\n",
    "upCI  = bootParams[uciIdx,:]\n",
    "allCols = [(coeffs[index], lowCI[index], upCI[index], colName) for index, colName\\\n",
    "           in enumerate(X_boot.columns)]"
   ]
  },
  {
   "cell_type": "markdown",
   "metadata": {},
   "source": [
    "Now print out significant coefficients. Remember that variables have been scaled, so coefficient size is a good measure of effect size, but we need to transform them back to get them in natural units."
   ]
  },
  {
   "cell_type": "code",
   "execution_count": 8,
   "metadata": {
    "collapsed": false
   },
   "outputs": [
    {
     "name": "stdout",
     "output_type": "stream",
     "text": [
      "--- Terms in final model, and significant ---\n",
      "Coeff: +0.284 [+0.156, +0.513] AGE  \n",
      "Coeff: +0.116 [+0.077, +0.243] DIABETES-INSULIN  \n",
      "Coeff: +0.052 [+0.002, +0.124] DIALYSIS-Yes  \n",
      "Coeff: +0.230 [+0.023, +0.285] NWNDINFD-0  \n",
      "Coeff: -0.109 [-0.165, -0.073] PRALBUM  \n",
      "Coeff: +0.088 [+0.050, +0.126] PRALKPH  \n",
      "Coeff: -0.033 [-0.235, -0.017] WNDINFD-Deep Incisional SSI  \n",
      "--- Terms in final model, and NOT significant ---\n",
      "Coeff: -0.033 [-0.207, +0.000] ANESTHES-Spinal  \n",
      "Coeff: -0.007 [-0.035, +0.000] ANESTHES_OTHER-General  \n",
      "Coeff: +0.086 [+0.000, +0.179] ANESTHES_OTHER-Spinal  \n",
      "Coeff: +0.009 [+0.000, +0.049] CNSCVA-No Complication  \n",
      "Coeff: +0.038 [+0.000, +0.124] CVA-Yes  \n",
      "Coeff: -0.034 [-0.053, +0.000] DCNSCVA-0.0  \n",
      "Coeff: -0.105 [-0.155, +0.000] DIABETES-NO  \n",
      "Coeff: +0.049 [+0.000, +0.131] DPRINR  \n",
      "Coeff: -0.014 [-0.066, +0.000] DPRPT  \n",
      "Coeff: +0.013 [+0.000, +0.144] DPRPTT  \n",
      "Coeff: +0.009 [-0.020, +0.078] DWNDINFD  \n",
      "Coeff: +0.038 [+0.000, +0.074] DYSPNEA-AT REST  \n",
      "Coeff: -0.019 [-0.142, +0.000] DYSPNEA-No  \n",
      "Coeff: -0.043 [-0.093, +0.000] ETHNICITY_HISPANIC-Unknown  \n",
      "Coeff: +0.001 [+0.000, +0.117] ETHNICITY_HISPANIC-Yes  \n",
      "Coeff: +0.076 [+0.000, +0.129] ETOH-Yes  \n",
      "Coeff: +0.017 [+0.000, +0.124] FNSTATUS2-Partially Dependent  \n",
      "Coeff: +0.039 [+0.000, +0.044] NCNSCVA-0  \n",
      "Coeff: +0.009 [+0.000, +0.063] PACKS  \n",
      "Coeff: +0.008 [-0.016, +0.048] PRBUN  \n",
      "Coeff: +0.048 [+0.000, +0.117] PRCREAT  \n",
      "Coeff: +0.030 [+0.000, +0.090] PRINR  \n",
      "Coeff: -0.028 [-0.122, +0.000] PROPER30-Yes  \n",
      "Coeff: +0.017 [+0.000, +0.056] PRPT  \n",
      "Coeff: +0.055 [-0.129, +0.089] PRPTT  \n",
      "Coeff: +0.041 [+0.000, +0.088] PRVPCI-Yes  \n",
      "Coeff: -0.087 [-0.264, +0.000] RACE_NEW-Unknown/Not Reported  \n",
      "Coeff: -0.043 [-0.106, +0.000] RENAFAIL-Yes  \n",
      "Coeff: +0.007 [+0.000, +0.060] WEIGHT  \n",
      "--- Terms NOT in final model, and significant ---\n",
      "--- Terms NOT in final model, and NOT significant ---\n",
      "Coeff: +0.000 [-0.034, +0.000] ANESTHES-Epidural  \n",
      "Coeff: +0.000 [+0.000, +0.065] ANESTHES-General  \n",
      "Coeff: +0.000 [+0.000, +0.000] ANESTHES-Local  \n",
      "Coeff: +0.000 [+0.000, +0.063] ANESTHES-MAC/IV Sedation  \n",
      "Coeff: +0.000 [+0.000, +0.000] ANESTHES-Monitored Anesthesia Care  \n",
      "Coeff: +0.000 [+0.000, +0.000] ANESTHES-None  \n",
      "Coeff: +0.000 [-0.015, +0.000] ANESTHES-Other  \n",
      "Coeff: +0.000 [-0.070, +0.011] ANESTHES-Regional  \n",
      "Coeff: +0.000 [+0.000, +0.000] ANESTHES_OTHER-Epidural  \n",
      "Coeff: +0.000 [+0.000, +0.000] ANESTHES_OTHER-Epidural,Regional  \n",
      "Coeff: +0.000 [+0.000, +0.056] ANESTHES_OTHER-Local  \n",
      "Coeff: +0.000 [+0.000, +0.000] ANESTHES_OTHER-Local,Monitored Anesthesia Care/IV Sedation  \n",
      "Coeff: +0.000 [+0.000, +0.000] ANESTHES_OTHER-Local,Other  \n",
      "Coeff: +0.000 [+0.000, +0.086] ANESTHES_OTHER-Monitored Anesthesia Care/IV Sedation  \n",
      "Coeff: +0.000 [+0.000, +0.000] ANESTHES_OTHER-Other  \n",
      "Coeff: +0.000 [-0.045, +0.000] ANESTHES_OTHER-Regional  \n",
      "Coeff: +0.000 [+0.000, +0.000] ANESTHES_OTHER-Regional,Local  \n",
      "Coeff: +0.000 [+0.000, +0.000] ANESTHES_OTHER-Regional,Monitored Anesthesia Care/IV Sedation  \n",
      "Coeff: +0.000 [-0.006, +0.000] ANESTHES_OTHER-Regional,Other  \n",
      "Coeff: +0.000 [+0.000, +0.000] ANESTHES_OTHER-Spinal,Epidural  \n",
      "Coeff: +0.000 [-0.006, +0.000] ANESTHES_OTHER-Spinal,Local  \n",
      "Coeff: +0.000 [+0.000, +0.000] ANESTHES_OTHER-Spinal,Monitored Anesthesia Care/IV Sedation  \n",
      "Coeff: +0.000 [+0.000, +0.000] ANESTHES_OTHER-Spinal,Regional  \n",
      "Coeff: +0.000 [-0.134, +0.000] CONCURR2-INJECTION ANESTHETIC AGENT SCIATIC NRV SINGLE  \n",
      "Coeff: +0.000 [+0.000, +0.000] CPNEUMON-Yes  \n",
      "Coeff: +0.000 [-0.025, +0.028] CVANO-Yes  \n",
      "Coeff: +0.000 [+0.000, +0.069] DCNSCVA-10.0  \n",
      "Coeff: +0.000 [+0.000, +0.000] DCNSCVA-3.0  \n",
      "Coeff: +0.000 [+0.000, +0.043] DCNSCVA-4.0  \n",
      "Coeff: +0.000 [+0.000, +0.000] DIABETES-NON-INSULIN  \n",
      "Coeff: +0.000 [+0.000, +0.000] DIABETES-ORAL  \n",
      "Coeff: +0.000 [-0.119, +0.000] DPRALBUM  \n",
      "Coeff: +0.000 [-0.118, +0.000] DPRALKPH  \n",
      "Coeff: +0.000 [+0.000, +0.000] DPRBILI  \n",
      "Coeff: +0.000 [+0.000, +0.022] DPRBUN  \n",
      "Coeff: +0.000 [+0.000, +0.000] DPRCREAT  \n",
      "Coeff: +0.000 [-0.030, +0.030] DPRPLATE  \n",
      "Coeff: +0.000 [+0.000, +0.000] DPRSGOT  \n",
      "Coeff: +0.000 [-0.045, +0.038] DYSPNEA-MODERATE EXERTION  \n",
      "Coeff: +0.000 [-0.023, +0.020] ETHNICITY_HISPANIC-No  \n",
      "Coeff: +0.000 [+0.000, +0.004] FNSTATUS2-Independent  \n",
      "Coeff: +0.000 [+0.000, +0.076] FNSTATUS2-Totally Dependent  \n",
      "Coeff: +0.000 [-0.193, +0.005] FNSTATUS2-Unknown  \n",
      "Coeff: +0.000 [+0.000, +0.131] HEIGHT  \n",
      "Coeff: +0.000 [-0.004, +0.000] HXANGINA-Yes  \n",
      "Coeff: +0.000 [-0.030, +0.000] HXMI-Yes  \n",
      "Coeff: +0.000 [-0.046, +0.009] HXPVD-Yes  \n",
      "Coeff: +0.000 [-0.030, +0.000] PGY  \n",
      "Coeff: +0.000 [-0.038, +0.040] PRBILI  \n",
      "Coeff: +0.000 [-0.030, +0.075] PRPLATE  \n",
      "Coeff: +0.000 [-0.123, +0.039] PRSGOT  \n",
      "Coeff: +0.000 [+0.000, +0.087] PRSODM  \n",
      "Coeff: +0.000 [-0.075, +0.000] PRVPCS-Yes  \n",
      "Coeff: +0.000 [-0.033, +0.001] RACE_NEW-American Indian or Alaska Native  \n",
      "Coeff: +0.000 [-0.061, +0.000] RACE_NEW-Asian  \n",
      "Coeff: +0.000 [+0.000, +0.029] RACE_NEW-Black or African American  \n",
      "Coeff: +0.000 [-0.058, +0.000] RACE_NEW-Native Hawaiian or Pacific Islander  \n",
      "Coeff: +0.000 [-0.077, +0.093] RACE_NEW-Unknown  \n",
      "Coeff: +0.000 [+0.000, +0.023] RACE_NEW-White  \n",
      "Coeff: +0.000 [-0.049, +0.053] SEX-female  \n",
      "Coeff: +0.000 [-0.042, +0.000] SEX-male  \n",
      "Coeff: +0.000 [+0.000, +0.000] intercept  \n"
     ]
    }
   ],
   "source": [
    "# Print out the coefficient if it was included in the final model\n",
    "# ... or if it was significant in the bootstrap.\n",
    "print('--- Terms in final model, and significant ---')\n",
    "for item in allCols:\n",
    "    if (item[0] != 0) and ((item[1] > 0) or (item[2] < 0)):\n",
    "        print('Coeff: %+.3f [%+.3f, %+.3f] %s  ' % item)\n",
    "print('--- Terms in final model, and NOT significant ---')\n",
    "for item in allCols:\n",
    "    if (item[0] != 0) and ~((item[1] > 0) or (item[2] < 0)):\n",
    "        print('Coeff: %+.3f [%+.3f, %+.3f] %s  ' % item)\n",
    "print('--- Terms NOT in final model, and significant ---')\n",
    "for item in allCols:\n",
    "    if (item[0] == 0) and ((item[1] > 0) or (item[2] < 0)):\n",
    "        print('Coeff: %+.3f [%+.3f, %+.3f] %s  ' % item)\n",
    "print('--- Terms NOT in final model, and NOT significant ---')\n",
    "for item in allCols:\n",
    "    if (item[0] == 0) and ~((item[1] > 0) or (item[2] < 0)):\n",
    "        print('Coeff: %+.3f [%+.3f, %+.3f] %s  ' % item)"
   ]
  },
  {
   "cell_type": "markdown",
   "metadata": {},
   "source": [
    "Now plot the mean cross-validated AUC for each value of $C$ we tried for the final model. The model uses the best value of $C$ (dotted line)."
   ]
  },
  {
   "cell_type": "code",
   "execution_count": 9,
   "metadata": {
    "collapsed": false
   },
   "outputs": [
    {
     "data": {
      "image/png": "[encoded data removed]",
      "text/plain": [
       "<matplotlib.figure.Figure at 0x1194008d0>"
      ]
     },
     "metadata": {},
     "output_type": "display_data"
    }
   ],
   "source": [
    "gscv.grid_scores_\n",
    "means = [mean_score for params, mean_score, scores in gscv.grid_scores_]\n",
    "Cs = [params['C'] for params, mean_score, scores in gscv.grid_scores_]\n",
    "plt.plot(np.log10(Cs), means)\n",
    "bestC = gscv.best_params_['C']\n",
    "ylims = plt.gca().get_ylim()\n",
    "plt.plot(np.log10([bestC, bestC]),ylims,color='k',ls=':')\n",
    "plt.ylim(ylims)\n",
    "plt.xlabel('$Log_{10}(C)$')\n",
    "plt.ylabel('Cross-validated AUC')\n",
    "plt.show()"
   ]
  },
  {
   "cell_type": "markdown",
   "metadata": {},
   "source": [
    "Ok, as an aside, what happens if we just take all the terms from the final regression model, and plug those into a standard (unregularized) logistic regression? It looks like the covariance matrix is singular here, even for just the significant predictors. **We can regularize to make it work, but we need to return and fix this.**"
   ]
  },
  {
   "cell_type": "code",
   "execution_count": 50,
   "metadata": {
    "collapsed": false
   },
   "outputs": [
    {
     "name": "stdout",
     "output_type": "stream",
     "text": [
      "Optimization terminated successfully.    (Exit mode 0)\n",
      "            Current function value: 0.672716103699\n",
      "            Iterations: 23\n",
      "            Function evaluations: 23\n",
      "            Gradient evaluations: 23\n",
      "                           Logit Regression Results                           \n",
      "==============================================================================\n",
      "Dep. Variable:                      y   No. Observations:                10047\n",
      "Model:                          Logit   Df Residuals:                    10040\n",
      "Method:                           MLE   Df Model:                            6\n",
      "Date:                Wed, 21 Dec 2016   Pseudo R-squ.:                  -4.117\n",
      "Time:                        14:26:42   Log-Likelihood:                -6758.8\n",
      "converged:                       True   LL-Null:                       -1320.9\n",
      "                                        LLR p-value:                     1.000\n",
      "===============================================================================================\n",
      "                                  coef    std err          z      P>|z|      [95.0% Conf. Int.]\n",
      "-----------------------------------------------------------------------------------------------\n",
      "AGE                             0.0328      0.021      1.587      0.113        -0.008     0.073\n",
      "DIABETES-INSULIN                0.0469      0.021      2.216      0.027         0.005     0.088\n",
      "DIALYSIS-Yes                    0.0446      0.021      2.098      0.036         0.003     0.086\n",
      "NWNDINFD-0                      2.7183   2.05e+07   1.33e-07      1.000     -4.01e+07  4.01e+07\n",
      "PRALBUM                        -0.0239      0.021     -1.131      0.258        -0.065     0.018\n",
      "PRALKPH                         0.0309      0.020      1.516      0.130        -0.009     0.071\n",
      "WNDINFD-Deep Incisional SSI    -2.7183   2.05e+07  -1.33e-07      1.000     -4.01e+07  4.01e+07\n",
      "===============================================================================================\n"
     ]
    }
   ],
   "source": [
    "# modelCols = X_train.columns[coeffs != 0].values.tolist()\n",
    "modelCols = X_train.columns[np.logical_or(lowCI > 0, upCI < 0)].values.tolist()\n",
    "logit = sm.Logit(y_train, X_train[modelCols])\n",
    "smresult = logit.fit_regularized(disp=True, alpha=0)  \n",
    "print(smresult.summary())"
   ]
  },
  {
   "cell_type": "code",
   "execution_count": null,
   "metadata": {
    "collapsed": false
   },
   "outputs": [],
   "source": []
  },
  {
   "cell_type": "markdown",
   "metadata": {},
   "source": [
    "Plot ROC curves for in-sample training data, and test data. The test data here was not used to fit the model at all, so it should approximate how our model will perform prospectively on new data. Furthermore, if we've done a good job regularizing, the in-sample performance should be pretty close to the test data performance."
   ]
  },
  {
   "cell_type": "code",
   "execution_count": 56,
   "metadata": {
    "collapsed": false
   },
   "outputs": [
    {
     "name": "stdout",
     "output_type": "stream",
     "text": [
      "In-sample ROC AUC = 0.753 \n",
      "Test ROC AUC = 0.737 \n",
      "In-sample LR ROC AUC = 0.722 \n",
      "Test LR ROC AUC = 0.720 \n"
     ]
    },
    {
     "data": {
      "image/png": "[encoded data removed]",
      "text/plain": [
       "<matplotlib.figure.Figure at 0x116a24208>"
      ]
     },
     "metadata": {},
     "output_type": "display_data"
    }
   ],
   "source": [
    "# Plot an ROC curve for training\n",
    "plt.clf\n",
    "pred_train = gscv.predict_proba(X_train)[:,1]\n",
    "rocAUC_train = sklm.roc_auc_score(y_train,pred_train)\n",
    "print('In-sample ROC AUC = %.3f ' % rocAUC_train)\n",
    "fpr, tpr, _ = sklm.roc_curve(y_train, pred_train)\n",
    "plt.figure()\n",
    "plt.plot(fpr,tpr,label='In-sample')\n",
    "\n",
    "# Plot an ROC curve for test data\n",
    "pred_test = gscv.predict_proba(X_test)[:,1]\n",
    "rocAUC_test = sklm.roc_auc_score(y_test,pred_test)\n",
    "print('Test ROC AUC = %.3f ' % rocAUC_test)\n",
    "fpr, tpr, _ = sklm.roc_curve(y_test, pred_test)\n",
    "plt.plot(fpr,tpr,label='Test')\n",
    "\n",
    "# Plot an ROC curve for the training data on the LR model\n",
    "pred_lr_train = smresult.predict(X_train[modelCols])\n",
    "rocAUC_lr_train = sklm.roc_auc_score(y_train,pred_lr_train)\n",
    "print('In-sample LR ROC AUC = %.3f ' % rocAUC_lr_train)\n",
    "fpr, tpr, _ = sklm.roc_curve(y_train, pred_lr_train)\n",
    "plt.plot(fpr,tpr,label='In-sample LR')\n",
    "\n",
    "# Plot an ROC curve for the test data on the LR model\n",
    "pred_lr_test = smresult.predict(X_test[modelCols])\n",
    "rocAUC_lr_test = sklm.roc_auc_score(y_test,pred_lr_test)\n",
    "print('Test LR ROC AUC = %.3f ' % rocAUC_lr_test)\n",
    "fpr, tpr, _ = sklm.roc_curve(y_test, pred_lr_test)\n",
    "plt.plot(fpr,tpr,label='Test LR')\n",
    "\n",
    "# Format the ROC plot\n",
    "plt.plot([0, 1], [0, 1], color='k', linestyle=':')\n",
    "plt.xlim([0.0, 1.0])\n",
    "plt.ylim([0.0, 1.0])\n",
    "plt.xlabel('False Positive Rate')\n",
    "plt.ylabel('True Positive Rate')\n",
    "plt.gca().set_aspect('equal', adjustable='box')\n",
    "plt.legend(loc='lower right')\n",
    "plt.show()"
   ]
  },
  {
   "cell_type": "code",
   "execution_count": null,
   "metadata": {
    "collapsed": true
   },
   "outputs": [],
   "source": []
  }
 ],
 "metadata": {
  "kernelspec": {
   "display_name": "Python 3",
   "language": "python",
   "name": "python3"
  },
  "language_info": {
   "codemirror_mode": {
    "name": "ipython",
    "version": 3
   },
   "file_extension": ".py",
   "mimetype": "text/x-python",
   "name": "python",
   "nbconvert_exporter": "python",
   "pygments_lexer": "ipython3",
   "version": "3.5.2"
  }
 },
 "nbformat": 4,
 "nbformat_minor": 1
}
