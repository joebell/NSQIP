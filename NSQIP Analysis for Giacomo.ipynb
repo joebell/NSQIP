{
 "cells": [
  {
   "cell_type": "markdown",
   "metadata": {},
   "source": [
    "# NSQIP Analysis for Giacomo"
   ]
  },
  {
   "cell_type": "markdown",
   "metadata": {},
   "source": [
    "It looks like there are 3 datasets here, corresponding to periods 2008-2012, 2013, and 2014. "
   ]
  },
  {
   "cell_type": "code",
   "execution_count": 6,
   "metadata": {
    "collapsed": true
   },
   "outputs": [],
   "source": [
    "dataDir = './Data/'\n",
    "fileName1 = 'NSQIP F&A 2008-2012 mid-hindfoot final.xlsx'\n",
    "fileName2 = 'NSQIP F&A 2013 Mid-Hindfoot final.xlsx'\n",
    "fileName3 = 'NSQIP F&A Mid-hindfoot 2014 final.xlsx'"
   ]
  },
  {
   "cell_type": "markdown",
   "metadata": {},
   "source": [
    "Before we get going we'll need to load some libraries."
   ]
  },
  {
   "cell_type": "code",
   "execution_count": 7,
   "metadata": {
    "collapsed": true
   },
   "outputs": [],
   "source": [
    "import pandas as pd\n",
    "import numpy as np"
   ]
  },
  {
   "cell_type": "markdown",
   "metadata": {},
   "source": [
    "Now we'll actually import the data."
   ]
  },
  {
   "cell_type": "code",
   "execution_count": 15,
   "metadata": {
    "collapsed": false
   },
   "outputs": [],
   "source": [
    "df1 = pd.read_excel(dataDir+fileName1)\n",
    "df2 = pd.read_excel(dataDir+fileName2)\n",
    "df3 = pd.read_excel(dataDir+fileName3)"
   ]
  },
  {
   "cell_type": "markdown",
   "metadata": {},
   "source": [
    "If we look at the columns in each dataset..."
   ]
  },
  {
   "cell_type": "code",
   "execution_count": 36,
   "metadata": {
    "collapsed": false
   },
   "outputs": [
    {
     "name": "stdout",
     "output_type": "stream",
     "text": [
      "CASEID | CaseID | CaseID\n",
      "SEX | SEX | SEX\n",
      "RACE_NEW | RACE_NEW | RACE_NEW\n",
      "ETHNICITY_HISPANIC | ETHNICITY_HISPANIC | ETHNICITY_HISPANIC\n",
      "PRNCPTX | PRNCPTX | PRNCPTX\n",
      "CPT | CPT | CPT\n",
      "WORKRVU | WORKRVU | WORKRVU\n",
      "INOUT | INOUT | INOUT\n",
      "TRANST | TRANST | TRANST\n",
      "AGE | Age | Age\n",
      "ADMYR | AdmYR | AdmYR\n",
      "ADMSYR | AdmSYR | AdmSYR\n",
      "OPERYR | OperYR | OperYR\n",
      "ANESTHES | DISCHDEST | DISCHDEST\n",
      "ATTEND | ANESTHES | ANESTHES\n",
      "SURGSPEC | ATTEND | ATTEND\n",
      "HEIGHT | SURGSPEC | SURGSPEC\n",
      "WEIGHT | ELECTSURG | ELECTSURG\n",
      "DIABETES | HEIGHT | HEIGHT\n",
      "SMOKE | WEIGHT | WEIGHT\n",
      "PACKS | DIABETES | DIABETES\n",
      "ETOH | SMOKE | SMOKE\n",
      "DYSPNEA | PACKS | PACKS\n",
      "DNR | ETOH | ETOH\n",
      "FNSTATUS1 | DYSPNEA | DYSPNEA\n",
      "FNSTATUS2 | DNR | DNR\n",
      "VENTILAT | FNSTATUS1 | FNSTATUS1\n",
      "HXCOPD | FNSTATUS2 | FNSTATUS2\n",
      "CPNEUMON | VENTILAT | VENTILAT\n",
      "ASCITES | HXCOPD | HXCOPD\n"
     ]
    }
   ],
   "source": [
    "nCol1 = len(df1.columns)\n",
    "nCol2 = len(df2.columns)\n",
    "nCol3 = len(df3.columns)\n",
    "nCol = max([nCol1,nCol2,nCol3])\n",
    "for colN in np.arange(30):\n",
    "    print(df1.columns[colN] +' | '+ \n",
    "          df2.columns[colN] +' | '+ \n",
    "          df3.columns[colN])\n"
   ]
  },
  {
   "cell_type": "markdown",
   "metadata": {},
   "source": [
    "... each dataset doesn't really have the same columns, and the columns aren't aligned. (There are also some minor differences in spelling and capitalization.) We have two options here:\n",
    "\n",
    "1) Analyze datasets separately.\n",
    "\n",
    "2) Try to clean this up at treat it as missing data.\n",
    "\n",
    "I think it makes the most sense to just start with separate analysis, see what we find, and then look at the utility of merging these. There will be missing data in each dataset anyway, so I think getting the merge right won't be critical."
   ]
  },
  {
   "cell_type": "code",
   "execution_count": null,
   "metadata": {
    "collapsed": true
   },
   "outputs": [],
   "source": []
  }
 ],
 "metadata": {
  "kernelspec": {
   "display_name": "Python 3",
   "language": "python",
   "name": "python3"
  },
  "language_info": {
   "codemirror_mode": {
    "name": "ipython",
    "version": 3
   },
   "file_extension": ".py",
   "mimetype": "text/x-python",
   "name": "python",
   "nbconvert_exporter": "python",
   "pygments_lexer": "ipython3",
   "version": "3.5.2"
  }
 },
 "nbformat": 4,
 "nbformat_minor": 1
}
