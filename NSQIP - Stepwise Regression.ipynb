{
 "cells": [
  {
   "cell_type": "code",
   "execution_count": 1,
   "metadata": {
    "collapsed": true
   },
   "outputs": [],
   "source": [
    "import pandas as pd\n",
    "import numpy as np\n",
    "import statsmodels.discrete.discrete_model as sm\n",
    "import statsmodels.stats.multitest as mt\n",
    "from sklearn.preprocessing import Imputer\n",
    "import warnings \n",
    "warnings.filterwarnings(\"ignore\") # Ignore annoying warnings\n",
    "\n",
    "dataDir = './Data/'\n",
    "mungedFileName = dataDir + 'mungedData.pkl'\n",
    "\n",
    "cdf = pd.read_pickle(mungedFileName)"
   ]
  },
  {
   "cell_type": "code",
   "execution_count": 2,
   "metadata": {
    "collapsed": false
   },
   "outputs": [
    {
     "name": "stdout",
     "output_type": "stream",
     "text": [
      "Dropped some variables: \n",
      "['DEHIS-No Complication', 'DOTHSYSEP', 'MORBPROB', 'NDEHIS-0', 'NOTHSYSEP-0', 'NSUPINFEC-0', 'NWNDINFD-0', 'OTHSYSEP-No Complication', 'READMISSION-Yes', 'READMISSION1-Yes', 'REOPERATION-Yes', 'REOPERATION1-Yes', 'RETORPODAYS', 'SUPINFEC-No Complication', 'UNPLANNEDREADMISSION1-Yes', 'UNPLANREADMISSION-Yes', 'WNDINFD-Deep Incisional SSI']\n"
     ]
    }
   ],
   "source": [
    "# y is True if any readmission variable is hot. It's NaN if all variables are null.\n",
    "y = cdf[['READMISSION1-Yes','READMISSION-Yes']].any(1)\n",
    "y[cdf[['READMISSION1-Yes','READMISSION-Yes']].isnull().all(1)] = np.nan\n",
    "\n",
    "# Would like to drop rows with NaN y data\n",
    "nanIdx = np.isnan(y).nonzero()\n",
    "y = np.delete(y.ravel(), nanIdx ,axis=0)\n",
    "cdf.drop(cdf.index[nanIdx], axis=0, inplace=True)\n",
    "\n",
    "# Either drop or keep columns from cdf\n",
    "dropOrKeep = True\n",
    "if dropOrKeep:\n",
    "    dropList = ['READMISSION-','READMISSION1-','REOPERATION-',\\\n",
    "                'REOPERATION1-','NWNDINFD-','WNDINFD-','DEHIS-','NDEHIS-',\\\n",
    "                'MORBPROB','NSUPINFEC-','SUPINFEC-','RETORPODAYS','OTHSYSEP',\\\n",
    "                'NOTHSYSEP-']\n",
    "    colsToDrop = [colName for colName in cdf.columns if np.any([dropItem in colName for dropItem in dropList])]\n",
    "    cdf = cdf.drop(colsToDrop,1)\n",
    "    print('Dropped some variables: ')\n",
    "    print(colsToDrop)\n",
    "    # These are being dropped automatically by Imputer\n",
    "    colsToDrop = [ 4,5,6,16,17,18,137,191,192,193,194,195,212,213,214,236,237,238,\\\n",
    "                  239,284,285,316,317,350,351,411,412,413,414,505,506,507,514,517]\n",
    "    cdf = cdf.drop(cdf.columns[colsToDrop],axis=1)\n",
    "    \n",
    "else:\n",
    "    # Dropping these columns is super-cumbersome. Let's find a list to keep\n",
    "    keepList = ['DISCHDEST-','URNINFEC-','DIABETES-','PRHCT', 'PRALBUM']\n",
    "    colsToKeep = [colName for colName in cdf.columns if np.any([keepItem in colName for keepItem in keepList])]\n",
    "    cdf = cdf[colsToKeep]\n",
    "    \n",
    "# Impute missing data in cdf\n",
    "colNames = cdf.columns\n",
    "imp = Imputer(missing_values='NaN', strategy='mean', axis=0, verbose=True)\n",
    "imp.fit(cdf)\n",
    "cdf = imp.transform(cdf)\n",
    "cdf = pd.DataFrame(cdf, columns=colNames)"
   ]
  },
  {
   "cell_type": "code",
   "execution_count": 3,
   "metadata": {
    "collapsed": false
   },
   "outputs": [],
   "source": [
    "def tryCols( y, X, inclCol):\n",
    "    \n",
    "    anyChanges = False\n",
    "    \n",
    "    addThresh  = 0.05\n",
    "    dumpThresh = 0.15\n",
    "    \n",
    "    baseCols = inclCol[inclCol==True].index.values.tolist()\n",
    "    tryCols =  inclCol[inclCol==False].index.values.tolist()\n",
    "    \n",
    "    # Try to fit all the variables we should try out in the model\n",
    "    fitResultList = []\n",
    "    for colName in tryCols:\n",
    "        modelCols = baseCols + [colName]\n",
    "        \n",
    "        try: \n",
    "            logit = sm.Logit(y, X[modelCols])\n",
    "            smresult = logit.fit(disp=False)\n",
    "            fitResultList = fitResultList + [(smresult.pvalues[colName], colName)]\n",
    "        except:\n",
    "            a = 1\n",
    "            # print('*** ' + colName + ': Exception ***')\n",
    "    \n",
    "    # Correct the p-values for multiple comparisons\n",
    "    pValues = [fitItem[0] for fitItem in fitResultList]\n",
    "    reject, pValues, alphacSidak, alphacBonf = mt.multipletests(pValues, alpha=0.05, method='holm')\n",
    "    corrResultList = [(pValues[index], item[1]) for index, item in enumerate(fitResultList)]\n",
    "    fitResultList = corrResultList\n",
    "        \n",
    "    # If the most significant variable is below threshold, add it to the list\n",
    "    fitResultList.sort()\n",
    "    bestFit = fitResultList[0]\n",
    "    if bestFit[0] < addThresh:\n",
    "        print('\\t Adding: %s p = %.5f' % (bestFit[1], bestFit[0]))\n",
    "        inclCol[bestFit[1]] = True\n",
    "        anyChanges = True\n",
    "    else:\n",
    "        print('\\t Not adding term. Best variable: %s p = %.5f' % (bestFit[1], bestFit[0]))\n",
    "        \n",
    "    # Ok, now re-fit the model with the existing terms\n",
    "    modelCols = inclCol[inclCol==True].index.values.tolist()\n",
    "    logit = sm.Logit(y, X[modelCols])\n",
    "    smresult = logit.fit(disp=False)  \n",
    "    # print(smresult.summary())\n",
    "    maxP = smresult.pvalues.max()\n",
    "    if  maxP > dumpThresh:\n",
    "        colToDump = smresult.pvalues.argmax()\n",
    "        inclCol[colToDump] = False\n",
    "        anyChanges = True\n",
    "        print('\\t Removing term: %s p = %.5f' % (colToDump, maxP))\n",
    "\n",
    "#    reject, pvals_corrected, alphacSidak, alphacBonf = mt.multipletests(values, alpha=0.05, method='holm')\n",
    "    return anyChanges, inclCol, smresult"
   ]
  },
  {
   "cell_type": "code",
   "execution_count": 4,
   "metadata": {
    "collapsed": false
   },
   "outputs": [],
   "source": [
    "inclCol = pd.Series([False for colName in cdf.columns], dtype=bool, index=cdf.columns)"
   ]
  },
  {
   "cell_type": "code",
   "execution_count": 5,
   "metadata": {
    "collapsed": false
   },
   "outputs": [
    {
     "name": "stdout",
     "output_type": "stream",
     "text": [
      "\t Adding: ADMYR-2013 p = 0.00000\n",
      "\t Adding: ADMYR-2014 p = 0.00000\n",
      "\t Adding: AGE p = 0.00000\n",
      "\t Adding: NURNINFEC-0 p = 0.00000\n",
      "\t Adding: REOPOR2CPT1-27880.0 p = 0.00000\n",
      "\t Removing term: ADMYR-2014 p = 0.69748\n",
      "\t Adding: NPULEMBOL-0 p = 0.00000\n",
      "\t Removing term: ADMYR-2013 p = 0.27340\n",
      "\t Adding: OTHERCPT7-27606.0 p = 0.00000\n",
      "\t Removing term: REOPOR2CPT1-27880.0 p = 0.92558\n",
      "\t Adding: NORGSPCSSI-0 p = 0.00000\n",
      "\t Adding: PRHCT p = 0.00000\n",
      "\t Removing term: OTHERCPT7-27606.0 p = 0.63145\n",
      "\t Adding: REOPERATION2-Yes p = 0.00000\n",
      "\t Adding: WNDCLAS-3-Contaminated p = 0.00000\n",
      "\t Adding: NOUPNEUMO-0 p = 0.00000\n",
      "\t Adding: DIALYSIS-Yes p = 0.00000\n",
      "\t Adding: ASACLAS-3-Severe Disturb p = 0.00006\n",
      "\t Adding: READMISSION2-Yes p = 0.00013\n",
      "\t Adding: NOTHDVT-0 p = 0.00026\n",
      "\t Adding: DSSIPATOS-Yes p = 0.00472\n",
      "\t Adding: ASACLAS-4-Life Threat p = 0.01072\n",
      "\t Adding: READMSUSPREASON1-Organ/Space SSI p = 0.00841\n",
      "\t Adding: OSSIPATOS-Yes p = 0.00000\n",
      "\t Adding: READMRELATED1-Yes p = 0.00000\n",
      "\t Adding: DORGSPCSSI p = 0.00000\n",
      "\t Adding: HDISDT-2011.0 p = 0.00000\n",
      "\t Adding: READMSUSPREASON1-Pulmonary Embolism p = 0.02244\n",
      "\t Adding: READMUNRELSUSP1-Organ/Space SSI p = 0.02242\n",
      "\t Not adding term. Best variable: DIABETES-NO p = 0.25895\n",
      "                           Logit Regression Results                           \n",
      "==============================================================================\n",
      "Dep. Variable:                      y   No. Observations:                14996\n",
      "Model:                          Logit   Df Residuals:                    14975\n",
      "Method:                           MLE   Df Model:                           20\n",
      "Date:                Thu, 15 Dec 2016   Pseudo R-squ.:                  0.2984\n",
      "Time:                        13:30:10   Log-Likelihood:                -1378.7\n",
      "converged:                       True   LL-Null:                       -1965.1\n",
      "                                        LLR p-value:                5.086e-236\n",
      "=======================================================================================================\n",
      "                                          coef    std err          z      P>|z|      [95.0% Conf. Int.]\n",
      "-------------------------------------------------------------------------------------------------------\n",
      "AGE                                     0.0073      0.004      1.935      0.053     -9.25e-05     0.015\n",
      "ASACLAS-3-Severe Disturb                0.6849      0.136      5.022      0.000         0.418     0.952\n",
      "ASACLAS-4-Life Threat                   0.7624      0.272      2.805      0.005         0.230     1.295\n",
      "DIALYSIS-Yes                            0.9824      0.328      2.993      0.003         0.339     1.626\n",
      "DORGSPCSSI                              0.6461      0.067      9.609      0.000         0.514     0.778\n",
      "DSSIPATOS-Yes                           1.4997      0.610      2.458      0.014         0.304     2.696\n",
      "HDISDT-2011.0                           1.0704      0.145      7.359      0.000         0.785     1.356\n",
      "NORGSPCSSI-0                           96.2769      4.866     19.786      0.000        86.740   105.814\n",
      "NOTHDVT-0                               1.2626      0.427      2.957      0.003         0.426     2.099\n",
      "NOUPNEUMO-0                             1.2561      0.376      3.337      0.001         0.518     1.994\n",
      "NPULEMBOL-0                             3.8073      0.473      8.046      0.000         2.880     4.735\n",
      "NURNINFEC-0                            -1.3456      0.301     -4.474      0.000        -1.935    -0.756\n",
      "OSSIPATOS-Yes                         -92.6032      4.946    -18.723      0.000      -102.297   -82.909\n",
      "PRHCT                                  -0.0494      0.013     -3.881      0.000        -0.074    -0.024\n",
      "READMISSION2-Yes                        4.2582      1.285      3.313      0.001         1.739     6.778\n",
      "READMRELATED1-Yes                      -5.0399      0.356    -14.162      0.000        -5.737    -4.342\n",
      "READMSUSPREASON1-Organ/Space SSI      -98.1848      4.781    -20.536      0.000      -107.556   -88.814\n",
      "READMSUSPREASON1-Pulmonary Embolism    -2.8601      0.707     -4.043      0.000        -4.247    -1.474\n",
      "READMUNRELSUSP1-Organ/Space SSI        -9.9734      2.475     -4.029      0.000       -14.825    -5.122\n",
      "REOPERATION2-Yes                        3.6785      0.824      4.463      0.000         2.063     5.294\n",
      "WNDCLAS-3-Contaminated                  0.9604      0.240      4.009      0.000         0.491     1.430\n",
      "=======================================================================================================\n"
     ]
    }
   ],
   "source": [
    "# Loop while we're sitll adding or subtracting columns\n",
    "anyChanges = True\n",
    "while (anyChanges):\n",
    "    anyChanges, inclCol, smresult = tryCols( y, cdf, inclCol)\n",
    "print(smresult.summary())"
   ]
  },
  {
   "cell_type": "code",
   "execution_count": null,
   "metadata": {
    "collapsed": false
   },
   "outputs": [],
   "source": []
  },
  {
   "cell_type": "code",
   "execution_count": null,
   "metadata": {
    "collapsed": false
   },
   "outputs": [],
   "source": []
  },
  {
   "cell_type": "code",
   "execution_count": null,
   "metadata": {
    "collapsed": true
   },
   "outputs": [],
   "source": []
  },
  {
   "cell_type": "code",
   "execution_count": null,
   "metadata": {
    "collapsed": false
   },
   "outputs": [],
   "source": []
  },
  {
   "cell_type": "code",
   "execution_count": null,
   "metadata": {
    "collapsed": false
   },
   "outputs": [],
   "source": []
  },
  {
   "cell_type": "code",
   "execution_count": null,
   "metadata": {
    "collapsed": true
   },
   "outputs": [],
   "source": []
  }
 ],
 "metadata": {
  "kernelspec": {
   "display_name": "Python 3",
   "language": "python",
   "name": "python3"
  },
  "language_info": {
   "codemirror_mode": {
    "name": "ipython",
    "version": 3
   },
   "file_extension": ".py",
   "mimetype": "text/x-python",
   "name": "python",
   "nbconvert_exporter": "python",
   "pygments_lexer": "ipython3",
   "version": "3.5.2"
  }
 },
 "nbformat": 4,
 "nbformat_minor": 1
}
