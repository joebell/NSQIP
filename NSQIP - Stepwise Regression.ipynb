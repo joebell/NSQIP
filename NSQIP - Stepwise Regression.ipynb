{
 "cells": [
  {
   "cell_type": "code",
   "execution_count": 1,
   "metadata": {
    "collapsed": false
   },
   "outputs": [],
   "source": [
    "import pandas as pd\n",
    "import numpy as np\n",
    "import matplotlib.pyplot as plt\n",
    "import statsmodels.discrete.discrete_model as sm\n",
    "import statsmodels.stats.multitest as mt\n",
    "from sklearn.preprocessing import Imputer\n",
    "import sklearn.metrics as sklm\n",
    "import warnings \n",
    "warnings.filterwarnings(\"ignore\") # Ignore annoying warnings\n",
    "# from sklearn.model_selection import cross_val_score\n",
    "\n",
    "dataDir = './Data/'\n",
    "mungedFileName = dataDir + 'mungedData.pkl'\n",
    "\n",
    "cdf = pd.read_pickle(mungedFileName)"
   ]
  },
  {
   "cell_type": "code",
   "execution_count": 2,
   "metadata": {
    "collapsed": false
   },
   "outputs": [],
   "source": [
    "# y is True if any readmission variable is hot. It's NaN if all variables are null.\n",
    "y = cdf[['READMISSION1-Yes','READMISSION-Yes']].any(1)\n",
    "y[cdf[['READMISSION1-Yes','READMISSION-Yes']].isnull().all(1)] = np.nan\n",
    "\n",
    "# Would like to drop rows with NaN y data\n",
    "nanIdx = np.isnan(y).nonzero()\n",
    "y = np.delete(y.ravel(), nanIdx ,axis=0)\n",
    "cdf.drop(cdf.index[nanIdx], axis=0, inplace=True)\n",
    "\n",
    "# Either drop or keep columns from cdf\n",
    "dropOrKeep = False\n",
    "if dropOrKeep:\n",
    "    dropList = ['READMISSION-','READMISSION1-','REOPERATION-',\\\n",
    "                'REOPERATION1-','NWNDINFD-','WNDINFD-','DEHIS-','NDEHIS-',\\\n",
    "                'MORBPROB','NSUPINFEC-','SUPINFEC-','RETORPODAYS','OTHSYSEP',\\\n",
    "                'NOTHSYSEP-']\n",
    "    colsToDrop = [colName for colName in cdf.columns if np.any([dropItem in colName for dropItem in dropList])]\n",
    "    cdf = cdf.drop(colsToDrop,1)\n",
    "    print('Dropped some variables: ')\n",
    "    print(colsToDrop)\n",
    "    # These are being dropped automatically by Imputer\n",
    "    colsToDrop = [ 4,5,6,16,17,18,137,191,192,193,194,195,212,213,214,236,237,238,\\\n",
    "                  239,284,285,316,317,350,351,411,412,413,414,505,506,507,514,517]\n",
    "    cdf = cdf.drop(cdf.columns[colsToDrop],axis=1)\n",
    "    \n",
    "else:\n",
    "    # Dropping these columns is super-cumbersome. Let's find a list to keep\n",
    "    # Need to add FNSTATUS1 and RBC\n",
    "    keepList = ['SEX', 'RACE_NEW','ETHNICITY_HISPANIC','AGE','ANESTHES','HEIGHT','WEIGHT','DIABETES',\\\n",
    "                'SMOKE','PACKS','ETOH','DYSPNEA','FNSTATUS2','VENTILAT','HXCOPD','CPNEUMON',\\\n",
    "                'HXCHF','HXMI','PRVPCI','PRVPCS','HXANGINA','HYPERMED','HXPVD','RENAFAIL','DIALYSIS',\\\n",
    "                'CVA','DISCANCR','WNDINF','STEROID','WTLOSS','BLEEDDIS','PROPER30','ASACLASS',\\\n",
    "                'ASCITES','PRSODM','PRBUN','PRCREAT','PRALBUM','PRBILI','PRSGOT','PRALKPH','PRWBC'\\\n",
    "                'PRHCT','PRPLATE','PRPTT','PRINR','PRPT','PGY']\n",
    "    colsToKeep = [colName for colName in cdf.columns if np.any([keepItem in colName for keepItem in keepList])]\n",
    "    cdf = cdf[colsToKeep]\n",
    "    "
   ]
  },
  {
   "cell_type": "markdown",
   "metadata": {
    "collapsed": false
   },
   "source": [
    "\n",
    "$$P(x) = \\frac{1}{1 + e^{-(\\beta_0 + \\sum_{i}\\beta_i x_i)}} $$"
   ]
  },
  {
   "cell_type": "code",
   "execution_count": 3,
   "metadata": {
    "collapsed": false
   },
   "outputs": [],
   "source": [
    "# Impute missing data in cdf\n",
    "colNames = cdf.columns\n",
    "imp = Imputer(missing_values='NaN', strategy='mean', axis=0, verbose=True)\n",
    "imp.fit(cdf)\n",
    "cdf = imp.transform(cdf)\n",
    "cdf = pd.DataFrame(cdf, columns=colNames)\n",
    "\n",
    "# Add an intercept\n",
    "cdf['intercept'] = 1.0"
   ]
  },
  {
   "cell_type": "code",
   "execution_count": null,
   "metadata": {
    "collapsed": false
   },
   "outputs": [],
   "source": []
  },
  {
   "cell_type": "code",
   "execution_count": 4,
   "metadata": {
    "collapsed": false
   },
   "outputs": [],
   "source": [
    "from sklearn.base import BaseEstimator, ClassifierMixin\n",
    "class stepwiseLogitRegression(BaseEstimator):\n",
    "    \n",
    "    def __init__(self):\n",
    "        self.model = []    \n",
    "        self.useCols = []\n",
    "    \n",
    "    def score(self, X, y):\n",
    "        predRes = self.model.predict(X[self.useCols])\n",
    "        rocAUC = sklm.roc_auc_score(y,predRes)\n",
    "        return rocAUC\n",
    "    \n",
    "    def predict(self, X):\n",
    "        predRes = self.model.predict(X[self.useCols])\n",
    "        return predRes\n",
    "\n",
    "    def fit(self, X, y):\n",
    "    \n",
    "        # Make a list of columns to include in our fit\n",
    "        inclCol = pd.Series([False for colName in X.columns], dtype=bool, index=X.columns)\n",
    "        inclCol['intercept'] = True\n",
    "    \n",
    "        # Loop while we're sitll adding or subtracting columns\n",
    "        anyChanges = True\n",
    "        while (anyChanges):\n",
    "            anyChanges, inclCol, smresult = self.tryCols( X, y, inclCol)\n",
    "        print(smresult.summary())\n",
    "        \n",
    "        self.model = smresult\n",
    "        self.useCols = inclCol[inclCol==True].index.values.tolist()\n",
    "        return smresult\n",
    "\n",
    "    def tryCols(self, X, y, inclCol):\n",
    "\n",
    "        anyChanges = False\n",
    "\n",
    "        addThresh  = 0.05\n",
    "        dumpThresh = 0.15\n",
    "\n",
    "        baseCols = inclCol[inclCol==True].index.values.tolist()\n",
    "        tryCols =  inclCol[inclCol==False].index.values.tolist()\n",
    "\n",
    "        # Try to fit all the variables we should try out in the model\n",
    "        fitResultList = []\n",
    "        for colName in tryCols:\n",
    "            modelCols = baseCols + [colName]\n",
    "\n",
    "            try: \n",
    "                logit = sm.Logit(y, X[modelCols])\n",
    "                smresult = logit.fit(disp=False)\n",
    "                fitResultList = fitResultList + [(smresult.pvalues[colName], colName)]\n",
    "            except:\n",
    "                a = 1\n",
    "                # print('*** ' + colName + ': Exception ***')\n",
    "\n",
    "        # Correct the p-values for multiple comparisons\n",
    "        pValues = [fitItem[0] for fitItem in fitResultList]\n",
    "        reject, pValues, alphacSidak, alphacBonf = mt.multipletests(pValues, alpha=0.05, method='holm')\n",
    "        corrResultList = [(pValues[index], item[1]) for index, item in enumerate(fitResultList)]\n",
    "        fitResultList = corrResultList\n",
    "\n",
    "        # If the most significant variable is below threshold, add it to the list\n",
    "        fitResultList.sort()\n",
    "        bestFit = fitResultList[0]\n",
    "        if bestFit[0] < addThresh:\n",
    "            print('\\t Adding: %s p = %.5f' % (bestFit[1], bestFit[0]))\n",
    "            inclCol[bestFit[1]] = True\n",
    "            anyChanges = True\n",
    "        else:\n",
    "            print('\\t Not adding term. Best variable: %s p = %.5f' % (bestFit[1], bestFit[0]))\n",
    "\n",
    "        # Ok, now re-fit the model with the existing terms\n",
    "        modelCols = inclCol[inclCol==True].index.values.tolist()\n",
    "        logit = sm.Logit(y, X[modelCols])\n",
    "        smresult = logit.fit(disp=False)  \n",
    "\n",
    "        # Correct model p-values for multiple comparisons before consideration\n",
    "        # of dropping the largest.\n",
    "        pValues = smresult.pvalues\n",
    "        reject, pValues, alphacSidak, alphacBonf = mt.multipletests(pValues, alpha=0.05, method='holm')\n",
    "        maxP = pValues.max()\n",
    "        colToDump = pValues.argmax()\n",
    "        if  maxP > dumpThresh and colToDump != 'intercept':\n",
    "            inclCol[colToDump] = False\n",
    "            anyChanges = True\n",
    "            print('\\t Removing term: %s p = %.5f' % (colToDump, maxP))\n",
    "\n",
    "        return anyChanges, inclCol, smresult"
   ]
  },
  {
   "cell_type": "code",
   "execution_count": 5,
   "metadata": {
    "collapsed": false
   },
   "outputs": [],
   "source": [
    "# Might need to implement some more parts of this estimator...\n",
    "# from sklearn.utils.estimator_checks import check_estimator\n",
    "# check_estimator(stepwiseLogitRegression)"
   ]
  },
  {
   "cell_type": "code",
   "execution_count": 6,
   "metadata": {
    "collapsed": false
   },
   "outputs": [
    {
     "name": "stdout",
     "output_type": "stream",
     "text": [
      "\t Adding: NWNDINFD-0 p = 0.00000\n",
      "\t Adding: DIABETES-NO p = 0.00000\n",
      "\t Adding: PRALBUM p = 0.00000\n",
      "\t Adding: AGE p = 0.00000\n",
      "\t Adding: PRALKPH p = 0.00001\n",
      "\t Adding: DIALYSIS-Yes p = 0.00202\n",
      "\t Not adding term. Best variable: FNSTATUS2-Partially Dependent p = 0.15184\n",
      "                           Logit Regression Results                           \n",
      "==============================================================================\n",
      "Dep. Variable:                      y   No. Observations:                14996\n",
      "Model:                          Logit   Df Residuals:                    14989\n",
      "Method:                           MLE   Df Model:                            6\n",
      "Date:                Mon, 19 Dec 2016   Pseudo R-squ.:                  0.1146\n",
      "Time:                        14:31:19   Log-Likelihood:                -1739.9\n",
      "converged:                       True   LL-Null:                       -1965.1\n",
      "                                        LLR p-value:                 4.055e-94\n",
      "================================================================================\n",
      "                   coef    std err          z      P>|z|      [95.0% Conf. Int.]\n",
      "--------------------------------------------------------------------------------\n",
      "AGE              0.0226      0.003      7.066      0.000         0.016     0.029\n",
      "DIABETES-NO     -0.7230      0.121     -5.988      0.000        -0.960    -0.486\n",
      "DIALYSIS-Yes     1.1439      0.270      4.232      0.000         0.614     1.674\n",
      "NWNDINFD-0       3.9903      0.273     14.639      0.000         3.456     4.525\n",
      "PRALBUM         -0.6096      0.125     -4.869      0.000        -0.855    -0.364\n",
      "PRALKPH          0.0054      0.001      4.728      0.000         0.003     0.008\n",
      "intercept       -2.4468      0.555     -4.409      0.000        -3.535    -1.359\n",
      "================================================================================\n"
     ]
    }
   ],
   "source": [
    "swl = stepwiseLogitRegression()\n",
    "smresult = swl.fit(cdf, y)"
   ]
  },
  {
   "cell_type": "code",
   "execution_count": 7,
   "metadata": {
    "collapsed": false
   },
   "outputs": [
    {
     "data": {
      "text/plain": [
       "0.72647529046308901"
      ]
     },
     "execution_count": 7,
     "metadata": {},
     "output_type": "execute_result"
    }
   ],
   "source": [
    "swl.score(cdf, y)"
   ]
  },
  {
   "cell_type": "code",
   "execution_count": 8,
   "metadata": {
    "collapsed": false
   },
   "outputs": [
    {
     "data": {
      "image/png": "[encoded data removed]",
      "text/plain": [
       "<matplotlib.figure.Figure at 0x117a9bc50>"
      ]
     },
     "metadata": {},
     "output_type": "display_data"
    }
   ],
   "source": [
    "predRes = swl.predict(cdf)\n",
    "\n",
    "plt.clf\n",
    "plt.hist(predRes[(y == True)],bins=50,histtype='step',color='r',normed=True,\\\n",
    "        label='Readmission')\n",
    "plt.hist(predRes[(y == False)],bins=50,histtype='step',color='b',normed=True,\\\n",
    "        label='No Readmission')\n",
    "plt.yscale('log', nonposy='clip')\n",
    "plt.legend(loc='upper right')\n",
    "plt.xlabel('Prospective Score')\n",
    "plt.ylabel('Fraction of cases')\n",
    "plt.show()"
   ]
  },
  {
   "cell_type": "code",
   "execution_count": 9,
   "metadata": {
    "collapsed": false
   },
   "outputs": [
    {
     "name": "stdout",
     "output_type": "stream",
     "text": [
      "ROC AUC = 0.726 \n"
     ]
    },
    {
     "data": {
      "image/png": "[encoded data removed]",
      "text/plain": [
       "<matplotlib.figure.Figure at 0x117f6de80>"
      ]
     },
     "metadata": {},
     "output_type": "display_data"
    }
   ],
   "source": [
    "\n",
    "rocAUC = sklm.roc_auc_score(y,predRes)\n",
    "print('ROC AUC = %.3f ' % rocAUC)\n",
    "fpr, tpr, _ = sklm.roc_curve(y, predRes)\n",
    "plt.figure()\n",
    "plt.plot(fpr,tpr)\n",
    "plt.plot([0, 1], [0, 1], color='navy', linestyle='--')\n",
    "plt.xlim([0.0, 1.0])\n",
    "plt.ylim([0.0, 1.0])\n",
    "plt.xlabel('False Positive Rate')\n",
    "plt.ylabel('True Positive Rate')\n",
    "plt.gca().set_aspect('equal', adjustable='box')\n",
    "plt.show()"
   ]
  },
  {
   "cell_type": "code",
   "execution_count": 10,
   "metadata": {
    "collapsed": false
   },
   "outputs": [
    {
     "name": "stdout",
     "output_type": "stream",
     "text": [
      "\t Adding: NWNDINFD-0 p = 0.00000\n",
      "\t Adding: PRALBUM p = 0.00000\n",
      "\t Adding: AGE p = 0.00000\n",
      "\t Adding: DIABETES-INSULIN p = 0.00000\n",
      "\t Adding: PRALKPH p = 0.00199\n",
      "\t Adding: DIALYSIS-Yes p = 0.03831\n",
      "\t Not adding term. Best variable: DYSPNEA-No p = 0.21706\n",
      "                           Logit Regression Results                           \n",
      "==============================================================================\n",
      "Dep. Variable:                      y   No. Observations:                13496\n",
      "Model:                          Logit   Df Residuals:                    13489\n",
      "Method:                           MLE   Df Model:                            6\n",
      "Date:                Mon, 19 Dec 2016   Pseudo R-squ.:                  0.1101\n",
      "Time:                        14:31:28   Log-Likelihood:                -1493.0\n",
      "converged:                       True   LL-Null:                       -1677.8\n",
      "                                        LLR p-value:                 9.658e-77\n",
      "====================================================================================\n",
      "                       coef    std err          z      P>|z|      [95.0% Conf. Int.]\n",
      "------------------------------------------------------------------------------------\n",
      "AGE                  0.0248      0.003      7.315      0.000         0.018     0.031\n",
      "DIABETES-INSULIN     0.7436      0.164      4.532      0.000         0.422     1.065\n",
      "DIALYSIS-Yes         1.0853      0.309      3.518      0.000         0.481     1.690\n",
      "NWNDINFD-0           4.1179      0.290     14.187      0.000         3.549     4.687\n",
      "PRALBUM             -0.6554      0.137     -4.774      0.000        -0.924    -0.386\n",
      "PRALKPH              0.0049      0.001      3.916      0.000         0.002     0.007\n",
      "intercept           -3.0694      0.607     -5.061      0.000        -4.258    -1.881\n",
      "====================================================================================\n",
      "\t Adding: NWNDINFD-0 p = 0.00000\n",
      "\t Adding: DIABETES-INSULIN p = 0.00000\n",
      "\t Adding: AGE p = 0.00000\n",
      "\t Adding: PRALBUM p = 0.00000\n",
      "\t Adding: PRALKPH p = 0.00008\n",
      "\t Adding: DIALYSIS-Yes p = 0.00337\n",
      "\t Not adding term. Best variable: PRPTT p = 0.07368\n",
      "                           Logit Regression Results                           \n",
      "==============================================================================\n",
      "Dep. Variable:                      y   No. Observations:                13496\n",
      "Model:                          Logit   Df Residuals:                    13489\n",
      "Method:                           MLE   Df Model:                            6\n",
      "Date:                Mon, 19 Dec 2016   Pseudo R-squ.:                  0.1152\n",
      "Time:                        14:31:36   Log-Likelihood:                -1569.2\n",
      "converged:                       True   LL-Null:                       -1773.5\n",
      "                                        LLR p-value:                 3.958e-85\n",
      "====================================================================================\n",
      "                       coef    std err          z      P>|z|      [95.0% Conf. Int.]\n",
      "------------------------------------------------------------------------------------\n",
      "AGE                  0.0241      0.003      7.319      0.000         0.018     0.031\n",
      "DIABETES-INSULIN     0.7967      0.156      5.116      0.000         0.491     1.102\n",
      "DIALYSIS-Yes         1.1672      0.284      4.115      0.000         0.611     1.723\n",
      "NWNDINFD-0           4.0643      0.292     13.899      0.000         3.491     4.637\n",
      "PRALBUM             -0.5926      0.134     -4.418      0.000        -0.855    -0.330\n",
      "PRALKPH              0.0054      0.001      4.335      0.000         0.003     0.008\n",
      "intercept           -3.2547      0.595     -5.473      0.000        -4.420    -2.089\n",
      "====================================================================================\n",
      "\t Adding: NWNDINFD-0 p = 0.00000\n",
      "\t Adding: DIABETES-NO p = 0.00000\n",
      "\t Adding: PRALBUM p = 0.00000\n",
      "\t Adding: AGE p = 0.00000\n",
      "\t Adding: PRALKPH p = 0.00001\n",
      "\t Adding: DIALYSIS-Yes p = 0.00576\n",
      "\t Not adding term. Best variable: ETHNICITY_HISPANIC-Unknown p = 0.10304\n",
      "                           Logit Regression Results                           \n",
      "==============================================================================\n",
      "Dep. Variable:                      y   No. Observations:                13496\n",
      "Model:                          Logit   Df Residuals:                    13489\n",
      "Method:                           MLE   Df Model:                            6\n",
      "Date:                Mon, 19 Dec 2016   Pseudo R-squ.:                  0.1145\n",
      "Time:                        14:31:44   Log-Likelihood:                -1601.3\n",
      "converged:                       True   LL-Null:                       -1808.5\n",
      "                                        LLR p-value:                 2.387e-86\n",
      "================================================================================\n",
      "                   coef    std err          z      P>|z|      [95.0% Conf. Int.]\n",
      "--------------------------------------------------------------------------------\n",
      "AGE              0.0217      0.003      6.551      0.000         0.015     0.028\n",
      "DIABETES-NO     -0.7069      0.126     -5.609      0.000        -0.954    -0.460\n",
      "DIALYSIS-Yes     1.1048      0.277      3.990      0.000         0.562     1.648\n",
      "NWNDINFD-0       3.9463      0.287     13.768      0.000         3.385     4.508\n",
      "PRALBUM         -0.6287      0.129     -4.868      0.000        -0.882    -0.376\n",
      "PRALKPH          0.0055      0.001      4.760      0.000         0.003     0.008\n",
      "intercept       -2.3183      0.571     -4.058      0.000        -3.438    -1.199\n",
      "================================================================================\n",
      "\t Adding: NWNDINFD-0 p = 0.00000\n",
      "\t Adding: DIABETES-NO p = 0.00000\n",
      "\t Adding: AGE p = 0.00000\n",
      "\t Adding: PRALKPH p = 0.00000\n",
      "\t Adding: DIALYSIS-Yes p = 0.00001\n",
      "\t Adding: FNSTATUS2-Partially Dependent p = 0.00465\n",
      "\t Not adding term. Best variable: PRALBUM p = 0.05661\n",
      "                           Logit Regression Results                           \n",
      "==============================================================================\n",
      "Dep. Variable:                      y   No. Observations:                13496\n",
      "Model:                          Logit   Df Residuals:                    13489\n",
      "Method:                           MLE   Df Model:                            6\n",
      "Date:                Mon, 19 Dec 2016   Pseudo R-squ.:                  0.1186\n",
      "Time:                        14:31:52   Log-Likelihood:                -1516.5\n",
      "converged:                       True   LL-Null:                       -1720.6\n",
      "                                        LLR p-value:                 5.032e-85\n",
      "=================================================================================================\n",
      "                                    coef    std err          z      P>|z|      [95.0% Conf. Int.]\n",
      "-------------------------------------------------------------------------------------------------\n",
      "AGE                               0.0221      0.003      6.373      0.000         0.015     0.029\n",
      "DIABETES-NO                      -0.8259      0.127     -6.522      0.000        -1.074    -0.578\n",
      "DIALYSIS-Yes                      1.3211      0.272      4.858      0.000         0.788     1.854\n",
      "FNSTATUS2-Partially Dependent     0.7902      0.195      4.043      0.000         0.407     1.173\n",
      "NWNDINFD-0                        3.8869      0.280     13.892      0.000         3.339     4.435\n",
      "PRALKPH                           0.0064      0.001      5.611      0.000         0.004     0.009\n",
      "intercept                        -4.8346      0.272    -17.778      0.000        -5.368    -4.302\n",
      "=================================================================================================\n",
      "\t Adding: NWNDINFD-0 p = 0.00000\n",
      "\t Adding: DIABETES-NO p = 0.00000\n",
      "\t Adding: AGE p = 0.00000\n",
      "\t Adding: PRALKPH p = 0.00000\n",
      "\t Adding: DIALYSIS-Yes p = 0.00003\n",
      "\t Adding: PRALBUM p = 0.00157\n",
      "\t Not adding term. Best variable: FNSTATUS2-Partially Dependent p = 0.24321\n",
      "                           Logit Regression Results                           \n",
      "==============================================================================\n",
      "Dep. Variable:                      y   No. Observations:                13496\n",
      "Model:                          Logit   Df Residuals:                    13489\n",
      "Method:                           MLE   Df Model:                            6\n",
      "Date:                Mon, 19 Dec 2016   Pseudo R-squ.:                  0.1167\n",
      "Time:                        14:32:00   Log-Likelihood:                -1600.4\n",
      "converged:                       True   LL-Null:                       -1811.9\n",
      "                                        LLR p-value:                 3.101e-88\n",
      "================================================================================\n",
      "                   coef    std err          z      P>|z|      [95.0% Conf. Int.]\n",
      "--------------------------------------------------------------------------------\n",
      "AGE              0.0227      0.003      6.822      0.000         0.016     0.029\n",
      "DIABETES-NO     -0.7237      0.125     -5.786      0.000        -0.969    -0.479\n",
      "DIALYSIS-Yes     1.1637      0.279      4.173      0.000         0.617     1.710\n",
      "NWNDINFD-0       3.9620      0.279     14.189      0.000         3.415     4.509\n",
      "PRALBUM         -0.5603      0.131     -4.291      0.000        -0.816    -0.304\n",
      "PRALKPH          0.0057      0.001      4.968      0.000         0.003     0.008\n",
      "intercept       -2.6438      0.576     -4.586      0.000        -3.774    -1.514\n",
      "================================================================================\n",
      "\t Adding: NWNDINFD-0 p = 0.00000\n",
      "\t Adding: DIABETES-INSULIN p = 0.00000\n",
      "\t Adding: AGE p = 0.00000\n",
      "\t Adding: PRALBUM p = 0.00000\n",
      "\t Adding: PRALKPH p = 0.00018\n",
      "\t Adding: DIALYSIS-Yes p = 0.01298\n",
      "\t Not adding term. Best variable: CNSCVA-No Complication p = 0.09351\n",
      "                           Logit Regression Results                           \n",
      "==============================================================================\n",
      "Dep. Variable:                      y   No. Observations:                13496\n",
      "Model:                          Logit   Df Residuals:                    13489\n",
      "Method:                           MLE   Df Model:                            6\n",
      "Date:                Mon, 19 Dec 2016   Pseudo R-squ.:                  0.1120\n",
      "Time:                        14:32:08   Log-Likelihood:                -1581.1\n",
      "converged:                       True   LL-Null:                       -1780.5\n",
      "                                        LLR p-value:                 4.828e-83\n",
      "====================================================================================\n",
      "                       coef    std err          z      P>|z|      [95.0% Conf. Int.]\n",
      "------------------------------------------------------------------------------------\n",
      "AGE                  0.0232      0.003      7.094      0.000         0.017     0.030\n",
      "DIABETES-INSULIN     0.8611      0.153      5.611      0.000         0.560     1.162\n",
      "DIALYSIS-Yes         1.0930      0.288      3.792      0.000         0.528     1.658\n",
      "NWNDINFD-0           4.0470      0.305     13.272      0.000         3.449     4.645\n",
      "PRALBUM             -0.6448      0.130     -4.949      0.000        -0.900    -0.389\n",
      "PRALKPH              0.0050      0.001      4.178      0.000         0.003     0.007\n",
      "intercept           -2.9620      0.576     -5.138      0.000        -4.092    -1.832\n",
      "====================================================================================\n",
      "\t Adding: NWNDINFD-0 p = 0.00000\n",
      "\t Adding: DIABETES-NO p = 0.00000\n",
      "\t Adding: AGE p = 0.00000\n",
      "\t Adding: PRALBUM p = 0.00000\n",
      "\t Adding: DIALYSIS-Yes p = 0.00230\n",
      "\t Not adding term. Best variable: PRALKPH p = 0.10095\n",
      "                           Logit Regression Results                           \n",
      "==============================================================================\n",
      "Dep. Variable:                      y   No. Observations:                13497\n",
      "Model:                          Logit   Df Residuals:                    13491\n",
      "Method:                           MLE   Df Model:                            5\n",
      "Date:                Mon, 19 Dec 2016   Pseudo R-squ.:                  0.1085\n",
      "Time:                        14:32:14   Log-Likelihood:                -1596.7\n",
      "converged:                       True   LL-Null:                       -1791.0\n",
      "                                        LLR p-value:                 7.871e-82\n",
      "================================================================================\n",
      "                   coef    std err          z      P>|z|      [95.0% Conf. Int.]\n",
      "--------------------------------------------------------------------------------\n",
      "AGE              0.0233      0.003      7.021      0.000         0.017     0.030\n",
      "DIABETES-NO     -0.8062      0.124     -6.498      0.000        -1.049    -0.563\n",
      "DIALYSIS-Yes     1.1864      0.282      4.207      0.000         0.634     1.739\n",
      "NWNDINFD-0       3.9999      0.290     13.794      0.000         3.432     4.568\n",
      "PRALBUM         -0.6421      0.131     -4.899      0.000        -0.899    -0.385\n",
      "intercept       -1.8012      0.548     -3.287      0.001        -2.875    -0.727\n",
      "================================================================================\n",
      "\t Adding: NWNDINFD-0 p = 0.00000\n",
      "\t Adding: DIABETES-NO p = 0.00000\n",
      "\t Adding: PRALBUM p = 0.00000\n",
      "\t Removing term: 3 p = 0.25110\n",
      "\t Adding: AGE p = 0.00000\n",
      "\t Adding: PRALKPH p = 0.00000\n",
      "\t Adding: DIALYSIS-Yes p = 0.00145\n",
      "\t Not adding term. Best variable: FNSTATUS2-Partially Dependent p = 0.07957\n",
      "                           Logit Regression Results                           \n",
      "==============================================================================\n",
      "Dep. Variable:                      y   No. Observations:                13497\n",
      "Model:                          Logit   Df Residuals:                    13490\n",
      "Method:                           MLE   Df Model:                            6\n",
      "Date:                Mon, 19 Dec 2016   Pseudo R-squ.:                  0.1179\n",
      "Time:                        14:32:21   Log-Likelihood:                -1570.7\n",
      "converged:                       True   LL-Null:                       -1780.5\n",
      "                                        LLR p-value:                 1.637e-87\n",
      "================================================================================\n",
      "                   coef    std err          z      P>|z|      [95.0% Conf. Int.]\n",
      "--------------------------------------------------------------------------------\n",
      "AGE              0.0224      0.003      6.691      0.000         0.016     0.029\n",
      "DIABETES-NO     -0.6638      0.128     -5.206      0.000        -0.914    -0.414\n",
      "DIALYSIS-Yes     1.2190      0.283      4.309      0.000         0.664     1.774\n",
      "NWNDINFD-0       4.0585      0.281     14.446      0.000         3.508     4.609\n",
      "PRALBUM         -0.5768      0.130     -4.437      0.000        -0.832    -0.322\n",
      "PRALKPH          0.0062      0.001      4.791      0.000         0.004     0.009\n",
      "intercept       -2.6755      0.578     -4.630      0.000        -3.808    -1.543\n",
      "================================================================================\n",
      "\t Adding: NWNDINFD-0 p = 0.00000\n",
      "\t Adding: DIABETES-NO p = 0.00000\n",
      "\t Adding: PRALBUM p = 0.00000\n",
      "\t Adding: AGE p = 0.00000\n",
      "\t Adding: PRALKPH p = 0.00001\n",
      "\t Adding: DIALYSIS-Yes p = 0.00067\n",
      "\t Adding: FNSTATUS2-Partially Dependent p = 0.04282\n",
      "\t Not adding term. Best variable: CONCURR2-INJECTION ANESTHETIC AGENT SCIATIC NRV SINGLE p = 0.14621\n",
      "                           Logit Regression Results                           \n",
      "==============================================================================\n",
      "Dep. Variable:                      y   No. Observations:                13497\n",
      "Model:                          Logit   Df Residuals:                    13489\n",
      "Method:                           MLE   Df Model:                            7\n",
      "Date:                Mon, 19 Dec 2016   Pseudo R-squ.:                  0.1215\n",
      "Time:                        14:32:30   Log-Likelihood:                -1551.8\n",
      "converged:                       True   LL-Null:                       -1766.5\n",
      "                                        LLR p-value:                 1.216e-88\n",
      "=================================================================================================\n",
      "                                    coef    std err          z      P>|z|      [95.0% Conf. Int.]\n",
      "-------------------------------------------------------------------------------------------------\n",
      "AGE                               0.0207      0.003      6.104      0.000         0.014     0.027\n",
      "DIABETES-NO                      -0.7350      0.128     -5.724      0.000        -0.987    -0.483\n",
      "DIALYSIS-Yes                      1.2118      0.288      4.214      0.000         0.648     1.776\n",
      "FNSTATUS2-Partially Dependent     0.6976      0.200      3.485      0.000         0.305     1.090\n",
      "NWNDINFD-0                        3.8832      0.285     13.622      0.000         3.324     4.442\n",
      "PRALBUM                          -0.5662      0.133     -4.252      0.000        -0.827    -0.305\n",
      "PRALKPH                           0.0055      0.001      4.637      0.000         0.003     0.008\n",
      "intercept                        -2.5449      0.587     -4.335      0.000        -3.695    -1.394\n",
      "=================================================================================================\n",
      "\t Adding: NWNDINFD-0 p = 0.00000\n",
      "\t Adding: DIABETES-NO p = 0.00000\n",
      "\t Adding: AGE p = 0.00000\n",
      "\t Adding: PRALBUM p = 0.00000\n",
      "\t Adding: PRALKPH p = 0.00033\n",
      "\t Not adding term. Best variable: PRPTT p = 0.06307\n",
      "                           Logit Regression Results                           \n",
      "==============================================================================\n",
      "Dep. Variable:                      y   No. Observations:                13497\n",
      "Model:                          Logit   Df Residuals:                    13491\n",
      "Method:                           MLE   Df Model:                            5\n",
      "Date:                Mon, 19 Dec 2016   Pseudo R-squ.:                  0.1089\n",
      "Time:                        14:32:37   Log-Likelihood:                -1580.4\n",
      "converged:                       True   LL-Null:                       -1773.5\n",
      "                                        LLR p-value:                 2.680e-81\n",
      "===============================================================================\n",
      "                  coef    std err          z      P>|z|      [95.0% Conf. Int.]\n",
      "-------------------------------------------------------------------------------\n",
      "AGE             0.0229      0.003      6.846      0.000         0.016     0.030\n",
      "DIABETES-NO    -0.8055      0.125     -6.445      0.000        -1.050    -0.561\n",
      "NWNDINFD-0      3.9298      0.288     13.637      0.000         3.365     4.495\n",
      "PRALBUM        -0.7151      0.135     -5.292      0.000        -0.980    -0.450\n",
      "PRALKPH         0.0056      0.001      4.629      0.000         0.003     0.008\n",
      "intercept      -1.9841      0.597     -3.324      0.001        -3.154    -0.814\n",
      "===============================================================================\n"
     ]
    }
   ],
   "source": [
    "from sklearn.cross_validation import cross_val_score\n",
    "scores = cross_val_score(swl, cdf, y, cv=10)"
   ]
  },
  {
   "cell_type": "code",
   "execution_count": 11,
   "metadata": {
    "collapsed": false
   },
   "outputs": [
    {
     "data": {
      "text/plain": [
       "array([ 0.7373834 ,  0.73043634,  0.75072377,  0.64987052,  0.70041064,\n",
       "        0.71100171,  0.74044256,  0.74676148,  0.68156045,  0.71633657])"
      ]
     },
     "execution_count": 11,
     "metadata": {},
     "output_type": "execute_result"
    }
   ],
   "source": [
    "scores"
   ]
  },
  {
   "cell_type": "code",
   "execution_count": null,
   "metadata": {
    "collapsed": false
   },
   "outputs": [],
   "source": []
  },
  {
   "cell_type": "code",
   "execution_count": null,
   "metadata": {
    "collapsed": true
   },
   "outputs": [],
   "source": []
  },
  {
   "cell_type": "code",
   "execution_count": null,
   "metadata": {
    "collapsed": true
   },
   "outputs": [],
   "source": []
  }
 ],
 "metadata": {
  "kernelspec": {
   "display_name": "Python 3",
   "language": "python",
   "name": "python3"
  },
  "language_info": {
   "codemirror_mode": {
    "name": "ipython",
    "version": 3
   },
   "file_extension": ".py",
   "mimetype": "text/x-python",
   "name": "python",
   "nbconvert_exporter": "python",
   "pygments_lexer": "ipython3",
   "version": "3.5.2"
  }
 },
 "nbformat": 4,
 "nbformat_minor": 1
}
