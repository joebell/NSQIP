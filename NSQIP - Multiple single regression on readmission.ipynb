{
 "cells": [
  {
   "cell_type": "markdown",
   "metadata": {},
   "source": [
    "Initially, we'll just look at all single predictors of 30-day readmission."
   ]
  },
  {
   "cell_type": "code",
   "execution_count": 1,
   "metadata": {
    "collapsed": false
   },
   "outputs": [],
   "source": [
    "import pandas as pd\n",
    "import numpy as np\n",
    "import sklearn as skl\n",
    "from sklearn import preprocessing as pp\n",
    "from sklearn.preprocessing import Imputer\n",
    "import statsmodels.discrete.discrete_model as sm\n",
    "import math\n",
    "import warnings \n",
    "warnings.filterwarnings(\"ignore\") # Ignore annoying warnings\n",
    "\n",
    "dataDir = './Data/'\n",
    "mungedFileName = dataDir + 'mungedData.pkl'\n",
    "\n",
    "cdf = pd.read_pickle(mungedFileName)"
   ]
  },
  {
   "cell_type": "markdown",
   "metadata": {},
   "source": [
    "There are a few different variables in this dataset that include readmission data. READMISSION is depricated, but still has data for older records. READMISSION1 is the current variable. It makes sense to try to merge these to be our regression target. No records have data for both. Of the 19533 records, 4537 don't have readmission data recorded either way. To start we'll just assume that these patients were not readmitted."
   ]
  },
  {
   "cell_type": "code",
   "execution_count": 2,
   "metadata": {
    "collapsed": false
   },
   "outputs": [],
   "source": [
    "# y is True if any readmission variable is hot. It's NaN if all variables are null.\n",
    "y = cdf[['READMISSION1-Yes','READMISSION-Yes']].any(1)\n",
    "y[cdf[['READMISSION1-Yes','READMISSION-Yes']].isnull().all(1)] = np.nan\n",
    "\n",
    "# Would like to drop rows with NaN y data\n",
    "nanIdx = np.isnan(y).nonzero()\n",
    "y = np.delete(y.ravel(), nanIdx ,axis=0)\n",
    "cdf.drop(cdf.index[nanIdx], axis=0, inplace=True)\n",
    "\n",
    "# For now we'll impute those missing values...\n",
    "# imp = Imputer(missing_values='NaN', strategy='mean', axis=0, verbose=False)\n",
    "# imp.fit(y.reshape(-1,1))\n",
    "# y = imp.transform(y.reshape(-1,1))"
   ]
  },
  {
   "cell_type": "markdown",
   "metadata": {},
   "source": [
    "Now we need to make a predictor array to use for logistic regression, dropping our source data columns in the process. We also need to drop variables that will be post-hoc predictors. For example, patients that get reoperated will of course be readmitted, so this isn't a helpful predictor. "
   ]
  },
  {
   "cell_type": "code",
   "execution_count": 3,
   "metadata": {
    "collapsed": false
   },
   "outputs": [],
   "source": [
    "# dropList = ['READMISSION-','READMISSION1-','REOPERATION-',\\\n",
    "#             'REOPERATION1-','NWNDINFD-','WNDINFD-','DEHIS-','NDEHIS-',\\\n",
    "#             'MORBPROB','NSUPINFEC-','SUPINFEC-','RETORPODAYS','OTHSYSEP',\\\n",
    "#             'NOTHSYSEP-']\n",
    "# colsToDrop = [colName for colName in cdf.columns if np.any([dropItem in colName for dropItem in dropList])]\n",
    "# cdf = cdf.drop(colsToDrop,1)\n",
    "# print('Dropped some variables: ')\n",
    "# print(colsToDrop)\n",
    "\n",
    "# Dropping these columns is super-cumbersome. Let's find a list to keep\n",
    "keepList = ['DISCHDEST-','URNINFEC-','DIABETES-','PRHCT', 'PRALBUM']\n",
    "colsToKeep = [colName for colName in cdf.columns if np.any([keepItem in colName for keepItem in keepList])]\n",
    "cdf = cdf[colsToKeep]"
   ]
  },
  {
   "cell_type": "markdown",
   "metadata": {},
   "source": [
    "To start, let's just cycle through each variable independently, printing out variables that have significant (before multiple comparisons corrections) predictive value. We also need to impute missing data (for the numeric columns, categoricals should be fine)."
   ]
  },
  {
   "cell_type": "code",
   "execution_count": 4,
   "metadata": {
    "collapsed": false
   },
   "outputs": [
    {
     "name": "stdout",
     "output_type": "stream",
     "text": [
      "*** DIABETES-ORAL: Exception ***\n",
      "*** DISCHDEST-Expired: Exception ***\n"
     ]
    }
   ],
   "source": [
    "fitResults = pd.DataFrame(np.nan, index=[], columns=['colName','pValue','coeff'])\n",
    "\n",
    "for colName in cdf.columns:\n",
    "\n",
    "    # colName = 'AGE'\n",
    "    imp = Imputer(missing_values='NaN', strategy='mean', axis=0, verbose=False)\n",
    "    imp.fit(cdf[colName].reshape(-1,1))\n",
    "    X = imp.transform(cdf[colName].reshape(-1,1))\n",
    "    X = np.asarray(X).reshape(-1,1)\n",
    "    X = np.concatenate((X, np.ones([X.shape[0],1])),axis=1) # Add an intercept term\n",
    "\n",
    "    try:\n",
    "        logit = sm.Logit(y, X)\n",
    "        smresult = logit.fit(disp=False)\n",
    "        # print(smresult.summary())\n",
    "        # if smresult.pvalues[0] < 0.05:\n",
    "        #    print('Var: ' + colName + '  logP = %.2f    Coeff = %.2f' % (math.log10(smresult.pvalues[0]), \\\n",
    "        #                                                                   smresult.params[0]))\n",
    "        fitResults = fitResults.append(pd.Series({'colName': colName, \\\n",
    "                                                  'pValue': smresult.pvalues[0], \\\n",
    "                                                  'coeff': smresult.params[0]}),ignore_index=True)\n",
    "        # else:\n",
    "        #    print('Var: ' + colName)\n",
    "            \n",
    "    except:\n",
    "        print('*** ' + colName + ': Exception ***')\n"
   ]
  },
  {
   "cell_type": "code",
   "execution_count": 5,
   "metadata": {
    "collapsed": false
   },
   "outputs": [
    {
     "name": "stdout",
     "output_type": "stream",
     "text": [
      "\t 16 \t 0.0000 \t -0.12 \t PRHCT\n",
      "\t 1 \t 0.0000 \t -1.28 \t DIABETES-NO\n",
      "\t 0 \t 0.0000 \t 1.49 \t DIABETES-INSULIN\n",
      "\t 13 \t 0.0000 \t 2.59 \t NURNINFEC-1\n",
      "\t 4 \t 0.0000 \t -1.26 \t DISCHDEST-Home\n",
      "\t 17 \t 0.0000 \t 2.57 \t URNINFEC-No Complication\n",
      "\t 12 \t 0.0000 \t -2.57 \t NURNINFEC-0\n",
      "\t 15 \t 0.0000 \t -1.25 \t PRALBUM\n",
      "\t 7 \t 0.0000 \t 1.23 \t DISCHDEST-Skilled Care, Not Home\n",
      "\t 5 \t 0.0000 \t 1.04 \t DISCHDEST-Rehab\n",
      "\t 2 \t 0.0000 \t 0.71 \t DIABETES-NON-INSULIN\n",
      "\t 3 \t 0.0117 \t 0.88 \t DISCHDEST-Facility Which was Home\n",
      "\t 6 \t 0.0152 \t 1.14 \t DISCHDEST-Separate Acute Care\n",
      "\t 8 \t 0.2484 \t 1.21 \t DISCHDEST-Unknown\n",
      "\t 10 \t 0.6481 \t -0.00 \t DPRALBUM\n",
      "\t 11 \t 0.6922 \t 0.00 \t DPRHCT\n",
      "\t 9 \t 0.9018 \t -0.13 \t DISCHDEST-Unskilled Facility Not Home\n",
      "\t 14 \t 0.9992 \t -15.74 \t NURNINFEC-2\n"
     ]
    }
   ],
   "source": [
    "fitResults = fitResults.sort_values(by='pValue')\n",
    "for index, row in fitResults.iterrows():\n",
    "    print('\\t %d \\t %.4f \\t %.2f \\t %s' % (index, row['pValue'],row['coeff'], row['colName']))  "
   ]
  },
  {
   "cell_type": "code",
   "execution_count": 6,
   "metadata": {
    "collapsed": false
   },
   "outputs": [
    {
     "data": {
      "text/html": [
       "<div>\n",
       "<table border=\"1\" class=\"dataframe\">\n",
       "  <thead>\n",
       "    <tr style=\"text-align: right;\">\n",
       "      <th></th>\n",
       "      <th>colName</th>\n",
       "      <th>pValue</th>\n",
       "      <th>coeff</th>\n",
       "    </tr>\n",
       "  </thead>\n",
       "  <tbody>\n",
       "    <tr>\n",
       "      <th>16</th>\n",
       "      <td>PRHCT</td>\n",
       "      <td>6.605492e-34</td>\n",
       "      <td>-0.118061</td>\n",
       "    </tr>\n",
       "    <tr>\n",
       "      <th>1</th>\n",
       "      <td>DIABETES-NO</td>\n",
       "      <td>1.993851e-33</td>\n",
       "      <td>-1.275105</td>\n",
       "    </tr>\n",
       "    <tr>\n",
       "      <th>0</th>\n",
       "      <td>DIABETES-INSULIN</td>\n",
       "      <td>9.580115e-33</td>\n",
       "      <td>1.494727</td>\n",
       "    </tr>\n",
       "    <tr>\n",
       "      <th>13</th>\n",
       "      <td>NURNINFEC-1</td>\n",
       "      <td>5.206892e-32</td>\n",
       "      <td>2.585926</td>\n",
       "    </tr>\n",
       "    <tr>\n",
       "      <th>4</th>\n",
       "      <td>DISCHDEST-Home</td>\n",
       "      <td>7.135653e-32</td>\n",
       "      <td>-1.264956</td>\n",
       "    </tr>\n",
       "    <tr>\n",
       "      <th>17</th>\n",
       "      <td>URNINFEC-No Complication</td>\n",
       "      <td>8.151353e-32</td>\n",
       "      <td>2.573587</td>\n",
       "    </tr>\n",
       "    <tr>\n",
       "      <th>12</th>\n",
       "      <td>NURNINFEC-0</td>\n",
       "      <td>8.151353e-32</td>\n",
       "      <td>-2.573587</td>\n",
       "    </tr>\n",
       "    <tr>\n",
       "      <th>15</th>\n",
       "      <td>PRALBUM</td>\n",
       "      <td>2.623961e-30</td>\n",
       "      <td>-1.249008</td>\n",
       "    </tr>\n",
       "    <tr>\n",
       "      <th>7</th>\n",
       "      <td>DISCHDEST-Skilled Care, Not Home</td>\n",
       "      <td>7.621395e-23</td>\n",
       "      <td>1.228765</td>\n",
       "    </tr>\n",
       "    <tr>\n",
       "      <th>5</th>\n",
       "      <td>DISCHDEST-Rehab</td>\n",
       "      <td>1.243691e-07</td>\n",
       "      <td>1.038261</td>\n",
       "    </tr>\n",
       "    <tr>\n",
       "      <th>2</th>\n",
       "      <td>DIABETES-NON-INSULIN</td>\n",
       "      <td>2.575588e-06</td>\n",
       "      <td>0.707065</td>\n",
       "    </tr>\n",
       "    <tr>\n",
       "      <th>3</th>\n",
       "      <td>DISCHDEST-Facility Which was Home</td>\n",
       "      <td>1.173143e-02</td>\n",
       "      <td>0.878172</td>\n",
       "    </tr>\n",
       "    <tr>\n",
       "      <th>6</th>\n",
       "      <td>DISCHDEST-Separate Acute Care</td>\n",
       "      <td>1.518013e-02</td>\n",
       "      <td>1.141304</td>\n",
       "    </tr>\n",
       "    <tr>\n",
       "      <th>8</th>\n",
       "      <td>DISCHDEST-Unknown</td>\n",
       "      <td>2.483759e-01</td>\n",
       "      <td>1.212021</td>\n",
       "    </tr>\n",
       "    <tr>\n",
       "      <th>10</th>\n",
       "      <td>DPRALBUM</td>\n",
       "      <td>6.481321e-01</td>\n",
       "      <td>-0.002455</td>\n",
       "    </tr>\n",
       "    <tr>\n",
       "      <th>11</th>\n",
       "      <td>DPRHCT</td>\n",
       "      <td>6.922356e-01</td>\n",
       "      <td>0.001924</td>\n",
       "    </tr>\n",
       "    <tr>\n",
       "      <th>9</th>\n",
       "      <td>DISCHDEST-Unskilled Facility Not Home</td>\n",
       "      <td>9.017547e-01</td>\n",
       "      <td>-0.125231</td>\n",
       "    </tr>\n",
       "    <tr>\n",
       "      <th>14</th>\n",
       "      <td>NURNINFEC-2</td>\n",
       "      <td>9.991699e-01</td>\n",
       "      <td>-15.735200</td>\n",
       "    </tr>\n",
       "  </tbody>\n",
       "</table>\n",
       "</div>"
      ],
      "text/plain": [
       "                                  colName        pValue      coeff\n",
       "16                                  PRHCT  6.605492e-34  -0.118061\n",
       "1                             DIABETES-NO  1.993851e-33  -1.275105\n",
       "0                        DIABETES-INSULIN  9.580115e-33   1.494727\n",
       "13                            NURNINFEC-1  5.206892e-32   2.585926\n",
       "4                          DISCHDEST-Home  7.135653e-32  -1.264956\n",
       "17               URNINFEC-No Complication  8.151353e-32   2.573587\n",
       "12                            NURNINFEC-0  8.151353e-32  -2.573587\n",
       "15                                PRALBUM  2.623961e-30  -1.249008\n",
       "7        DISCHDEST-Skilled Care, Not Home  7.621395e-23   1.228765\n",
       "5                         DISCHDEST-Rehab  1.243691e-07   1.038261\n",
       "2                    DIABETES-NON-INSULIN  2.575588e-06   0.707065\n",
       "3       DISCHDEST-Facility Which was Home  1.173143e-02   0.878172\n",
       "6           DISCHDEST-Separate Acute Care  1.518013e-02   1.141304\n",
       "8                       DISCHDEST-Unknown  2.483759e-01   1.212021\n",
       "10                               DPRALBUM  6.481321e-01  -0.002455\n",
       "11                                 DPRHCT  6.922356e-01   0.001924\n",
       "9   DISCHDEST-Unskilled Facility Not Home  9.017547e-01  -0.125231\n",
       "14                            NURNINFEC-2  9.991699e-01 -15.735200"
      ]
     },
     "execution_count": 6,
     "metadata": {},
     "output_type": "execute_result"
    }
   ],
   "source": [
    "fitResults"
   ]
  },
  {
   "cell_type": "code",
   "execution_count": null,
   "metadata": {
    "collapsed": true
   },
   "outputs": [],
   "source": []
  }
 ],
 "metadata": {
  "kernelspec": {
   "display_name": "Python 3",
   "language": "python",
   "name": "python3"
  },
  "language_info": {
   "codemirror_mode": {
    "name": "ipython",
    "version": 3
   },
   "file_extension": ".py",
   "mimetype": "text/x-python",
   "name": "python",
   "nbconvert_exporter": "python",
   "pygments_lexer": "ipython3",
   "version": "3.5.2"
  }
 },
 "nbformat": 4,
 "nbformat_minor": 1
}
