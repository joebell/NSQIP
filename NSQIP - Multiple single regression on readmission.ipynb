{
 "cells": [
  {
   "cell_type": "markdown",
   "metadata": {},
   "source": [
    "Initially, we'll just look at all single predictors of 30-day readmission."
   ]
  },
  {
   "cell_type": "code",
   "execution_count": 1,
   "metadata": {
    "collapsed": false
   },
   "outputs": [],
   "source": [
    "import pandas as pd\n",
    "import numpy as np\n",
    "import sklearn as skl\n",
    "from sklearn import preprocessing as pp\n",
    "from sklearn.preprocessing import Imputer\n",
    "import statsmodels.discrete.discrete_model as sm\n",
    "import math\n",
    "import warnings \n",
    "warnings.filterwarnings(\"ignore\") # Ignore annoying warnings\n",
    "\n",
    "dataDir = './Data/'\n",
    "mungedFileName = dataDir + 'mungedData.pkl'\n",
    "\n",
    "cdf = pd.read_pickle(mungedFileName)"
   ]
  },
  {
   "cell_type": "markdown",
   "metadata": {},
   "source": [
    "\n",
    "$$P(x) = \\frac{1}{1 + e^{-(\\beta_0 + \\sum_{i}\\beta_i x_i)}} $$"
   ]
  },
  {
   "cell_type": "markdown",
   "metadata": {},
   "source": [
    "There are a few different variables in this dataset that include readmission data. READMISSION is depricated, but still has data for older records. READMISSION1 is the current variable. It makes sense to try to merge these to be our regression target. No records have data for both. Of the 19533 records, 4537 don't have readmission data recorded either way. To start we'll just assume that these patients were not readmitted."
   ]
  },
  {
   "cell_type": "code",
   "execution_count": 2,
   "metadata": {
    "collapsed": false
   },
   "outputs": [],
   "source": [
    "# y is True if any readmission variable is hot. It's NaN if all variables are null.\n",
    "y = cdf[['READMISSION1-Yes','READMISSION-Yes']].any(1)\n",
    "y[cdf[['READMISSION1-Yes','READMISSION-Yes']].isnull().all(1)] = np.nan\n",
    "\n",
    "# Would like to drop rows with NaN y data\n",
    "nanIdx = np.isnan(y).nonzero()\n",
    "y = np.delete(y.ravel(), nanIdx ,axis=0)\n",
    "cdf.drop(cdf.index[nanIdx], axis=0, inplace=True)\n",
    "\n",
    "# For now we'll impute those missing values...\n",
    "# imp = Imputer(missing_values='NaN', strategy='mean', axis=0, verbose=False)\n",
    "# imp.fit(y.reshape(-1,1))\n",
    "# y = imp.transform(y.reshape(-1,1))"
   ]
  },
  {
   "cell_type": "markdown",
   "metadata": {},
   "source": [
    "Now we need to make a predictor array to use for logistic regression, dropping our source data columns in the process. We also need to drop variables that will be post-hoc predictors. For example, patients that get reoperated will of course be readmitted, so this isn't a helpful predictor. Because dropping tons of variables is cumbersome, we include an option to just keep explicitly named columns. Note that after dropping rows with NaN in y, some variables no longer have more than one unique value. We drop these explicitly if necessary."
   ]
  },
  {
   "cell_type": "code",
   "execution_count": 3,
   "metadata": {
    "collapsed": false
   },
   "outputs": [],
   "source": [
    "# y is True if any readmission variable is hot. It's NaN if all variables are null.\n",
    "y = cdf[['READMISSION1-Yes','READMISSION-Yes']].any(1)\n",
    "y[cdf[['READMISSION1-Yes','READMISSION-Yes']].isnull().all(1)] = np.nan\n",
    "\n",
    "# Would like to drop rows with NaN y data\n",
    "nanIdx = np.isnan(y).nonzero()\n",
    "y = np.delete(y.ravel(), nanIdx ,axis=0)\n",
    "cdf.drop(cdf.index[nanIdx], axis=0, inplace=True)\n",
    "\n",
    "# Either drop or keep columns from cdf\n",
    "dropOrKeep = False\n",
    "if dropOrKeep:\n",
    "    dropList = ['READMISSION-','READMISSION1-','REOPERATION-',\\\n",
    "                'REOPERATION1-','NWNDINFD-','WNDINFD-','DEHIS-','NDEHIS-',\\\n",
    "                'MORBPROB','NSUPINFEC-','SUPINFEC-','RETORPODAYS','OTHSYSEP',\\\n",
    "                'NOTHSYSEP-']\n",
    "    colsToDrop = [colName for colName in cdf.columns if np.any([dropItem in colName for dropItem in dropList])]\n",
    "    cdf = cdf.drop(colsToDrop,1)\n",
    "    print('Dropped some variables: ')\n",
    "    print(colsToDrop)\n",
    "    # These are being dropped automatically by Imputer\n",
    "    colsToDrop = [ 4,5,6,16,17,18,137,191,192,193,194,195,212,213,214,236,237,238,\\\n",
    "                  239,284,285,316,317,350,351,411,412,413,414,505,506,507,514,517]\n",
    "    cdf = cdf.drop(cdf.columns[colsToDrop],axis=1)\n",
    "    \n",
    "else:\n",
    "    # Dropping these columns is super-cumbersome. Let's find a list to keep\n",
    "    # Need to add in RBC and FNSTATUS1\n",
    "    keepList = ['SEX', 'RACE_NEW','ETHNICITY_HISPANIC','AGE','ANESTHES','HEIGHT','WEIGHT','DIABETES',\\\n",
    "                'SMOKE','PACKS','ETOH','DYSPNEA','FNSTATUS2','VENTILAT','HXCOPD','CPNEUMON',\\\n",
    "                'HXCHF','HXMI','PRVPCI','PRVPCS','HXANGINA','HYPERMED','HXPVD','RENAFAIL','DIALYSIS',\\\n",
    "                'CVA','DISCANCR','WNDINF','STEROID','WTLOSS','BLEEDDIS','PROPER30','ASACLASS',\\\n",
    "                'ASCITES','PRSODM','PRBUN','PRCREAT','PRALBUM','PRBILI','PRSGOT','PRALKPH','PRWBC'\\\n",
    "                'PRHCT','PRPLATE','PRPTT','PRINR','PRPT','PGY']\n",
    "    colsToKeep = [colName for colName in cdf.columns if np.any([keepItem in colName for keepItem in keepList])]\n",
    "    cdf = cdf[colsToKeep]\n",
    "    \n",
    "# Impute missing data in cdf\n",
    "colNames = cdf.columns\n",
    "imp = Imputer(missing_values='NaN', strategy='mean', axis=0, verbose=True)\n",
    "imp.fit(cdf)\n",
    "cdf = imp.transform(cdf)\n",
    "cdf = pd.DataFrame(cdf, columns=colNames)"
   ]
  },
  {
   "cell_type": "markdown",
   "metadata": {},
   "source": [
    "To start, let's just cycle through each variable independently, printing out variables that have significant (before multiple comparisons corrections) predictive value. "
   ]
  },
  {
   "cell_type": "code",
   "execution_count": 4,
   "metadata": {
    "collapsed": false
   },
   "outputs": [
    {
     "name": "stdout",
     "output_type": "stream",
     "text": [
      "*** ANESTHES-Monitored Anesthesia Care: Exception ***\n",
      "*** CPNEUMON-Yes: Exception ***\n",
      "*** DCNSCVA-3.0: Exception ***\n",
      "*** DIABETES-ORAL: Exception ***\n"
     ]
    }
   ],
   "source": [
    "fitResults = pd.DataFrame(np.nan, index=[], columns=['colName','pValue','coeff'])\n",
    "\n",
    "for colName in cdf.columns:\n",
    "\n",
    "    # colName = 'AGE'\n",
    "    X = cdf[colName]\n",
    "    X = np.asarray(X).reshape(-1,1)\n",
    "    X = np.concatenate((X, np.ones([X.shape[0],1])),axis=1) # Add an intercept term\n",
    "\n",
    "    try:\n",
    "        logit = sm.Logit(y, X)\n",
    "        smresult = logit.fit(disp=False)\n",
    "        # print(smresult.summary())\n",
    "        # if smresult.pvalues[0] < 0.05:\n",
    "        #    print('Var: ' + colName + '  logP = %.2f    Coeff = %.2f' % (math.log10(smresult.pvalues[0]), \\\n",
    "        #                                                                   smresult.params[0]))\n",
    "        fitResults = fitResults.append(pd.Series({'colName': colName, \\\n",
    "                                                  'pValue': smresult.pvalues[0], \\\n",
    "                                                  'coeff': smresult.params[0]}),ignore_index=True)\n",
    "        # else:\n",
    "        #    print('Var: ' + colName)\n",
    "            \n",
    "    except:\n",
    "        print('*** ' + colName + ': Exception ***')\n"
   ]
  },
  {
   "cell_type": "code",
   "execution_count": 5,
   "metadata": {
    "collapsed": false
   },
   "outputs": [
    {
     "name": "stdout",
     "output_type": "stream",
     "text": [
      "                                              colName        pValue      coeff\n",
      "92                        WNDINFD-Deep Incisional SSI  1.201105e-56  -4.105339\n",
      "64                                         NWNDINFD-0  1.201105e-56   4.105339\n",
      "34                                        DIABETES-NO  1.993851e-33  -1.275105\n",
      "33                                   DIABETES-INSULIN  9.580115e-33   1.494727\n",
      "67                                            PRALBUM  2.623961e-30  -1.249008\n",
      "0                                                 AGE  2.193733e-24   0.029527\n",
      "36                                       DIALYSIS-Yes  3.280834e-19   2.184289\n",
      "56                      FNSTATUS2-Partially Dependent  5.127178e-17   1.415539\n",
      "71                                            PRCREAT  7.820057e-16   0.268237\n",
      "70                                              PRBUN  6.906218e-15   0.033526\n",
      "68                                            PRALKPH  3.936041e-13   0.008629\n",
      "55                              FNSTATUS2-Independent  1.683331e-12  -1.132363\n",
      "50                                         DYSPNEA-No  1.851035e-11  -1.188554\n",
      "49                          DYSPNEA-MODERATE EXERTION  3.464335e-09   1.112311\n",
      "76                                              PRPTT  2.171460e-08   0.043210\n",
      "62                                          HXPVD-Yes  2.061502e-06   1.864183\n",
      "35                               DIABETES-NON-INSULIN  2.575588e-06   0.707065\n",
      "79                                         PRVPCI-Yes  3.152885e-06   1.714523\n",
      "75                                               PRPT  6.640261e-06   0.173553\n",
      "47                                           DWNDINFD  3.135352e-05   0.208929\n",
      "72                                              PRINR  4.217075e-05   0.544412\n",
      "86                      RACE_NEW-Unknown/Not Reported  4.287903e-05  -0.612021\n",
      "48                                    DYSPNEA-AT REST  3.614112e-04   1.731427\n",
      "78                                             PRSODM  3.686760e-04  -0.066399\n",
      "52                         ETHNICITY_HISPANIC-Unknown  4.984680e-04  -0.577960\n",
      "26                             CNSCVA-No Complication  5.916913e-04   4.210824\n",
      "63                                          NCNSCVA-0  5.916913e-04   4.210824\n",
      "42                                             DPRINR  2.389412e-03   0.015865\n",
      "87                                     RACE_NEW-White  2.523003e-03   0.326565\n",
      "51                              ETHNICITY_HISPANIC-No  5.181587e-03   0.363208\n",
      "..                                                ...           ...        ...\n",
      "19  ANESTHES_OTHER-Regional,Monitored Anesthesia C...  5.979589e-01  -1.672523\n",
      "37                                           DPRALBUM  6.481321e-01  -0.002455\n",
      "38                                           DPRALKPH  6.531344e-01  -0.002354\n",
      "12                               ANESTHES_OTHER-Local  6.835199e-01  -0.178739\n",
      "25                     ANESTHES_OTHER-Spinal,Regional  6.887728e-01  -1.684219\n",
      "9                             ANESTHES_OTHER-Epidural  6.887728e-01  -1.684219\n",
      "53                             ETHNICITY_HISPANIC-Yes  6.909093e-01   0.072899\n",
      "46                                            DPRSGOT  6.999873e-01  -0.001952\n",
      "77                                             PRSGOT  7.377564e-01   0.000910\n",
      "74                                            PRPLATE  7.453769e-01  -0.000264\n",
      "15  ANESTHES_OTHER-Monitored Anesthesia Care/IV Se...  7.552760e-01  -0.203144\n",
      "13  ANESTHES_OTHER-Local,Monitored Anesthesia Care...  7.785919e-01  -1.693050\n",
      "61                                           HXMI-Yes  8.016792e-01  -5.765030\n",
      "2                                    ANESTHES-General  8.062898e-01  -0.034380\n",
      "17                            ANESTHES_OTHER-Regional  8.588990e-01  -0.058732\n",
      "23                        ANESTHES_OTHER-Spinal,Local  8.594947e-01  -1.698553\n",
      "60                                       HXANGINA-Yes  8.746300e-01  -7.536118\n",
      "81          RACE_NEW-American Indian or Alaska Native  8.924590e-01  -0.068538\n",
      "39                                            DPRBILI  8.997205e-01   0.000627\n",
      "24  ANESTHES_OTHER-Spinal,Monitored Anesthesia Car...  9.005401e-01  -1.700423\n",
      "22                     ANESTHES_OTHER-Spinal,Epidural  9.005401e-01  -1.700423\n",
      "20                      ANESTHES_OTHER-Regional,Other  9.005401e-01  -1.700423\n",
      "14                         ANESTHES_OTHER-Local,Other  9.005401e-01  -1.700423\n",
      "10                   ANESTHES_OTHER-Epidural,Regional  9.005401e-01  -1.700423\n",
      "43                                           DPRPLATE  9.776895e-01   0.000140\n",
      "30                                        DCNSCVA-0.0  9.827003e-01 -52.830506\n",
      "1                                   ANESTHES-Epidural  9.901923e-01 -13.293327\n",
      "6                                      ANESTHES-Other  9.980507e-01 -17.203131\n",
      "5                                       ANESTHES-None  9.991699e-01 -15.735200\n",
      "3                                      ANESTHES-Local  1.000000e+00 -51.209866\n",
      "\n",
      "[93 rows x 3 columns]\n"
     ]
    }
   ],
   "source": [
    "fitResults = fitResults.sort_values(by='pValue') \n",
    "print(fitResults)"
   ]
  },
  {
   "cell_type": "code",
   "execution_count": null,
   "metadata": {
    "collapsed": false
   },
   "outputs": [],
   "source": []
  },
  {
   "cell_type": "code",
   "execution_count": null,
   "metadata": {
    "collapsed": true
   },
   "outputs": [],
   "source": []
  }
 ],
 "metadata": {
  "kernelspec": {
   "display_name": "Python 3",
   "language": "python",
   "name": "python3"
  },
  "language_info": {
   "codemirror_mode": {
    "name": "ipython",
    "version": 3
   },
   "file_extension": ".py",
   "mimetype": "text/x-python",
   "name": "python",
   "nbconvert_exporter": "python",
   "pygments_lexer": "ipython3",
   "version": "3.5.2"
  }
 },
 "nbformat": 4,
 "nbformat_minor": 1
}
