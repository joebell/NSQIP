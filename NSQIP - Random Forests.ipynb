{
 "cells": [
  {
   "cell_type": "markdown",
   "metadata": {},
   "source": [
    "# NSQIP - Random Forests\n",
    "---\n",
    "\n",
    "\n",
    "\n",
    "We'll use Random Forests here to build a classifier. The idea behind Random Forests is to fit many decision trees to bootstrap samples of the data. This prevents over-fitting. Our strategy will be:\n",
    " - Divide the data into training and testing sets.\n",
    " - Choose Random Forest hyper-parameters via cross validation.\n",
    " - Fit a Random Forest to the training set with the best hyper-parameters.\n",
    " - Check performance on the testing set."
   ]
  },
  {
   "cell_type": "markdown",
   "metadata": {},
   "source": [
    "Begin with imports of key libraries, and load the data."
   ]
  },
  {
   "cell_type": "code",
   "execution_count": 1,
   "metadata": {
    "collapsed": true
   },
   "outputs": [],
   "source": [
    "import pandas as pd\n",
    "import numpy as np\n",
    "import matplotlib.pyplot as plt\n",
    "from sklearn.preprocessing import Imputer\n",
    "from sklearn.preprocessing import StandardScaler\n",
    "from sklearn.cross_validation import cross_val_score\n",
    "from sklearn.grid_search import GridSearchCV\n",
    "from sklearn.ensemble import RandomForestClassifier\n",
    "import sklearn.metrics as sklm\n",
    "import random\n",
    "import warnings \n",
    "import math\n",
    "# warnings.filterwarnings(\"ignore\") # Ignore annoying warnings\n",
    "\n",
    "dataDir = './Data/'\n",
    "mungedFileName = dataDir + 'mungedData.pkl'\n",
    "\n",
    "cdf = pd.read_pickle(mungedFileName)"
   ]
  },
  {
   "cell_type": "markdown",
   "metadata": {},
   "source": [
    "Next, determine which response and predictor columns we want to use."
   ]
  },
  {
   "cell_type": "code",
   "execution_count": 2,
   "metadata": {
    "collapsed": false
   },
   "outputs": [],
   "source": [
    "# y is True for bad things happening.\n",
    "# 'readmission', 'reoperation', 'morbidity', 'mortality', 'infection'\n",
    "from outcomeVariables import getOutcomeVariable\n",
    "yFull = getOutcomeVariable(cdf, 'morbidity')\n",
    "\n",
    "\n",
    "# Drop rows with NaN outcome y data\n",
    "nanIdx = np.isnan(yFull).nonzero()\n",
    "yFull = np.delete(yFull.ravel(), nanIdx ,axis=0).reshape(-1,1)\n",
    "cdf.drop(cdf.index[nanIdx], axis=0, inplace=True)\n",
    "\n",
    "# Add a BMI column\n",
    "cdf.loc[:,'BMI'] = cdf.loc[:,'WEIGHT']*(1/2.20462)/(cdf.loc[:,'HEIGHT']*(1/39.3701)*\\\n",
    "                                                    cdf.loc[:,'HEIGHT']*(1/39.3701))\n",
    "\n",
    "# List of predictors to keep\n",
    "keepList1 = ['SEX', 'RACE_NEW','ETHNICITY_HISPANIC','AGE','ANESTHES','HEIGHT','WEIGHT','BMI',\\\n",
    "             'DIABETES','SMOKE','PACKS','ETOH','DYSPNEA','FNSTATUS2','VENTILAT',\\\n",
    "             'HXCOPD','CPNEUMON','HXCHF','HXMI','PRVPCI','PRVPCS','HXANGINA','HYPERMED',\\\n",
    "             'HXPVD','RENAFAIL','DIALYSIS','CVA','DISCANCR','WNDINF-','STEROID','WTLOSS',\\\n",
    "             'BLEEDDIS','PROPER30','ASACLASS','FNSTATUS1','RBC']\n",
    "# An additional list of predictors that might be interesting\n",
    "keepList2 = ['ASCITES','PRSODM','PRBUN','PRCREAT','PRALBUM','PRBILI','PRSGOT','PRALKPH',\\\n",
    "             'PRWBC','PRHCT','PRPLATE','PRPTT','PRINR','PRPT','PGY','ESOVAR','RESTPAIN',\\\n",
    "             'HXTIA','TRANSFUS','CHEMO','RADIO','PRSEPSIS','PREGNANCY','EMERGNCY',\\\n",
    "             'OPTIME','MALLAMP']\n",
    "\n",
    "# Combine the lists\n",
    "keepList = keepList1 + keepList2\n",
    "# Make a list of any column in cdf whose name starts with a string in keepList\n",
    "colsToKeep = [colName for colName in cdf.columns \\\n",
    "              if np.any([colName.startswith(keepItem) for keepItem in keepList])]\n",
    "cdf = cdf[colsToKeep]"
   ]
  },
  {
   "cell_type": "markdown",
   "metadata": {},
   "source": [
    "We will drop predictors that don't have any variance. (This can happen because we already dropped a bunch of cases for which our outcomes are not recorded.)\n",
    "\n",
    "These regression models will fail on missing data, so we'll impute missing data for each column by setting it equal to the mean.\n",
    "\n",
    "Since our regularization penalty is based on the size of the coefficients, we need to scale each column to have equal mean and variance. We don't need to add an intercept column; sklearn gives us an intercept as a fit option."
   ]
  },
  {
   "cell_type": "code",
   "execution_count": 3,
   "metadata": {
    "collapsed": false
   },
   "outputs": [],
   "source": [
    "# Protect against only having one value in the columns.\n",
    "# (Imputer will drop these columns, and then we won't know the names...)\n",
    "for colName in cdf.columns:\n",
    "    colData = cdf[colName]\n",
    "    uniques = np.unique(colData)\n",
    "    nonNanUniques = [item for item in uniques if ~np.isnan(item)]\n",
    "    if len(nonNanUniques) < 2:\n",
    "        print('Not enough variance, dropping column: %s' % colName)\n",
    "        cdf.drop(colName, axis=1, inplace=True)\n",
    "\n",
    "# Impute missing data in cdf\n",
    "colNames = cdf.columns\n",
    "imp = Imputer(missing_values='NaN', strategy='mean', axis=0, verbose=True)\n",
    "imp.fit(cdf)\n",
    "X = imp.transform(cdf)\n",
    "X = pd.DataFrame(X, columns=colNames)\n",
    "\n",
    "# No need to scale the columns for Random Forests\n",
    "# X = StandardScaler().fit_transform(X)\n",
    "# scaledX = pd.DataFrame(X, columns=colNames)\n",
    "scaledX = X"
   ]
  },
  {
   "cell_type": "markdown",
   "metadata": {},
   "source": [
    "We break the data into separate fractions for training (2/3) and testing (1/3). All of our fitting and cross-validation will be done on the training set. The testing set will be held out to evaluate the final model performance."
   ]
  },
  {
   "cell_type": "code",
   "execution_count": 4,
   "metadata": {
    "collapsed": false
   },
   "outputs": [],
   "source": [
    "# Split for validation\n",
    "from sklearn.cross_validation import train_test_split\n",
    "X_train, X_test, y_train, y_test = train_test_split(scaledX, yFull, test_size=0.33)\n",
    "y_train = y_train.reshape(-1,)\n",
    "y_test = y_test.reshape(-1,)"
   ]
  },
  {
   "cell_type": "markdown",
   "metadata": {
    "collapsed": false
   },
   "source": []
  },
  {
   "cell_type": "code",
   "execution_count": 5,
   "metadata": {
    "collapsed": false
   },
   "outputs": [
    {
     "name": "stdout",
     "output_type": "stream",
     "text": [
      "Fitting 10 folds for each of 48 candidates, totalling 480 fits\n"
     ]
    },
    {
     "name": "stderr",
     "output_type": "stream",
     "text": [
      "[Parallel(n_jobs=1)]: Done  49 tasks       | elapsed:  3.7min\n",
      "[Parallel(n_jobs=1)]: Done 199 tasks       | elapsed: 41.0min\n",
      "[Parallel(n_jobs=1)]: Done 449 tasks       | elapsed: 95.8min\n",
      "[Parallel(n_jobs=1)]: Done 480 out of 480 | elapsed: 104.6min finished\n"
     ]
    },
    {
     "data": {
      "text/plain": [
       "GridSearchCV(cv=10, error_score='raise',\n",
       "       estimator=RandomForestClassifier(bootstrap=True, class_weight=None, criterion='gini',\n",
       "            max_depth=None, max_features='auto', max_leaf_nodes=None,\n",
       "            min_samples_leaf=1, min_samples_split=2,\n",
       "            min_weight_fraction_leaf=0.0, n_estimators=1000, n_jobs=1,\n",
       "            oob_score=False, random_state=None, verbose=0,\n",
       "            warm_start=False),\n",
       "       fit_params={}, iid=True, n_jobs=1,\n",
       "       param_grid=[{'criterion': ['gini', 'entropy'], 'max_depth': [1, 2, 5, 10, 20, 50], 'oob_score': [True, False], 'max_features': ['sqrt', 'log2']}],\n",
       "       pre_dispatch='2*n_jobs', refit=True, scoring='roc_auc', verbose=1)"
      ]
     },
     "execution_count": 5,
     "metadata": {},
     "output_type": "execute_result"
    }
   ],
   "source": [
    "rfc = RandomForestClassifier(n_estimators=1000)\n",
    "tunedParam = 'max_depth'\n",
    "tuned_parameters = [{tunedParam: [1,2,5,10,20,50],\\\n",
    "                     'criterion': ['gini','entropy'],\\\n",
    "                     'max_features': ['sqrt','log2'],\\\n",
    "                     'oob_score': [True, False]}]\n",
    "gscv = GridSearchCV(rfc,tuned_parameters,cv=10,scoring='roc_auc',verbose=1)\n",
    "gscv.fit(X_train, y_train)"
   ]
  },
  {
   "cell_type": "code",
   "execution_count": 6,
   "metadata": {
    "collapsed": false
   },
   "outputs": [
    {
     "name": "stdout",
     "output_type": "stream",
     "text": [
      "Best Params: \n",
      "{'criterion': 'entropy', 'max_depth': 10, 'oob_score': True, 'max_features': 'sqrt'}\n"
     ]
    },
    {
     "data": {
      "image/png": "[encoded data removed]",
      "text/plain": [
       "<matplotlib.figure.Figure at 0x1200835f8>"
      ]
     },
     "metadata": {},
     "output_type": "display_data"
    }
   ],
   "source": [
    "gscv.grid_scores_\n",
    "print('Best Params: ')\n",
    "print(gscv.best_params_)\n",
    "means = [mean_score for params, mean_score, scores in gscv.grid_scores_]\n",
    "Cs = [params[tunedParam] for params, mean_score, scores in gscv.grid_scores_]\n",
    "plt.plot(np.log10(Cs), means,'bo')\n",
    "bestC = gscv.best_params_[tunedParam]\n",
    "ylims = plt.gca().get_ylim()\n",
    "plt.plot(np.log10([bestC, bestC]),ylims,color='k',ls=':')\n",
    "plt.ylim(ylims)\n",
    "plt.xlabel('$Log_{10}($' + tunedParam + '$)$')\n",
    "plt.ylabel('Cross-validated AUC')\n",
    "plt.show()"
   ]
  },
  {
   "cell_type": "markdown",
   "metadata": {},
   "source": [
    "Plot ROC curves for in-sample training data, and test data, for both the full and reduced model. The test data here was not used to fit the model at all, so it should approximate how our model will perform prospectively on new data. Furthermore, if we've done a good job regularizing, the in-sample performance should be pretty close to the test data performance."
   ]
  },
  {
   "cell_type": "code",
   "execution_count": 7,
   "metadata": {
    "collapsed": false
   },
   "outputs": [
    {
     "name": "stdout",
     "output_type": "stream",
     "text": [
      "In-sample ROC AUC = 0.937 \n",
      "Test ROC AUC = 0.793 \n"
     ]
    },
    {
     "data": {
      "image/png": "[encoded data removed]",
      "text/plain": [
       "<matplotlib.figure.Figure at 0x116596fd0>"
      ]
     },
     "metadata": {},
     "output_type": "display_data"
    }
   ],
   "source": [
    "# Plot an ROC curve for training\n",
    "plt.clf\n",
    "pred_train = gscv.predict_proba(X_train)[:,1]\n",
    "rocAUC_train = sklm.roc_auc_score(y_train,pred_train)\n",
    "print('In-sample ROC AUC = %.3f ' % rocAUC_train)\n",
    "fpr, tpr, _ = sklm.roc_curve(y_train, pred_train)\n",
    "plt.figure()\n",
    "plt.plot(fpr,tpr,label='In-sample')\n",
    "\n",
    "# Plot an ROC curve for test data\n",
    "pred_test = gscv.predict_proba(X_test)[:,1]\n",
    "rocAUC_test = sklm.roc_auc_score(y_test,pred_test)\n",
    "print('Test ROC AUC = %.3f ' % rocAUC_test)\n",
    "fpr, tpr, _ = sklm.roc_curve(y_test, pred_test)\n",
    "plt.plot(fpr,tpr,label='Test')\n",
    "\n",
    "# Format the ROC plot\n",
    "plt.plot([0, 1], [0, 1], color='k', linestyle=':')\n",
    "plt.xlim([0.0, 1.0])\n",
    "plt.ylim([0.0, 1.0])\n",
    "plt.xlabel('False Positive Rate')\n",
    "plt.ylabel('True Positive Rate')\n",
    "plt.gca().set_aspect('equal', adjustable='box')\n",
    "plt.legend(loc='lower right')\n",
    "plt.show()"
   ]
  },
  {
   "cell_type": "code",
   "execution_count": null,
   "metadata": {
    "collapsed": false
   },
   "outputs": [],
   "source": []
  },
  {
   "cell_type": "code",
   "execution_count": null,
   "metadata": {
    "collapsed": true
   },
   "outputs": [],
   "source": []
  }
 ],
 "metadata": {
  "kernelspec": {
   "display_name": "Python 3",
   "language": "python",
   "name": "python3"
  },
  "language_info": {
   "codemirror_mode": {
    "name": "ipython",
    "version": 3
   },
   "file_extension": ".py",
   "mimetype": "text/x-python",
   "name": "python",
   "nbconvert_exporter": "python",
   "pygments_lexer": "ipython3",
   "version": "3.5.2"
  }
 },
 "nbformat": 4,
 "nbformat_minor": 1
}
